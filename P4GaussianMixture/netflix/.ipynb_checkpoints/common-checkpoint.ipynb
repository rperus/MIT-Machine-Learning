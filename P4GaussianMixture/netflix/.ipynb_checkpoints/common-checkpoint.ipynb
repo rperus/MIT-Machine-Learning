{
 "cells": [
  {
   "cell_type": "code",
   "execution_count": 11,
   "id": "78f8d6bd",
   "metadata": {},
   "outputs": [],
   "source": [
    "\"\"\"Mixture model for collaborative filtering\"\"\"\n",
    "from typing import NamedTuple, Tuple\n",
    "import numpy as np\n",
    "from matplotlib import pyplot as plt\n",
    "from matplotlib.patches import Circle, Arc"
   ]
  },
  {
   "cell_type": "code",
   "execution_count": 12,
   "id": "b1e65ef4",
   "metadata": {},
   "outputs": [],
   "source": [
    "class GaussianMixture(NamedTuple):\n",
    "    \"\"\"Tuple holding a gaussian mixture\"\"\"\n",
    "    mu: np.ndarray  # (K, d) array - each row corresponds to a gaussian component mean\n",
    "    var: np.ndarray  # (K, ) array - each row corresponds to the variance of a component\n",
    "    p: np.ndarray  # (K, ) array = each row corresponds to the weight of a component"
   ]
  },
  {
   "cell_type": "code",
   "execution_count": 13,
   "id": "8d28aab3",
   "metadata": {},
   "outputs": [],
   "source": [
    "def init(X: np.ndarray, K: int,\n",
    "         seed: int = 0) -> Tuple[GaussianMixture, np.ndarray]:\n",
    "    \"\"\"Initializes the mixture model with random points as initial\n",
    "    means and uniform assingments\n",
    "\n",
    "    Args:\n",
    "        X: (n, d) array holding the data\n",
    "        K: number of components\n",
    "        seed: random seed\n",
    "\n",
    "    Returns:\n",
    "        mixture: the initialized gaussian mixture\n",
    "        post: (n, K) array holding the soft counts\n",
    "            for all components for all examples\n",
    "\n",
    "    \"\"\"\n",
    "    np.random.seed(seed)\n",
    "    n, _ = X.shape\n",
    "    p = np.ones(K) / K\n",
    "\n",
    "    # select K random points as initial means\n",
    "    mu = X[np.random.choice(n, K, replace=False)]\n",
    "    var = np.zeros(K)\n",
    "    # Compute variance\n",
    "    for j in range(K):\n",
    "        var[j] = ((X - mu[j])**2).mean()\n",
    "\n",
    "    mixture = GaussianMixture(mu, var, p)\n",
    "    post = np.ones((n, K)) / K\n",
    "\n",
    "    return mixture, post"
   ]
  },
  {
   "cell_type": "code",
   "execution_count": 14,
   "id": "a40fe3ce",
   "metadata": {},
   "outputs": [],
   "source": [
    "def plot(X: np.ndarray, mixture: GaussianMixture, post: np.ndarray,\n",
    "         title: str):\n",
    "    \"\"\"Plots the mixture model for 2D data\"\"\"\n",
    "    _, K = post.shape\n",
    "\n",
    "    percent = post / post.sum(axis=1).reshape(-1, 1)\n",
    "    fig, ax = plt.subplots()\n",
    "    ax.title.set_text(title)\n",
    "    ax.set_xlim((-20, 20))\n",
    "    ax.set_ylim((-20, 20))\n",
    "    r = 0.25\n",
    "    color = [\"r\", \"b\", \"k\", \"y\", \"m\", \"c\"]\n",
    "    for i, point in enumerate(X):\n",
    "        theta = 0\n",
    "        for j in range(K):\n",
    "            offset = percent[i, j] * 360\n",
    "            arc = Arc(point,\n",
    "                      r,\n",
    "                      r,\n",
    "                      0,\n",
    "                      theta,\n",
    "                      theta + offset,\n",
    "                      edgecolor=color[j])\n",
    "            ax.add_patch(arc)\n",
    "            theta += offset\n",
    "    for j in range(K):\n",
    "        mu = mixture.mu[j]\n",
    "        sigma = np.sqrt(mixture.var[j])\n",
    "        circle = Circle(mu, sigma, color=color[j], fill=False)\n",
    "        ax.add_patch(circle)\n",
    "        legend = \"mu = ({:0.2f}, {:0.2f})\\n stdv = {:0.2f}\".format(\n",
    "            mu[0], mu[1], sigma)\n",
    "        ax.text(mu[0], mu[1], legend)\n",
    "    plt.axis('equal')\n",
    "    plt.show()"
   ]
  },
  {
   "cell_type": "code",
   "execution_count": 15,
   "id": "ae8d5bcd",
   "metadata": {},
   "outputs": [],
   "source": [
    "def rmse(X, Y):\n",
    "    return np.sqrt(np.mean((X - Y)**2))\n"
   ]
  },
  {
   "cell_type": "code",
   "execution_count": 16,
   "id": "edb31a95",
   "metadata": {},
   "outputs": [],
   "source": [
    "def bic(X: np.ndarray, mixture: GaussianMixture,\n",
    "        log_likelihood: float) -> float:\n",
    "    \"\"\"Computes the Bayesian Information Criterion for a\n",
    "    mixture of gaussians\n",
    "\n",
    "    Args:\n",
    "        X: (n, d) array holding the data\n",
    "        mixture: a mixture of spherical gaussian\n",
    "        log_likelihood: the log-likelihood of the data\n",
    "\n",
    "    Returns:\n",
    "        float: the BIC for this mixture\n",
    "    \"\"\"\n",
    "    n = X.shape[0]    \n",
    "    p = 0\n",
    "    \n",
    "    for i in range(len(mixture)):\n",
    "        if i == 0:\n",
    "            p = mixture[i].shape[0] * mixture[i].shape[1] +p\n",
    "        else:\n",
    "            p = mixture[i].shape[0]   +p\n",
    "    p = p - 1\n",
    "    \n",
    "    return  log_likelihood - (p*np.log(n))/2.0\n",
    "    \n",
    "    \n",
    "    \n",
    "    "
   ]
  },
  {
   "cell_type": "code",
   "execution_count": 18,
   "id": "172fe922",
   "metadata": {},
   "outputs": [
    {
     "ename": "NameError",
     "evalue": "name 'X' is not defined",
     "output_type": "error",
     "traceback": [
      "\u001b[1;31m---------------------------------------------------------------------------\u001b[0m",
      "\u001b[1;31mNameError\u001b[0m                                 Traceback (most recent call last)",
      "\u001b[1;32m~\\AppData\\Local\\Temp/ipykernel_6684/3804614764.py\u001b[0m in \u001b[0;36m<module>\u001b[1;34m\u001b[0m\n\u001b[1;32m----> 1\u001b[1;33m \u001b[0mbic\u001b[0m\u001b[1;33m(\u001b[0m\u001b[0mX\u001b[0m\u001b[1;33m,\u001b[0m \u001b[0mmixture\u001b[0m\u001b[1;33m,\u001b[0m\u001b[0mlog_likelihood\u001b[0m\u001b[1;33m)\u001b[0m\u001b[1;33m\u001b[0m\u001b[1;33m\u001b[0m\u001b[0m\n\u001b[0m",
      "\u001b[1;31mNameError\u001b[0m: name 'X' is not defined"
     ]
    }
   ],
   "source": [
    "bic(X, mixture,log_likelihood)"
   ]
  },
  {
   "cell_type": "code",
   "execution_count": null,
   "id": "962d38f1",
   "metadata": {},
   "outputs": [],
   "source": []
  }
 ],
 "metadata": {
  "kernelspec": {
   "display_name": "Python 3 (ipykernel)",
   "language": "python",
   "name": "python3"
  },
  "language_info": {
   "codemirror_mode": {
    "name": "ipython",
    "version": 3
   },
   "file_extension": ".py",
   "mimetype": "text/x-python",
   "name": "python",
   "nbconvert_exporter": "python",
   "pygments_lexer": "ipython3",
   "version": "3.8.12"
  }
 },
 "nbformat": 4,
 "nbformat_minor": 5
}
