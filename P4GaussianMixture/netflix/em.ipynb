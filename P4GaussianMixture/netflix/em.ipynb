{
 "cells": [
  {
   "cell_type": "code",
   "execution_count": null,
   "id": "8611ad12",
   "metadata": {},
   "outputs": [],
   "source": [
    "from typing import Tuple\n",
    "import numpy as np\n",
    "from scipy.special import logsumexp\n",
    "from common import GaussianMixture\n"
   ]
  },
  {
   "cell_type": "code",
   "execution_count": null,
   "id": "6cc8d7f1",
   "metadata": {},
   "outputs": [],
   "source": []
  },
  {
   "cell_type": "code",
   "execution_count": null,
   "id": "0c1f7837",
   "metadata": {},
   "outputs": [],
   "source": []
  },
  {
   "cell_type": "code",
   "execution_count": null,
   "id": "a8055bb7",
   "metadata": {},
   "outputs": [],
   "source": [
    "def estep(X: np.ndarray, mixture: GaussianMixture) -> Tuple[np.ndarray, float]:\n",
    "    \n",
    "    mu, var, pi = mixture  \n",
    "    K = mu.shape[0]\n",
    "    n, d = X.shape\n",
    "    \n",
    "    M = np.dot((-np.sum(X.astype(bool).astype(int), axis=1).reshape(-1,1)/2.0),(np.log((2*np.pi*var)).reshape(-1,1)).T) - (np.sum(X**2, axis=1)[:,None] + np.dot(X.astype(bool).astype(int),mu.T**2) - 2*np.dot(X, mu.T))/(2*var)+ np.log(pi + 1e-16) \n",
    "\n",
    "    \n",
    "    return np.exp(M - logsumexp(M, axis=1).reshape(-1,1) ), np.sum(logsumexp(M, axis=1).reshape(-1,1), axis=0).item()  \n",
    "    \n",
    "    raise NotImplementedError\n",
    "\n",
    "    "
   ]
  },
  {
   "cell_type": "code",
   "execution_count": 2,
   "id": "1a65b25f",
   "metadata": {},
   "outputs": [
    {
     "ename": "NameError",
     "evalue": "name 'np' is not defined",
     "output_type": "error",
     "traceback": [
      "\u001b[1;31m---------------------------------------------------------------------------\u001b[0m",
      "\u001b[1;31mNameError\u001b[0m                                 Traceback (most recent call last)",
      "\u001b[1;32m~\\AppData\\Local\\Temp/ipykernel_3488/1222618029.py\u001b[0m in \u001b[0;36m<module>\u001b[1;34m\u001b[0m\n\u001b[1;32m----> 1\u001b[1;33m def mstep(X: np.ndarray, post: np.ndarray, mixture: GaussianMixture,\n\u001b[0m\u001b[0;32m      2\u001b[0m           min_variance: float = .25) -> GaussianMixture:\n\u001b[0;32m      3\u001b[0m     \"\"\"M-step: Updates the gaussian mixture by maximizing the log-likelihood\n\u001b[0;32m      4\u001b[0m     \u001b[0mof\u001b[0m \u001b[0mthe\u001b[0m \u001b[0mweighted\u001b[0m \u001b[0mdataset\u001b[0m\u001b[1;33m\u001b[0m\u001b[1;33m\u001b[0m\u001b[0m\n\u001b[0;32m      5\u001b[0m \u001b[1;33m\u001b[0m\u001b[0m\n",
      "\u001b[1;31mNameError\u001b[0m: name 'np' is not defined"
     ]
    }
   ],
   "source": [
    "def mstep(X: np.ndarray, post: np.ndarray, mixture: GaussianMixture,\n",
    "          min_variance: float = .25) -> GaussianMixture:\n",
    "    \"\"\"M-step: Updates the gaussian mixture by maximizing the log-likelihood\n",
    "    of the weighted dataset\n",
    "\n",
    "    Args:\n",
    "        X: (n, d) array holding the data, with incomplete entries (set to 0)\n",
    "        post: (n, K) array holding the soft counts\n",
    "            for all components for all examples\n",
    "        mixture: the current gaussian mixture\n",
    "        min_variance: the minimum variance for each gaussian\n",
    "\n",
    "    Returns:\n",
    "        GaussianMixture: the new gaussian mixture\n",
    "    \"\"\"\n",
    "    raise NotImplementedError"
   ]
  },
  {
   "cell_type": "code",
   "execution_count": null,
   "id": "457bcb22",
   "metadata": {},
   "outputs": [],
   "source": [
    "def mstep(X: np.ndarray, post: np.ndarray) -> GaussianMixture:\n",
    "\n",
    "    n, d = X.shape\n",
    "    K = post.shape[1]\n",
    "    \n",
    "    mu = (post.T @ X)/(np.sum(post, axis=0).reshape(-1,1))   \n",
    "    var = np.sum(post*(np.linalg.norm(X[:, None] - mu, ord=2, axis=2)**2), axis=0)/(np.sum(post, axis=0)*d)   \n",
    "    p = np.sum(post, axis=0)/n \n",
    "    \n",
    "    return GaussianMixture(mu, var, p)"
   ]
  },
  {
   "cell_type": "code",
   "execution_count": null,
   "id": "585ac9cd",
   "metadata": {},
   "outputs": [],
   "source": [
    "def mstep(X: np.ndarray, post: np.ndarray, mixture: GaussianMixture,\n",
    "          min_variance: float = .25) -> GaussianMixture:\n",
    "    \n",
    "    n, d = X.shape\n",
    "    mu_, _, _ = mixture\n",
    "    K = mu_.shape[0]\n",
    "    \n",
    "    pi_ = np.sum(post, axis=0)/n\n",
    "\n",
    "    \n",
    "    ni = np.where(np.dot(post.T , X.astype(bool).astype(int))>= 1)\n",
    "    mu_[ni] = np.dot(post.T , X)[ni]/np.dot(post.T , X.astype(bool).astype(int))[ni] \n",
    "\n",
    "    \n",
    "    \n",
    "   \n",
    "    X_ = X.astype(bool).astype(int)\n",
    "\n",
    "    norm = np.sum(X**2, axis=1)[:,None] + (X_ @ (mu_.T)**2) - 2*(X@ mu_.T)\n",
    "        \n",
    "    var_ = np.maximum(np.sum(post*norm, axis=0)/(np.sum(post*np.sum(X_, axis=1).reshape(-1,1), axis=0)) , min_variance)  \n",
    "   \n",
    "    return GaussianMixture(mu_, var_, pi_)\n",
    "\n",
    "    raise NotImplementedError\n"
   ]
  },
  {
   "cell_type": "code",
   "execution_count": null,
   "id": "d74795fd",
   "metadata": {},
   "outputs": [],
   "source": [
    "def run(X: np.ndarray, mixture: GaussianMixture,\n",
    "        post: np.ndarray) -> Tuple[GaussianMixture, np.ndarray, float]:\n",
    "\n",
    "    prev_cost = None\n",
    "    cost = None  \n",
    "    \n",
    "\n",
    "    while (prev_cost is None or cost - prev_cost >= (1e-6*np.abs(cost))):\n",
    "        prev_cost = cost\n",
    "#         post = estep(X, mixture)\n",
    "#         mixture, cost = mstep(X, post)\n",
    "        post, cost = estep(X, mixture)\n",
    "        mixture = mstep(X, post)\n",
    "            \n",
    "    return mixture, post, cost"
   ]
  },
  {
   "cell_type": "code",
   "execution_count": null,
   "id": "d1e9000c",
   "metadata": {},
   "outputs": [],
   "source": [
    "def run(X: np.ndarray, mixture: GaussianMixture,\n",
    "        post: np.ndarray) -> Tuple[GaussianMixture, np.ndarray, float]:\n",
    "    \"\"\"Runs the mixture model\n",
    "\n",
    "    Args:\n",
    "        X: (n, d) array holding the data\n",
    "        post: (n, K) array holding the soft counts\n",
    "            for all components for all examples\n",
    "\n",
    "    Returns:\n",
    "        GaussianMixture: the new gaussian mixture\n",
    "        np.ndarray: (n, K) array holding the soft counts\n",
    "            for all components for all examples\n",
    "        float: log-likelihood of the current assignment\n",
    "    \"\"\"\n",
    "    old_log_lh = None\n",
    "    new_log_lh = None  # Keep track of log likelihood to check convergence\n",
    "    \n",
    "    # Start the main loop\n",
    "    while old_log_lh is None or (new_log_lh - old_log_lh > 1e-6*np.abs(new_log_lh)):\n",
    "        \n",
    "        old_log_lh = new_log_lh\n",
    "        \n",
    "        # E-step\n",
    "        post, new_log_lh = estep(X, mixture)\n",
    "        \n",
    "        # M-step\n",
    "        mixture = mstep(X, post, mixture)\n",
    "            \n",
    "    return mixture, post, new_log_lh\n",
    "\n"
   ]
  },
  {
   "cell_type": "code",
   "execution_count": null,
   "id": "03979e8a",
   "metadata": {},
   "outputs": [],
   "source": []
  },
  {
   "cell_type": "code",
   "execution_count": null,
   "id": "f8f86e9d",
   "metadata": {},
   "outputs": [],
   "source": [
    "def fill_matrix(X: np.ndarray, mixture: GaussianMixture) -> np.ndarray:\n",
    "    mu, var, pi = mixture\n",
    "    X_pred = X.copy()\n",
    "    mu, _, _ = mixture\n",
    "\n",
    "    a=X\n",
    "    X_ = a\n",
    "    M = np.dot((-np.sum(X.astype(bool).astype(int), axis=1).reshape(-1,1)/2.0),(np.log((2*np.pi*var)).reshape(-1,1)).T) - (np.sum(X**2, axis=1)[:,None] + np.dot(X.astype(bool).astype(int),mu.T**2) - 2*np.dot(X, mu.T))/(2*var)+ np.log(pi + 1e-16)\n",
    "    \n",
    "    post= np.exp(M - logsumexp(M, axis=1).reshape(-1,1) )\n",
    "    \n",
    "    X_pred[np.where(X == 0)] = np.dot(post , mu)[np.where(X == 0)]\n",
    "    \n",
    "    return X_pred"
   ]
  },
  {
   "cell_type": "code",
   "execution_count": null,
   "id": "eac727a8",
   "metadata": {},
   "outputs": [],
   "source": []
  },
  {
   "cell_type": "code",
   "execution_count": null,
   "id": "51869f98",
   "metadata": {},
   "outputs": [],
   "source": []
  },
  {
   "cell_type": "code",
   "execution_count": null,
   "id": "7623aa94",
   "metadata": {},
   "outputs": [],
   "source": []
  },
  {
   "cell_type": "code",
   "execution_count": null,
   "id": "be702bc7",
   "metadata": {},
   "outputs": [],
   "source": []
  },
  {
   "cell_type": "code",
   "execution_count": null,
   "id": "4200bb9d",
   "metadata": {},
   "outputs": [],
   "source": []
  }
 ],
 "metadata": {
  "kernelspec": {
   "display_name": "Python 3 (ipykernel)",
   "language": "python",
   "name": "python3"
  },
  "language_info": {
   "codemirror_mode": {
    "name": "ipython",
    "version": 3
   },
   "file_extension": ".py",
   "mimetype": "text/x-python",
   "name": "python",
   "nbconvert_exporter": "python",
   "pygments_lexer": "ipython3",
   "version": "3.8.12"
  }
 },
 "nbformat": 4,
 "nbformat_minor": 5
}
