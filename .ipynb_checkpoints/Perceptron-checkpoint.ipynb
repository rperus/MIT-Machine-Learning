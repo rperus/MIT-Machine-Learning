{
 "cells": [
  {
   "cell_type": "code",
   "execution_count": 18,
   "id": "a2cb6b33",
   "metadata": {},
   "outputs": [
    {
     "name": "stdout",
     "output_type": "stream",
     "text": [
      "[1. 1.]\n"
     ]
    }
   ],
   "source": [
    "import numpy as np\n",
    "\n",
    "X = np.array([\n",
    "    [1,1],\n",
    "    [2,3],\n",
    "    [3,4],\n",
    "    [-0.5,-0.5],\n",
    "    [-1,-2],\n",
    "    [-2,-3],\n",
    "    [-3,-4],\n",
    "    [-4,-3],\n",
    "\n",
    "])\n",
    "\n",
    "y = np.array([1,1,1,-1,-1,-1,-1,-1])\n",
    "\n",
    "def perceptron_sgd(X, Y):\n",
    "    w = np.zeros(len(X[0]))\n",
    "    eta = 1\n",
    "    epochs = 2222\n",
    "\n",
    "    for t in range(epochs):\n",
    "        for i, x in enumerate(X):\n",
    "            if (np.dot(X[i], w)*Y[i]) <= 0:\n",
    "                w = w + eta*X[i]*Y[i]\n",
    "\n",
    "    return w\n",
    "\n",
    "w = perceptron_sgd(X,y)\n",
    "print(w)"
   ]
  },
  {
   "cell_type": "code",
   "execution_count": 14,
   "id": "018cbb03",
   "metadata": {},
   "outputs": [
    {
     "name": "stdout",
     "output_type": "stream",
     "text": [
      "(array([1.5, 1.5]), 0)\n"
     ]
    }
   ],
   "source": [
    "X = np.array([\n",
    "    [1,1],\n",
    "    [2,3],\n",
    "    [3,4],\n",
    "    [-0.5,-0.5],\n",
    "    [-1,-2],\n",
    "    [-2,-3],\n",
    "    [-3,-4],\n",
    "    [-4,-3],\n",
    "\n",
    "])\n",
    "\n",
    "y = np.array([1,1,1,-1,-1,-1,-1,-1])\n",
    "\n",
    "def perceptron_sgd(X, Y):\n",
    "    w = np.zeros(len(X[0]))\n",
    "    w0=0\n",
    "    eta = 1\n",
    "    epochs = 50\n",
    "\n",
    "    for t in range(epochs):\n",
    "        for i, x in enumerate(X):\n",
    "            if ((np.dot(X[i], w)+w0)*Y[i]) <= 0:\n",
    "                w = w + eta*X[i]*Y[i]\n",
    "                w0= w0+Y[i]\n",
    "\n",
    "    return w,w0\n",
    "\n",
    "w = perceptron_sgd(X,y)\n",
    "print(w)"
   ]
  },
  {
   "cell_type": "code",
   "execution_count": 20,
   "id": "7858d227",
   "metadata": {},
   "outputs": [
    {
     "name": "stdout",
     "output_type": "stream",
     "text": [
      "(array([1.5, 1.5]), 0, 2)\n"
     ]
    }
   ],
   "source": [
    "X = np.array([\n",
    "    [1,1],\n",
    "    [2,3],\n",
    "    [3,4],\n",
    "    [-0.5,-0.5],\n",
    "    [-1,-2],\n",
    "    [-2,-3],\n",
    "    [-3,-4],\n",
    "    [-4,-3],\n",
    "\n",
    "])\n",
    "\n",
    "y = np.array([1,1,1,-1,-1,-1,-1,-1])\n",
    "\n",
    "def perceptron_sgd(X, Y):\n",
    "    w = np.zeros(len(X[0]))\n",
    "    w0=0\n",
    "    eta = 1\n",
    "    epochs = 50\n",
    "    count=0\n",
    "\n",
    "    for t in range(epochs):\n",
    "        for i, x in enumerate(X):\n",
    "            if ((np.dot(X[i], w)+w0)*Y[i]) <= 0:\n",
    "                w = w + eta*X[i]*Y[i]\n",
    "                w0= w0+Y[i]\n",
    "                count=count +1\n",
    "\n",
    "    return w,w0,count\n",
    "\n",
    "w = perceptron_sgd(X,y)\n",
    "print(w)"
   ]
  },
  {
   "cell_type": "code",
   "execution_count": 34,
   "id": "b1f95d63",
   "metadata": {},
   "outputs": [
    {
     "name": "stdout",
     "output_type": "stream",
     "text": [
      "(array([1., 1.]), 0, 1)\n"
     ]
    }
   ],
   "source": [
    "X = np.array([\n",
    "    [1,1],\n",
    "    [2,3],\n",
    "    [3,4],\n",
    "    [-0.5,-0.5],\n",
    "    [-1,-2],\n",
    "    [-2,-3],\n",
    "    [-3,-4],\n",
    "    [-4,-3],\n",
    "\n",
    "])\n",
    "\n",
    "y = np.array([1,1,1,-1,-1,-1,-1,-1])\n",
    "\n",
    "def perceptron_sgd(X, Y):\n",
    "    w = np.zeros(len(X[0]))\n",
    "    w0=0\n",
    "    eta = 1\n",
    "    epochs = 1\n",
    "    count=0\n",
    "\n",
    "    for t in range(epochs):\n",
    "        for i, x in enumerate(X):\n",
    "            if ((np.dot(X[i], w)+w0)*Y[i]) <= 0:\n",
    "                w = w + eta*X[i]*Y[i]\n",
    "#                 w0= w0+Y[i]\n",
    "                count=count +1\n",
    "# count son los mistakes\n",
    "    return w,w0,count\n",
    "\n",
    "w = perceptron_sgd(X,y)\n",
    "print(w)"
   ]
  },
  {
   "cell_type": "code",
   "execution_count": 42,
   "id": "e901eb78",
   "metadata": {},
   "outputs": [
    {
     "data": {
      "text/plain": [
       "-0.7320508075688772"
      ]
     },
     "execution_count": 42,
     "metadata": {},
     "output_type": "execute_result"
    }
   ],
   "source": [
    ".5*2-((3**.5)/2)*2\n",
    "\n",
    "\n"
   ]
  },
  {
   "cell_type": "code",
   "execution_count": 43,
   "id": "39533650",
   "metadata": {},
   "outputs": [
    {
     "data": {
      "text/plain": [
       "2.7647428780199825"
      ]
     },
     "execution_count": 43,
     "metadata": {},
     "output_type": "execute_result"
    }
   ],
   "source": [
    "(3**.5)/2*3+.5/3"
   ]
  },
  {
   "cell_type": "code",
   "execution_count": 61,
   "id": "b5dcffd7",
   "metadata": {},
   "outputs": [
    {
     "name": "stdout",
     "output_type": "stream",
     "text": [
      "[-0.3660254037844386  1.3660254037844386] [-1.598076211353316  3.232050807568877] [-1.9641016151377544  4.598076211353316 ] [ 0.1830127018922193 -0.6830127018922193] [ 1.2320508075688772 -1.8660254037844386] [ 1.598076211353316 -3.232050807568877] [ 1.9641016151377544 -4.598076211353316 ] [ 0.598076211353316 -4.964101615137754]\n"
     ]
    }
   ],
   "source": [
    "r = np.array([\n",
    "    [.5,-(3**.5)/2],\n",
    "    [(3**.5)/2,.5],\n",
    "])\n",
    "\n",
    "a = np.array([1,1])\n",
    "b = np.array([2,3])\n",
    "c = np.array([3,4])\n",
    "d = np.array([-0.5,-0.5])\n",
    "e = np.array([-1,-2])\n",
    "f = np.array([-2,-3])\n",
    "g = np.array([-3,-4])\n",
    "h = np.array([-4,-3])\n",
    "\n",
    "a=np.dot(r, a)\n",
    "b=np.dot(r, b)\n",
    "c=np.dot(r, c)\n",
    "d=np.dot(r, d)\n",
    "e=np.dot(r, e)\n",
    "f=np.dot(r, f)\n",
    "g=np.dot(r, g)\n",
    "h=np.dot(r, h)\n",
    "\n",
    "np.set_printoptions(50)\n",
    "\n",
    "print(a,b,c,d,e,f,g,h)\n",
    "\n",
    "\n",
    "\n",
    "\n"
   ]
  },
  {
   "cell_type": "code",
   "execution_count": 66,
   "id": "2bf66e00",
   "metadata": {},
   "outputs": [
    {
     "name": "stdout",
     "output_type": "stream",
     "text": [
      "(array([-0.5490381056766579,  2.049038105676658 ]), 0, 2)\n"
     ]
    }
   ],
   "source": [
    "# problema 1.3\n",
    "X = np.array([\n",
    "    [-0.3660254037844386 , 1.3660254037844386],\n",
    "    [-1.598076211353316 , 3.232050807568877],\n",
    "    [-1.9641016151377544 , 4.598076211353316 ],\n",
    "    [ 0.1830127018922193 ,-0.6830127018922193],\n",
    "    [1.2320508075688772 ,-1.8660254037844386 ],\n",
    "    [1.598076211353316, -3.232050807568877],\n",
    "    [1.9641016151377544 ,-4.598076211353316],\n",
    "    [0.598076211353316 ,-4.964101615137754],\n",
    "\n",
    "])\n",
    "\n",
    "y = np.array([1,1,1,-1,-1,-1,-1,-1])\n",
    "\n",
    "def perceptron_sgd(X, Y):\n",
    "    w = np.zeros(len(X[0]))\n",
    "    w0=0\n",
    "    eta = 1\n",
    "    epochs = 1000\n",
    "    count=0\n",
    "\n",
    "    for t in range(epochs):\n",
    "        for i, x in enumerate(X):\n",
    "            if ((np.dot(X[i], w)+w0)*Y[i]) <= 0:\n",
    "                w = w + eta*X[i]*Y[i]\n",
    "                w0= w0+Y[i]\n",
    "                count=count +1\n",
    "# count son los mistakes\n",
    "    return w,w0,count\n",
    "\n",
    "w = perceptron_sgd(X,y)\n",
    "print(w)"
   ]
  }
 ],
 "metadata": {
  "kernelspec": {
   "display_name": "Python 3 (ipykernel)",
   "language": "python",
   "name": "python3"
  },
  "language_info": {
   "codemirror_mode": {
    "name": "ipython",
    "version": 3
   },
   "file_extension": ".py",
   "mimetype": "text/x-python",
   "name": "python",
   "nbconvert_exporter": "python",
   "pygments_lexer": "ipython3",
   "version": "3.8.12"
  }
 },
 "nbformat": 4,
 "nbformat_minor": 5
}
