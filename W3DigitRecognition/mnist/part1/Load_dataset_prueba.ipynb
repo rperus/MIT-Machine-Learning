{
 "cells": [
  {
   "cell_type": "code",
   "execution_count": 2,
   "id": "20b70733",
   "metadata": {},
   "outputs": [],
   "source": [
    "import pickle, gzip, numpy as np\n",
    "import matplotlib.pyplot as plt\n",
    "import matplotlib.cm as cm\n",
    "import math\n",
    "\n",
    "\n",
    "def plot_images(X):\n",
    "    if X.ndim == 1:\n",
    "        X = np.array([X])\n",
    "    num_images = X.shape[0]\n",
    "    num_rows = math.floor(math.sqrt(num_images))\n",
    "    num_cols = math.ceil(num_images/num_rows)\n",
    "    for i in range(num_images):\n",
    "        reshaped_image = X[i,:].reshape(28,28)\n",
    "        plt.subplot(num_rows, num_cols, i+1)\n",
    "        plt.imshow(reshaped_image, cmap = cm.Greys_r)\n",
    "        plt.axis('off')\n",
    "    plt.show()\n",
    "\n",
    "\n",
    "def pick_examples_of(X, Y, labels, total_count):\n",
    "    bool_arr = None\n",
    "    for label in labels:\n",
    "        bool_arr_for_label = (Y == label)\n",
    "        if bool_arr is None:\n",
    "            bool_arr = bool_arr_for_label\n",
    "        else:\n",
    "            bool_arr |= bool_arr_for_label\n",
    "    filtered_x = X[bool_arr]\n",
    "    filtered_y = Y[bool_arr]\n",
    "    return (filtered_x[:total_count], filtered_y[:total_count])\n",
    "\n",
    "\n",
    "def extract_training_and_test_examples_with_labels(train_x, train_y, test_x, test_y, labels, training_count, test_count):\n",
    "    filtered_train_x, filtered_train_y = pick_examples_of(train_x, train_y, labels, training_count)\n",
    "    filtered_test_x, filtered_test_y = pick_examples_of(test_x, test_y, labels, test_count)\n",
    "    return (filtered_train_x, filtered_train_y, filtered_test_x, filtered_test_y)\n",
    "\n",
    "def write_pickle_data(data, file_name):\n",
    "    f = gzip.open(file_name, 'wb')\n",
    "    pickle.dump(data, f)\n",
    "    f.close()\n",
    "\n",
    "def read_pickle_data(file_name):\n",
    "    f = gzip.open(file_name, 'rb')\n",
    "    data = pickle.load(f, encoding='latin1')\n",
    "    f.close()\n",
    "    return data\n",
    "\n",
    "def get_MNIST_data():\n",
    "    \"\"\"\n",
    "    Reads mnist dataset from file\n",
    "\n",
    "    Returns:\n",
    "        train_x - 2D Numpy array (n, d) where each row is an image\n",
    "        train_y - 1D Numpy array (n, ) where each row is a label\n",
    "        test_x  - 2D Numpy array (n, d) where each row is an image\n",
    "        test_y  - 1D Numpy array (n, ) where each row is a label\n",
    "\n",
    "    \"\"\"\n",
    "    train_set, valid_set, test_set = read_pickle_data('../Datasets/mnist.pkl.gz')\n",
    "    train_x, train_y = train_set\n",
    "    valid_x, valid_y = valid_set\n",
    "    train_x = np.vstack((train_x, valid_x))\n",
    "    train_y = np.append(train_y, valid_y)\n",
    "    test_x, test_y = test_set\n",
    "    return (train_x, train_y, test_x, test_y)\n",
    "\n",
    "def load_train_and_test_pickle(file_name):\n",
    "    train_x, train_y, test_x, test_y = read_pickle_data(file_name)\n",
    "    return train_x, train_y, test_x, test_y\n",
    "\n",
    "# returns the feature set in a numpy ndarray\n",
    "def load_CSV(filename):\n",
    "    stuff = np.asarray(np.loadtxt(open(filename, 'rb'), delimiter=','))\n",
    "    return stuff\n"
   ]
  },
  {
   "cell_type": "code",
   "execution_count": 14,
   "id": "3c4906c7",
   "metadata": {},
   "outputs": [],
   "source": [
    "import sys\n",
    "import numpy as np\n",
    "import matplotlib.pyplot as plt\n",
    "sys.path.append(\"..\")\n",
    "from utils import *\n",
    "from linear_regression import *\n",
    "from svm import *\n",
    "from softmax import *\n",
    "from features import *\n",
    "from kernel import *"
   ]
  },
  {
   "cell_type": "code",
   "execution_count": 4,
   "id": "0e1189e0",
   "metadata": {},
   "outputs": [
    {
     "data": {
      "text/plain": [
       "(array([[0., 0., 0., ..., 0., 0., 0.],\n",
       "        [0., 0., 0., ..., 0., 0., 0.],\n",
       "        [0., 0., 0., ..., 0., 0., 0.],\n",
       "        ...,\n",
       "        [0., 0., 0., ..., 0., 0., 0.],\n",
       "        [0., 0., 0., ..., 0., 0., 0.],\n",
       "        [0., 0., 0., ..., 0., 0., 0.]], dtype=float32),\n",
       " array([5, 0, 4, ..., 5, 6, 8], dtype=int64),\n",
       " array([[0., 0., 0., ..., 0., 0., 0.],\n",
       "        [0., 0., 0., ..., 0., 0., 0.],\n",
       "        [0., 0., 0., ..., 0., 0., 0.],\n",
       "        ...,\n",
       "        [0., 0., 0., ..., 0., 0., 0.],\n",
       "        [0., 0., 0., ..., 0., 0., 0.],\n",
       "        [0., 0., 0., ..., 0., 0., 0.]], dtype=float32),\n",
       " array([7, 2, 1, ..., 4, 5, 6], dtype=int64))"
      ]
     },
     "execution_count": 4,
     "metadata": {},
     "output_type": "execute_result"
    }
   ],
   "source": [
    "get_MNIST_data()"
   ]
  },
  {
   "cell_type": "code",
   "execution_count": 15,
   "id": "692c5669",
   "metadata": {},
   "outputs": [],
   "source": [
    "train_x, train_y, test_x, test_y = get_MNIST_data()\n"
   ]
  },
  {
   "cell_type": "code",
   "execution_count": 16,
   "id": "f3f9d8d0",
   "metadata": {},
   "outputs": [
    {
     "data": {
      "text/plain": [
       "array([[0., 0., 0., ..., 0., 0., 0.],\n",
       "       [0., 0., 0., ..., 0., 0., 0.],\n",
       "       [0., 0., 0., ..., 0., 0., 0.],\n",
       "       ...,\n",
       "       [0., 0., 0., ..., 0., 0., 0.],\n",
       "       [0., 0., 0., ..., 0., 0., 0.],\n",
       "       [0., 0., 0., ..., 0., 0., 0.]], dtype=float32)"
      ]
     },
     "execution_count": 16,
     "metadata": {},
     "output_type": "execute_result"
    }
   ],
   "source": [
    "train_x"
   ]
  },
  {
   "cell_type": "code",
   "execution_count": 17,
   "id": "b8d53282",
   "metadata": {},
   "outputs": [],
   "source": [
    "def closed_form(X, Y, lambda_factor):\n",
    "\n",
    "    theta = np.linalg.inv(X.T.dot(X) + lambda_factor*np.eye(X.shape[1], dtype=int)).dot(X.T).dot(Y)\n",
    "    return theta\n"
   ]
  },
  {
   "cell_type": "code",
   "execution_count": 18,
   "id": "5bf4a07d",
   "metadata": {},
   "outputs": [],
   "source": [
    "def compute_test_error_linear(test_x, Y, theta):\n",
    "    test_y_predict = np.round(np.dot(test_x, theta))\n",
    "    test_y_predict[test_y_predict < 0] = 0\n",
    "    test_y_predict[test_y_predict > 9] = 9\n",
    "    return 1 - np.mean(test_y_predict == Y)\n"
   ]
  },
  {
   "cell_type": "code",
   "execution_count": 27,
   "id": "8404020a",
   "metadata": {},
   "outputs": [],
   "source": [
    "theta = closed_form(train_x, train_y, .01)"
   ]
  },
  {
   "cell_type": "code",
   "execution_count": 28,
   "id": "c181e9ad",
   "metadata": {},
   "outputs": [
    {
     "data": {
      "text/plain": [
       "0.7395333333333334"
      ]
     },
     "execution_count": 28,
     "metadata": {},
     "output_type": "execute_result"
    }
   ],
   "source": [
    "compute_test_error_linear(train_x, train_y, theta)"
   ]
  },
  {
   "cell_type": "code",
   "execution_count": null,
   "id": "df2550ac",
   "metadata": {},
   "outputs": [],
   "source": []
  },
  {
   "cell_type": "code",
   "execution_count": null,
   "id": "f5773d50",
   "metadata": {},
   "outputs": [],
   "source": []
  }
 ],
 "metadata": {
  "kernelspec": {
   "display_name": "Python 3 (ipykernel)",
   "language": "python",
   "name": "python3"
  },
  "language_info": {
   "codemirror_mode": {
    "name": "ipython",
    "version": 3
   },
   "file_extension": ".py",
   "mimetype": "text/x-python",
   "name": "python",
   "nbconvert_exporter": "python",
   "pygments_lexer": "ipython3",
   "version": "3.8.12"
  }
 },
 "nbformat": 4,
 "nbformat_minor": 5
}
