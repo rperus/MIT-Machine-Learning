{
 "cells": [
  {
   "cell_type": "code",
   "execution_count": 1,
   "id": "4b36a08f",
   "metadata": {},
   "outputs": [],
   "source": [
    "import numpy as np\n",
    "from sklearn.svm import LinearSVC"
   ]
  },
  {
   "cell_type": "code",
   "execution_count": 7,
   "id": "9bd6a618",
   "metadata": {},
   "outputs": [],
   "source": [
    "import pickle, gzip, numpy as np\n",
    "import matplotlib.pyplot as plt\n",
    "import matplotlib.cm as cm\n",
    "import math\n",
    "\n",
    "\n",
    "def plot_images(X):\n",
    "    if X.ndim == 1:\n",
    "        X = np.array([X])\n",
    "    num_images = X.shape[0]\n",
    "    num_rows = math.floor(math.sqrt(num_images))\n",
    "    num_cols = math.ceil(num_images/num_rows)\n",
    "    for i in range(num_images):\n",
    "        reshaped_image = X[i,:].reshape(28,28)\n",
    "        plt.subplot(num_rows, num_cols, i+1)\n",
    "        plt.imshow(reshaped_image, cmap = cm.Greys_r)\n",
    "        plt.axis('off')\n",
    "    plt.show()\n",
    "\n",
    "\n",
    "def pick_examples_of(X, Y, labels, total_count):\n",
    "    bool_arr = None\n",
    "    for label in labels:\n",
    "        bool_arr_for_label = (Y == label)\n",
    "        if bool_arr is None:\n",
    "            bool_arr = bool_arr_for_label\n",
    "        else:\n",
    "            bool_arr |= bool_arr_for_label\n",
    "    filtered_x = X[bool_arr]\n",
    "    filtered_y = Y[bool_arr]\n",
    "    return (filtered_x[:total_count], filtered_y[:total_count])\n",
    "\n",
    "\n",
    "def extract_training_and_test_examples_with_labels(train_x, train_y, test_x, test_y, labels, training_count, test_count):\n",
    "    filtered_train_x, filtered_train_y = pick_examples_of(train_x, train_y, labels, training_count)\n",
    "    filtered_test_x, filtered_test_y = pick_examples_of(test_x, test_y, labels, test_count)\n",
    "    return (filtered_train_x, filtered_train_y, filtered_test_x, filtered_test_y)\n",
    "\n",
    "def write_pickle_data(data, file_name):\n",
    "    f = gzip.open(file_name, 'wb')\n",
    "    pickle.dump(data, f)\n",
    "    f.close()\n",
    "\n",
    "def read_pickle_data(file_name):\n",
    "    f = gzip.open(file_name, 'rb')\n",
    "    data = pickle.load(f, encoding='latin1')\n",
    "    f.close()\n",
    "    return data\n",
    "\n",
    "def get_MNIST_data():\n",
    "    \"\"\"\n",
    "    Reads mnist dataset from file\n",
    "\n",
    "    Returns:\n",
    "        train_x - 2D Numpy array (n, d) where each row is an image\n",
    "        train_y - 1D Numpy array (n, ) where each row is a label\n",
    "        test_x  - 2D Numpy array (n, d) where each row is an image\n",
    "        test_y  - 1D Numpy array (n, ) where each row is a label\n",
    "\n",
    "    \"\"\"\n",
    "    train_set, valid_set, test_set = read_pickle_data('../Datasets/mnist.pkl.gz')\n",
    "    train_x, train_y = train_set\n",
    "    valid_x, valid_y = valid_set\n",
    "    train_x = np.vstack((train_x, valid_x))\n",
    "    train_y = np.append(train_y, valid_y)\n",
    "    test_x, test_y = test_set\n",
    "    return (train_x, train_y, test_x, test_y)\n",
    "\n",
    "def load_train_and_test_pickle(file_name):\n",
    "    train_x, train_y, test_x, test_y = read_pickle_data(file_name)\n",
    "    return train_x, train_y, test_x, test_y\n",
    "\n",
    "# returns the feature set in a numpy ndarray\n",
    "def load_CSV(filename):\n",
    "    stuff = np.asarray(np.loadtxt(open(filename, 'rb'), delimiter=','))\n",
    "    return stuff\n"
   ]
  },
  {
   "cell_type": "markdown",
   "id": "23b1f98b",
   "metadata": {},
   "source": [
    "# One SVM"
   ]
  },
  {
   "cell_type": "code",
   "execution_count": 13,
   "id": "01ffaad5",
   "metadata": {},
   "outputs": [],
   "source": [
    "def one_vs_rest_svm(train_x, train_y, test_x):\n",
    "    \"\"\"\n",
    "    Trains a linear SVM for binary classifciation\n",
    "\n",
    "    Args:\n",
    "        train_x - (n, d) NumPy array (n datapoints each with d features)\n",
    "        train_y - (n, ) NumPy array containing the labels (0 or 1) for each training data point\n",
    "        test_x - (m, d) NumPy array (m datapoints each with d features)\n",
    "    Returns:\n",
    "        pred_test_y - (m,) NumPy array containing the labels (0 or 1) for each test data point\n",
    "    \"\"\"\n",
    "    clf = LinearSVC(C=.001, random_state=0)\n",
    "    clf.fit(train_x,train_y)\n",
    "    pred_test_y =clf.predict(test_x)\n",
    "    return pred_test_y\n",
    "    \n",
    "    raise NotImplementedError"
   ]
  },
  {
   "cell_type": "code",
   "execution_count": null,
   "id": "f6d001de",
   "metadata": {},
   "outputs": [],
   "source": []
  },
  {
   "cell_type": "code",
   "execution_count": 14,
   "id": "152495c5",
   "metadata": {},
   "outputs": [
    {
     "name": "stdout",
     "output_type": "stream",
     "text": [
      "SVM one vs. rest test_error: 0.007600000000000051\n"
     ]
    }
   ],
   "source": [
    "def run_svm_one_vs_rest_on_MNIST():\n",
    "    \"\"\"\n",
    "    Trains svm, classifies test data, computes test error on test set\n",
    "\n",
    "    Returns:\n",
    "        Test error for the binary svm\n",
    "    \"\"\"\n",
    "    train_x, train_y, test_x, test_y = get_MNIST_data()\n",
    "    train_y[train_y != 0] = 1\n",
    "    test_y[test_y != 0] = 1\n",
    "    pred_test_y = one_vs_rest_svm(train_x, train_y, test_x)\n",
    "    test_error = compute_test_error_svm(test_y, pred_test_y)\n",
    "    return test_error\n",
    "\n",
    "\n",
    "print('SVM one vs. rest test_error:', run_svm_one_vs_rest_on_MNIST())"
   ]
  },
  {
   "cell_type": "markdown",
   "id": "f219bc91",
   "metadata": {},
   "source": [
    "# Multiclass SVM\n"
   ]
  },
  {
   "cell_type": "code",
   "execution_count": 16,
   "id": "04fddbfb",
   "metadata": {},
   "outputs": [],
   "source": [
    "def multi_class_svm(train_x, train_y, test_x):\n",
    "    #clf = LinearSVC(multi_class=\"crammer_singer\",C = 0.1, random_state = 0)\n",
    "    #clf = LinearSVC()\n",
    "    clf = LinearSVC(C = 0.1, random_state = 0)\n",
    "    clf.fit(train_x,train_y)\n",
    "    pred_test_y =clf.predict(test_x)\n",
    "    return pred_test_y    "
   ]
  },
  {
   "cell_type": "code",
   "execution_count": 17,
   "id": "7f67fbfe",
   "metadata": {},
   "outputs": [
    {
     "name": "stdout",
     "output_type": "stream",
     "text": [
      "Multiclass SVM test_error: 0.08189999999999997\n"
     ]
    }
   ],
   "source": [
    "def run_multiclass_svm_on_MNIST():\n",
    "    \"\"\"\n",
    "    Trains svm, classifies test data, computes test error on test set\n",
    "\n",
    "    Returns:\n",
    "        Test error for the binary svm\n",
    "    \"\"\"\n",
    "    train_x, train_y, test_x, test_y = get_MNIST_data()\n",
    "    pred_test_y = multi_class_svm(train_x, train_y, test_x)\n",
    "    test_error = compute_test_error_svm(test_y, pred_test_y)\n",
    "    return test_error\n",
    "\n",
    "\n",
    "print('Multiclass SVM test_error:', run_multiclass_svm_on_MNIST())"
   ]
  },
  {
   "cell_type": "code",
   "execution_count": 3,
   "id": "112a8285",
   "metadata": {},
   "outputs": [],
   "source": [
    "def multi_class_svm(train_x, train_y, test_x):\n",
    "    \"\"\"\n",
    "    Trains a linear SVM for multiclass classifciation using a one-vs-rest strategy\n",
    "\n",
    "    Args:\n",
    "        train_x - (n, d) NumPy array (n datapoints each with d features)\n",
    "        train_y - (n, ) NumPy array containing the labels (int) for each training data point\n",
    "        test_x - (m, d) NumPy array (m datapoints each with d features)\n",
    "    Returns:\n",
    "        pred_test_y - (m,) NumPy array containing the labels (int) for each test data point\n",
    "    \"\"\"\n",
    "    raise NotImplementedError\n",
    "\n",
    "\n",
    "def compute_test_error_svm(test_y, pred_test_y):\n",
    "    return 1 - np.mean(pred_test_y == test_y)\n"
   ]
  },
  {
   "cell_type": "code",
   "execution_count": null,
   "id": "7672c3c2",
   "metadata": {},
   "outputs": [],
   "source": [
    "def run_multiclass_svm_on_MNIST():\n",
    "    \"\"\"\n",
    "    Trains svm, classifies test data, computes test error on test set\n",
    "\n",
    "    Returns:\n",
    "        Test error for the binary svm\n",
    "    \"\"\"\n",
    "    train_x, train_y, test_x, test_y = get_MNIST_data()\n",
    "    pred_test_y = multi_class_svm(train_x, train_y, test_x)\n",
    "    test_error = compute_test_error_svm(test_y, pred_test_y)\n",
    "    return test_error\n",
    "\n",
    "\n",
    "print('Multiclass SVM test_error:', run_multiclass_svm_on_MNIST())"
   ]
  }
 ],
 "metadata": {
  "kernelspec": {
   "display_name": "Python 3 (ipykernel)",
   "language": "python",
   "name": "python3"
  },
  "language_info": {
   "codemirror_mode": {
    "name": "ipython",
    "version": 3
   },
   "file_extension": ".py",
   "mimetype": "text/x-python",
   "name": "python",
   "nbconvert_exporter": "python",
   "pygments_lexer": "ipython3",
   "version": "3.8.12"
  }
 },
 "nbformat": 4,
 "nbformat_minor": 5
}
