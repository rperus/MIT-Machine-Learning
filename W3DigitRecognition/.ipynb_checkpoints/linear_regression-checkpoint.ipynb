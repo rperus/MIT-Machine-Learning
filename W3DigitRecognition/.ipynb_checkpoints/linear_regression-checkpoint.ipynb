{
 "cells": [
  {
   "cell_type": "code",
   "execution_count": 1,
   "id": "d70ce21e",
   "metadata": {},
   "outputs": [],
   "source": [
    "import numpy as np\n"
   ]
  },
  {
   "cell_type": "code",
   "execution_count": 13,
   "id": "5783b0c5",
   "metadata": {},
   "outputs": [],
   "source": [
    "X= np.matrix([[0.3611579,  0.96226716, 0.98064663, 0.04055572],\n",
    " [0.94149945, 0.72212435, 0.37570675, 0.68049934],\n",
    " [0.19970288, 0.65725451, 0.57015567, 0.7615745 ],\n",
    " [0.77121656, 0.78703874, 0.3070905,  0.77986302],\n",
    " [0.39350407, 0.51370065, 0.11471555, 0.23838116],\n",
    " [0.01483955, 0.41598833, 0.25161566, 0.59752867],\n",
    " [0.02430031, 0.42870227, 0.94195133, 0.88919031],\n",
    " [0.13034396, 0.19332577, 0.51945432, 0.67423343],\n",
    " [0.86119595, 0.94570355, 0.43848299, 0.54881639],\n",
    " [0.44029438, 0.17558378, 0.66478925, 0.02588764],\n",
    " [0.64276425, 0.65239233, 0.45950711, 0.48295596],\n",
    " [0.68698576, 0.06876205, 0.24937567, 0.07892581],\n",
    " [0.3391765,  0.86031843, 0.13269297, 0.60476224],\n",
    " [0.31696672, 0.45987932, 0.34364184, 0.5313443 ],\n",
    " [0.46187926, 0.61927595, 0.06312921, 0.55335085],\n",
    " [0.14107315, 0.42795399, 0.51626323, 0.72871875],\n",
    " [0.51085382, 0.31483097, 0.54478224, 0.14754355],\n",
    " [0.07806636, 0.40740571, 0.50336713, 0.99114164],\n",
    " [0.72788821, 0.80005046, 0.45626062, 0.93235056]])\n",
    "Y= [0.54078807,0.44839133, 0.37717679, 0.22286258, 0.00623512, 0.3943331,\n",
    " 0.36932991, 0.72361028, 0.15765059, 0.3836109,  0.62684008, 0.35196231,\n",
    " 0.20906979, 0.79155847, 0.46009281, 0.94344581, 0.14387682, 0.69018976,\n",
    " 0.52659895]\n",
    "lambda_factor= 0.9669267576737237"
   ]
  },
  {
   "cell_type": "code",
   "execution_count": 29,
   "id": "c6840170",
   "metadata": {},
   "outputs": [
    {
     "data": {
      "text/plain": [
       "4"
      ]
     },
     "execution_count": 29,
     "metadata": {},
     "output_type": "execute_result"
    }
   ],
   "source": [
    "X.shape[1]"
   ]
  },
  {
   "cell_type": "markdown",
   "id": "58072231",
   "metadata": {},
   "source": [
    "# Closed Form Solution of Linear Regression\n"
   ]
  },
  {
   "cell_type": "code",
   "execution_count": 27,
   "id": "80d9a845",
   "metadata": {},
   "outputs": [],
   "source": [
    "### Functions for you to fill in ###\n",
    "\n",
    "def closed_form(X, Y, lambda_factor):\n",
    "    \n",
    "    \"\"\"\n",
    "    Computes the closed form solution of linear regression with L2 regularization\n",
    "\n",
    "    Args:\n",
    "        X - (n, d + 1) NumPy array (n datapoints each with d features plus the bias feature in the first dimension)\n",
    "        Y - (n, ) NumPy array containing the labels (a number from 0-9) for each\n",
    "            data point\n",
    "        lambda_factor - the regularization constant (scalar)\n",
    "    Returns:\n",
    "   \n",
    "        theta - (d + 1, ) NumPy array containing the weights of linear regression. Note that theta[0]\n",
    "        represents the y-axis intercept of the model and therefore X[0] = 1\n",
    "    \"\"\"\n",
    "    # YOUR CODE HERE\n",
    "#     theta = (np.transpose(X)*X+lambda_factor)\n",
    "#     theta = np.linalg.inv(X.T.dot(X) + lambda_factor*np.eye(X.shape[1])).dot(X.T).dot(Y)\n",
    "    theta = np.linalg.inv(X.T.dot(X) + lambda_factor*np.eye(X.shape[1], dtype=int)).dot(X.T).dot(Y)\n",
    "    return theta\n",
    "#     theta = np.dot(np.dot(np.linalg.inv(np.dot(X, np.transpose(X)) + lambda_factor*np.eye(X.shape[1], dtype=int)), np.transpose(X)),Y)\n",
    "    \n",
    " \n",
    "    \n",
    "#     raise NotImplementedError\n",
    "\n",
    "### Functions which are already complete, for you to use ###"
   ]
  },
  {
   "cell_type": "code",
   "execution_count": 28,
   "id": "08b95464",
   "metadata": {},
   "outputs": [
    {
     "data": {
      "text/plain": [
       "matrix([[0.05545423, 0.04987305, 0.3426774 , 0.35276135]])"
      ]
     },
     "execution_count": 28,
     "metadata": {},
     "output_type": "execute_result"
    }
   ],
   "source": [
    "A=closed_form(X, Y, lambda_factor)\n",
    "A"
   ]
  },
  {
   "cell_type": "markdown",
   "id": "aaaa94c6",
   "metadata": {},
   "source": [
    "# Test Error on Linear Regression"
   ]
  },
  {
   "cell_type": "code",
   "execution_count": 31,
   "id": "fb45fc49",
   "metadata": {},
   "outputs": [],
   "source": [
    "def compute_test_error_linear(test_x, Y, theta):\n",
    "    test_y_predict = np.round(np.dot(test_x, theta))\n",
    "    test_y_predict[test_y_predict < 0] = 0\n",
    "    test_y_predict[test_y_predict > 9] = 9\n",
    "    return 1 - np.mean(test_y_predict == Y)"
   ]
  },
  {
   "cell_type": "code",
   "execution_count": null,
   "id": "8a827d3d",
   "metadata": {},
   "outputs": [],
   "source": [
    "B=compute_test_error_linear(test_x, Y, theta)"
   ]
  },
  {
   "cell_type": "code",
   "execution_count": null,
   "id": "5229e8a3",
   "metadata": {},
   "outputs": [],
   "source": []
  },
  {
   "cell_type": "code",
   "execution_count": null,
   "id": "f2b87f4b",
   "metadata": {},
   "outputs": [],
   "source": []
  },
  {
   "cell_type": "code",
   "execution_count": null,
   "id": "93fad551",
   "metadata": {},
   "outputs": [],
   "source": [
    "import numpy as np\n",
    "\n",
    "### Functions for you to fill in ###\n",
    "\n",
    "def closed_form(X, Y, lambda_factor):\n",
    "    \"\"\"\n",
    "    Computes the closed form solution of linear regression with L2 regularization\n",
    "\n",
    "    Args:\n",
    "        X - (n, d + 1) NumPy array (n datapoints each with d features plus the bias feature in the first dimension)\n",
    "        Y - (n, ) NumPy array containing the labels (a number from 0-9) for each\n",
    "            data point\n",
    "        lambda_factor - the regularization constant (scalar)\n",
    "    Returns:\n",
    "   \n",
    "        theta - (d + 1, ) NumPy array containing the weights of linear regression. Note that theta[0]\n",
    "        represents the y-axis intercept of the model and therefore X[0] = 1\n",
    "    \"\"\"\n",
    "    # YOUR CODE HERE\n",
    "    raise NotImplementedError\n",
    "\n",
    "### Functions which are already complete, for you to use ###\n",
    "\n",
    "def compute_test_error_linear(test_x, Y, theta):\n",
    "    test_y_predict = np.round(np.dot(test_x, theta))\n",
    "    test_y_predict[test_y_predict < 0] = 0\n",
    "    test_y_predict[test_y_predict > 9] = 9\n",
    "    return 1 - np.mean(test_y_predict == Y)"
   ]
  }
 ],
 "metadata": {
  "kernelspec": {
   "display_name": "Python 3 (ipykernel)",
   "language": "python",
   "name": "python3"
  },
  "language_info": {
   "codemirror_mode": {
    "name": "ipython",
    "version": 3
   },
   "file_extension": ".py",
   "mimetype": "text/x-python",
   "name": "python",
   "nbconvert_exporter": "python",
   "pygments_lexer": "ipython3",
   "version": "3.8.12"
  }
 },
 "nbformat": 4,
 "nbformat_minor": 5
}
