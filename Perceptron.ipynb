{
 "cells": [
  {
   "cell_type": "code",
   "execution_count": 18,
   "id": "dc0c1f1e",
   "metadata": {},
   "outputs": [
    {
     "name": "stdout",
     "output_type": "stream",
     "text": [
      "[1. 1.]\n"
     ]
    }
   ],
   "source": [
    "import numpy as np\n",
    "\n",
    "X = np.array([\n",
    "    [1,1],\n",
    "    [2,3],\n",
    "    [3,4],\n",
    "    [-0.5,-0.5],\n",
    "    [-1,-2],\n",
    "    [-2,-3],\n",
    "    [-3,-4],\n",
    "    [-4,-3],\n",
    "\n",
    "])\n",
    "\n",
    "y = np.array([1,1,1,-1,-1,-1,-1,-1])\n",
    "\n",
    "def perceptron_sgd(X, Y):\n",
    "    w = np.zeros(len(X[0]))\n",
    "    eta = 1\n",
    "    epochs = 2222\n",
    "\n",
    "    for t in range(epochs):\n",
    "        for i, x in enumerate(X):\n",
    "            if (np.dot(X[i], w)*Y[i]) <= 0:\n",
    "                w = w + eta*X[i]*Y[i]\n",
    "\n",
    "    return w\n",
    "\n",
    "w = perceptron_sgd(X,y)\n",
    "print(w)"
   ]
  },
  {
   "cell_type": "code",
   "execution_count": 14,
   "id": "643031ec",
   "metadata": {},
   "outputs": [
    {
     "name": "stdout",
     "output_type": "stream",
     "text": [
      "(array([1.5, 1.5]), 0)\n"
     ]
    }
   ],
   "source": [
    "X = np.array([\n",
    "    [1,1],\n",
    "    [2,3],\n",
    "    [3,4],\n",
    "    [-0.5,-0.5],\n",
    "    [-1,-2],\n",
    "    [-2,-3],\n",
    "    [-3,-4],\n",
    "    [-4,-3],\n",
    "\n",
    "])\n",
    "\n",
    "y = np.array([1,1,1,-1,-1,-1,-1,-1])\n",
    "\n",
    "def perceptron_sgd(X, Y):\n",
    "    w = np.zeros(len(X[0]))\n",
    "    w0=0\n",
    "    eta = 1\n",
    "    epochs = 50\n",
    "\n",
    "    for t in range(epochs):\n",
    "        for i, x in enumerate(X):\n",
    "            if ((np.dot(X[i], w)+w0)*Y[i]) <= 0:\n",
    "                w = w + eta*X[i]*Y[i]\n",
    "                w0= w0+Y[i]\n",
    "\n",
    "    return w,w0\n",
    "\n",
    "w = perceptron_sgd(X,y)\n",
    "print(w)"
   ]
  },
  {
   "cell_type": "code",
   "execution_count": 20,
   "id": "1de68304",
   "metadata": {},
   "outputs": [
    {
     "name": "stdout",
     "output_type": "stream",
     "text": [
      "(array([1.5, 1.5]), 0, 2)\n"
     ]
    }
   ],
   "source": [
    "X = np.array([\n",
    "    [1,1],\n",
    "    [2,3],\n",
    "    [3,4],\n",
    "    [-0.5,-0.5],\n",
    "    [-1,-2],\n",
    "    [-2,-3],\n",
    "    [-3,-4],\n",
    "    [-4,-3],\n",
    "\n",
    "])\n",
    "\n",
    "y = np.array([1,1,1,-1,-1,-1,-1,-1])\n",
    "\n",
    "def perceptron_sgd(X, Y):\n",
    "    w = np.zeros(len(X[0]))\n",
    "    w0=0\n",
    "    eta = 1\n",
    "    epochs = 50\n",
    "    count=0\n",
    "\n",
    "    for t in range(epochs):\n",
    "        for i, x in enumerate(X):\n",
    "            if ((np.dot(X[i], w)+w0)*Y[i]) <= 0:\n",
    "                w = w + eta*X[i]*Y[i]\n",
    "                w0= w0+Y[i]\n",
    "                count=count +1\n",
    "\n",
    "    return w,w0,count\n",
    "\n",
    "w = perceptron_sgd(X,y)\n",
    "print(w)"
   ]
  },
  {
   "cell_type": "code",
   "execution_count": 34,
   "id": "6ce65e38",
   "metadata": {},
   "outputs": [
    {
     "name": "stdout",
     "output_type": "stream",
     "text": [
      "(array([1., 1.]), 0, 1)\n"
     ]
    }
   ],
   "source": [
    "X = np.array([\n",
    "    [1,1],\n",
    "    [2,3],\n",
    "    [3,4],\n",
    "    [-0.5,-0.5],\n",
    "    [-1,-2],\n",
    "    [-2,-3],\n",
    "    [-3,-4],\n",
    "    [-4,-3],\n",
    "\n",
    "])\n",
    "\n",
    "y = np.array([1,1,1,-1,-1,-1,-1,-1])\n",
    "\n",
    "def perceptron_sgd(X, Y):\n",
    "    w = np.zeros(len(X[0]))\n",
    "    w0=0\n",
    "    eta = 1\n",
    "    epochs = 1\n",
    "    count=0\n",
    "\n",
    "    for t in range(epochs):\n",
    "        for i, x in enumerate(X):\n",
    "            if ((np.dot(X[i], w)+w0)*Y[i]) <= 0:\n",
    "                w = w + eta*X[i]*Y[i]\n",
    "#                 w0= w0+Y[i]\n",
    "                count=count +1\n",
    "# count son los mistakes\n",
    "    return w,w0,count\n",
    "\n",
    "w = perceptron_sgd(X,y)\n",
    "print(w)"
   ]
  },
  {
   "cell_type": "code",
   "execution_count": 42,
   "id": "43895a3e",
   "metadata": {},
   "outputs": [
    {
     "data": {
      "text/plain": [
       "-0.7320508075688772"
      ]
     },
     "execution_count": 42,
     "metadata": {},
     "output_type": "execute_result"
    }
   ],
   "source": [
    ".5*2-((3**.5)/2)*2\n",
    "\n",
    "\n"
   ]
  },
  {
   "cell_type": "code",
   "execution_count": 43,
   "id": "49350c11",
   "metadata": {},
   "outputs": [
    {
     "data": {
      "text/plain": [
       "2.7647428780199825"
      ]
     },
     "execution_count": 43,
     "metadata": {},
     "output_type": "execute_result"
    }
   ],
   "source": [
    "(3**.5)/2*3+.5/3"
   ]
  },
  {
   "cell_type": "code",
   "execution_count": 61,
   "id": "b9ff35ec",
   "metadata": {},
   "outputs": [
    {
     "name": "stdout",
     "output_type": "stream",
     "text": [
      "[-0.3660254037844386  1.3660254037844386] [-1.598076211353316  3.232050807568877] [-1.9641016151377544  4.598076211353316 ] [ 0.1830127018922193 -0.6830127018922193] [ 1.2320508075688772 -1.8660254037844386] [ 1.598076211353316 -3.232050807568877] [ 1.9641016151377544 -4.598076211353316 ] [ 0.598076211353316 -4.964101615137754]\n"
     ]
    }
   ],
   "source": [
    "r = np.array([\n",
    "    [.5,-(3**.5)/2],\n",
    "    [(3**.5)/2,.5],\n",
    "])\n",
    "\n",
    "a = np.array([1,1])\n",
    "b = np.array([2,3])\n",
    "c = np.array([3,4])\n",
    "d = np.array([-0.5,-0.5])\n",
    "e = np.array([-1,-2])\n",
    "f = np.array([-2,-3])\n",
    "g = np.array([-3,-4])\n",
    "h = np.array([-4,-3])\n",
    "\n",
    "a=np.dot(r, a)\n",
    "b=np.dot(r, b)\n",
    "c=np.dot(r, c)\n",
    "d=np.dot(r, d)\n",
    "e=np.dot(r, e)\n",
    "f=np.dot(r, f)\n",
    "g=np.dot(r, g)\n",
    "h=np.dot(r, h)\n",
    "\n",
    "np.set_printoptions(50)\n",
    "\n",
    "print(a,b,c,d,e,f,g,h)\n",
    "\n",
    "\n",
    "\n",
    "\n"
   ]
  },
  {
   "cell_type": "code",
   "execution_count": 67,
   "id": "5124585d",
   "metadata": {},
   "outputs": [
    {
     "data": {
      "text/plain": [
       "array([-0.549038105676658,  2.049038105676658])"
      ]
     },
     "execution_count": 67,
     "metadata": {},
     "output_type": "execute_result"
    }
   ],
   "source": [
    "r = np.array([\n",
    "    [.5,-(3**.5)/2],\n",
    "    [(3**.5)/2,.5],\n",
    "])\n",
    "\n",
    "a = np.array([1.5,1.5])\n",
    "\n",
    "np.dot(r, a)\n",
    "\n"
   ]
  },
  {
   "cell_type": "code",
   "execution_count": 66,
   "id": "6b328da9",
   "metadata": {},
   "outputs": [
    {
     "name": "stdout",
     "output_type": "stream",
     "text": [
      "(array([-0.5490381056766579,  2.049038105676658 ]), 0, 2)\n"
     ]
    }
   ],
   "source": [
    "# problema 1.3\n",
    "X = np.array([\n",
    "    [-0.3660254037844386 , 1.3660254037844386],\n",
    "    [-1.598076211353316 , 3.232050807568877],\n",
    "    [-1.9641016151377544 , 4.598076211353316 ],\n",
    "    [ 0.1830127018922193 ,-0.6830127018922193],\n",
    "    [1.2320508075688772 ,-1.8660254037844386 ],\n",
    "    [1.598076211353316, -3.232050807568877],\n",
    "    [1.9641016151377544 ,-4.598076211353316],\n",
    "    [0.598076211353316 ,-4.964101615137754],\n",
    "\n",
    "])\n",
    "\n",
    "y = np.array([1,1,1,-1,-1,-1,-1,-1])\n",
    "\n",
    "def perceptron_sgd(X, Y):\n",
    "    w = np.zeros(len(X[0]))\n",
    "    w0=0\n",
    "    eta = 1\n",
    "    epochs = 1000\n",
    "    count=0\n",
    "\n",
    "    for t in range(epochs):\n",
    "        for i, x in enumerate(X):\n",
    "            if ((np.dot(X[i], w)+w0)*Y[i]) <= 0:\n",
    "                w = w + eta*X[i]*Y[i]\n",
    "                w0= w0+Y[i]\n",
    "                count=count +1\n",
    "# count son los mistakes\n",
    "    return w,w0,count\n",
    "\n",
    "w = perceptron_sgd(X,y)\n",
    "print(w)"
   ]
  },
  {
   "cell_type": "code",
   "execution_count": 80,
   "id": "a2cddeb6",
   "metadata": {},
   "outputs": [
    {
     "ename": "ValueError",
     "evalue": "X.shape[0] should be equal to X.shape[1]",
     "output_type": "error",
     "traceback": [
      "\u001b[1;31m---------------------------------------------------------------------------\u001b[0m",
      "\u001b[1;31mValueError\u001b[0m                                Traceback (most recent call last)",
      "\u001b[1;32m~\\AppData\\Local\\Temp/ipykernel_10804/1943891510.py\u001b[0m in \u001b[0;36m<module>\u001b[1;34m\u001b[0m\n\u001b[0;32m     29\u001b[0m \u001b[1;31m# we create an instance of SVM and fit out data.\u001b[0m\u001b[1;33m\u001b[0m\u001b[1;33m\u001b[0m\u001b[1;33m\u001b[0m\u001b[0m\n\u001b[0;32m     30\u001b[0m \u001b[0mclf\u001b[0m \u001b[1;33m=\u001b[0m \u001b[0msvm\u001b[0m\u001b[1;33m.\u001b[0m\u001b[0mSVC\u001b[0m\u001b[1;33m(\u001b[0m\u001b[0mkernel\u001b[0m\u001b[1;33m=\u001b[0m\u001b[0mmy_kernel\u001b[0m\u001b[1;33m)\u001b[0m\u001b[1;33m\u001b[0m\u001b[1;33m\u001b[0m\u001b[0m\n\u001b[1;32m---> 31\u001b[1;33m \u001b[0mclf\u001b[0m\u001b[1;33m.\u001b[0m\u001b[0mfit\u001b[0m\u001b[1;33m(\u001b[0m\u001b[0mX\u001b[0m\u001b[1;33m,\u001b[0m \u001b[0mY\u001b[0m\u001b[1;33m)\u001b[0m\u001b[1;33m\u001b[0m\u001b[1;33m\u001b[0m\u001b[0m\n\u001b[0m\u001b[0;32m     32\u001b[0m \u001b[1;33m\u001b[0m\u001b[0m\n\u001b[0;32m     33\u001b[0m \u001b[1;31m# Plot the decision boundary. For that, we will assign a color to each\u001b[0m\u001b[1;33m\u001b[0m\u001b[1;33m\u001b[0m\u001b[1;33m\u001b[0m\u001b[0m\n",
      "\u001b[1;32mC:\\ProgramData\\Anaconda3\\lib\\site-packages\\sklearn\\svm\\_base.py\u001b[0m in \u001b[0;36mfit\u001b[1;34m(self, X, y, sample_weight)\u001b[0m\n\u001b[0;32m    253\u001b[0m \u001b[1;33m\u001b[0m\u001b[0m\n\u001b[0;32m    254\u001b[0m         \u001b[0mseed\u001b[0m \u001b[1;33m=\u001b[0m \u001b[0mrnd\u001b[0m\u001b[1;33m.\u001b[0m\u001b[0mrandint\u001b[0m\u001b[1;33m(\u001b[0m\u001b[0mnp\u001b[0m\u001b[1;33m.\u001b[0m\u001b[0miinfo\u001b[0m\u001b[1;33m(\u001b[0m\u001b[1;34m\"i\"\u001b[0m\u001b[1;33m)\u001b[0m\u001b[1;33m.\u001b[0m\u001b[0mmax\u001b[0m\u001b[1;33m)\u001b[0m\u001b[1;33m\u001b[0m\u001b[1;33m\u001b[0m\u001b[0m\n\u001b[1;32m--> 255\u001b[1;33m         \u001b[0mfit\u001b[0m\u001b[1;33m(\u001b[0m\u001b[0mX\u001b[0m\u001b[1;33m,\u001b[0m \u001b[0my\u001b[0m\u001b[1;33m,\u001b[0m \u001b[0msample_weight\u001b[0m\u001b[1;33m,\u001b[0m \u001b[0msolver_type\u001b[0m\u001b[1;33m,\u001b[0m \u001b[0mkernel\u001b[0m\u001b[1;33m,\u001b[0m \u001b[0mrandom_seed\u001b[0m\u001b[1;33m=\u001b[0m\u001b[0mseed\u001b[0m\u001b[1;33m)\u001b[0m\u001b[1;33m\u001b[0m\u001b[1;33m\u001b[0m\u001b[0m\n\u001b[0m\u001b[0;32m    256\u001b[0m         \u001b[1;31m# see comment on the other call to np.iinfo in this file\u001b[0m\u001b[1;33m\u001b[0m\u001b[1;33m\u001b[0m\u001b[1;33m\u001b[0m\u001b[0m\n\u001b[0;32m    257\u001b[0m \u001b[1;33m\u001b[0m\u001b[0m\n",
      "\u001b[1;32mC:\\ProgramData\\Anaconda3\\lib\\site-packages\\sklearn\\svm\\_base.py\u001b[0m in \u001b[0;36m_dense_fit\u001b[1;34m(self, X, y, sample_weight, solver_type, kernel, random_seed)\u001b[0m\n\u001b[0;32m    298\u001b[0m \u001b[1;33m\u001b[0m\u001b[0m\n\u001b[0;32m    299\u001b[0m             \u001b[1;32mif\u001b[0m \u001b[0mX\u001b[0m\u001b[1;33m.\u001b[0m\u001b[0mshape\u001b[0m\u001b[1;33m[\u001b[0m\u001b[1;36m0\u001b[0m\u001b[1;33m]\u001b[0m \u001b[1;33m!=\u001b[0m \u001b[0mX\u001b[0m\u001b[1;33m.\u001b[0m\u001b[0mshape\u001b[0m\u001b[1;33m[\u001b[0m\u001b[1;36m1\u001b[0m\u001b[1;33m]\u001b[0m\u001b[1;33m:\u001b[0m\u001b[1;33m\u001b[0m\u001b[1;33m\u001b[0m\u001b[0m\n\u001b[1;32m--> 300\u001b[1;33m                 \u001b[1;32mraise\u001b[0m \u001b[0mValueError\u001b[0m\u001b[1;33m(\u001b[0m\u001b[1;34m\"X.shape[0] should be equal to X.shape[1]\"\u001b[0m\u001b[1;33m)\u001b[0m\u001b[1;33m\u001b[0m\u001b[1;33m\u001b[0m\u001b[0m\n\u001b[0m\u001b[0;32m    301\u001b[0m \u001b[1;33m\u001b[0m\u001b[0m\n\u001b[0;32m    302\u001b[0m         \u001b[0mlibsvm\u001b[0m\u001b[1;33m.\u001b[0m\u001b[0mset_verbosity_wrap\u001b[0m\u001b[1;33m(\u001b[0m\u001b[0mself\u001b[0m\u001b[1;33m.\u001b[0m\u001b[0mverbose\u001b[0m\u001b[1;33m)\u001b[0m\u001b[1;33m\u001b[0m\u001b[1;33m\u001b[0m\u001b[0m\n",
      "\u001b[1;31mValueError\u001b[0m: X.shape[0] should be equal to X.shape[1]"
     ]
    }
   ],
   "source": []
  },
  {
   "cell_type": "code",
   "execution_count": 84,
   "id": "ab0d648e",
   "metadata": {},
   "outputs": [],
   "source": [
    "s0 = np.array([\n",
    "    [0,0],\n",
    "    ])\n",
    "\n",
    "\n",
    "wss = np.array([\n",
    "    [-1,0],\n",
    "    [0,1],\n",
    "])\n",
    "\n",
    "wsx = np.array([\n",
    "    [1,0],\n",
    "    [0,1],\n",
    "])\n",
    "\n",
    "a = np.array([\n",
    "    [1,0],\n",
    "    ])\n",
    "\n",
    "b = np.array([\n",
    "    [0,1],\n",
    "    ])\n",
    "\n",
    "def relu(x):\n",
    "    return np.maximum(0, x)"
   ]
  },
  {
   "cell_type": "code",
   "execution_count": 94,
   "id": "20541db6",
   "metadata": {},
   "outputs": [
    {
     "data": {
      "text/plain": [
       "array([[0],\n",
       "       [0]])"
      ]
     },
     "execution_count": 94,
     "metadata": {},
     "output_type": "execute_result"
    }
   ],
   "source": [
    "# Para AA\n",
    "st_1 = relu(np.dot(wss,s0.T)+np.dot(wsx,a.T))\n",
    "st= relu(np.dot(wss,st_1)+np.dot(wsx,a.T))\n",
    "st\n"
   ]
  },
  {
   "cell_type": "code",
   "execution_count": 97,
   "id": "8ef79588",
   "metadata": {},
   "outputs": [
    {
     "data": {
      "text/plain": [
       "array([[0],\n",
       "       [2]])"
      ]
     },
     "execution_count": 97,
     "metadata": {},
     "output_type": "execute_result"
    }
   ],
   "source": [
    "# Para ABB\n",
    "st_1 = relu(np.dot(wss,s0.T)+np.dot(wsx,a.T))\n",
    "st= relu(np.dot(wss,st_1)+np.dot(wsx,b.T))\n",
    "st_f= relu(np.dot(wss,st)+np.dot(wsx,b.T))\n",
    "st_f"
   ]
  },
  {
   "cell_type": "code",
   "execution_count": 98,
   "id": "533d8453",
   "metadata": {},
   "outputs": [
    {
     "data": {
      "text/plain": [
       "array([[1],\n",
       "       [2]])"
      ]
     },
     "execution_count": 98,
     "metadata": {},
     "output_type": "execute_result"
    }
   ],
   "source": [
    "# Para BBA\n",
    "st_1 = relu(np.dot(wss,s0.T)+np.dot(wsx,b.T))\n",
    "st= relu(np.dot(wss,st_1)+np.dot(wsx,b.T))\n",
    "st_f= relu(np.dot(wss,st)+np.dot(wsx,a.T))\n",
    "st_f"
   ]
  }
 ],
 "metadata": {
  "kernelspec": {
   "display_name": "Python 3 (ipykernel)",
   "language": "python",
   "name": "python3"
  },
  "language_info": {
   "codemirror_mode": {
    "name": "ipython",
    "version": 3
   },
   "file_extension": ".py",
   "mimetype": "text/x-python",
   "name": "python",
   "nbconvert_exporter": "python",
   "pygments_lexer": "ipython3",
   "version": "3.8.12"
  }
 },
 "nbformat": 4,
 "nbformat_minor": 5
}
