{
 "cells": [
  {
   "cell_type": "code",
   "execution_count": 6,
   "id": "28418e0b",
   "metadata": {},
   "outputs": [],
   "source": [
    "# conda install -c conda-forge tqdm\n",
    "import _pickle as cPickle, gzip\n",
    "import numpy as np\n",
    "from tqdm import tqdm\n",
    "import torch\n",
    "import torch.autograd as autograd\n",
    "import torch.nn.functional as F\n",
    "import torch.nn as nn\n",
    "import sys\n",
    "sys.path.append(\"..\")\n",
    "import utils\n",
    "from utils import *\n",
    "from train_utils import batchify_data, run_epoch, train_model"
   ]
  },
  {
   "cell_type": "code",
   "execution_count": 7,
   "id": "d8ea9af0",
   "metadata": {},
   "outputs": [
    {
     "name": "stdout",
     "output_type": "stream",
     "text": [
      "-------------\n",
      "Epoch 1:\n",
      "\n"
     ]
    },
    {
     "name": "stderr",
     "output_type": "stream",
     "text": [
      "100%|██████████████████████████████████████████████████████████████████████████████████████████| 1687/1687 [00:01<00:00, 1217.97it/s]\n"
     ]
    },
    {
     "name": "stdout",
     "output_type": "stream",
     "text": [
      "Train loss: 0.445684 | Train accuracy: 0.870758\n"
     ]
    },
    {
     "name": "stderr",
     "output_type": "stream",
     "text": [
      "100%|████████████████████████████████████████████████████████████████████████████████████████████| 187/187 [00:00<00:00, 2829.99it/s]\n"
     ]
    },
    {
     "name": "stdout",
     "output_type": "stream",
     "text": [
      "Val loss:   0.260342 | Val accuracy:   0.923630\n",
      "-------------\n",
      "Epoch 2:\n",
      "\n"
     ]
    },
    {
     "name": "stderr",
     "output_type": "stream",
     "text": [
      "100%|██████████████████████████████████████████████████████████████████████████████████████████| 1687/1687 [00:01<00:00, 1184.67it/s]\n"
     ]
    },
    {
     "name": "stdout",
     "output_type": "stream",
     "text": [
      "Train loss: 0.303323 | Train accuracy: 0.912289\n"
     ]
    },
    {
     "name": "stderr",
     "output_type": "stream",
     "text": [
      "100%|████████████████████████████████████████████████████████████████████████████████████████████| 187/187 [00:00<00:00, 2577.43it/s]\n"
     ]
    },
    {
     "name": "stdout",
     "output_type": "stream",
     "text": [
      "Val loss:   0.239971 | Val accuracy:   0.929479\n",
      "-------------\n",
      "Epoch 3:\n",
      "\n"
     ]
    },
    {
     "name": "stderr",
     "output_type": "stream",
     "text": [
      "100%|██████████████████████████████████████████████████████████████████████████████████████████| 1687/1687 [00:01<00:00, 1173.21it/s]\n"
     ]
    },
    {
     "name": "stdout",
     "output_type": "stream",
     "text": [
      "Train loss: 0.281178 | Train accuracy: 0.918920\n"
     ]
    },
    {
     "name": "stderr",
     "output_type": "stream",
     "text": [
      "100%|████████████████████████████████████████████████████████████████████████████████████████████| 187/187 [00:00<00:00, 2262.38it/s]\n"
     ]
    },
    {
     "name": "stdout",
     "output_type": "stream",
     "text": [
      "Val loss:   0.232849 | Val accuracy:   0.932152\n",
      "-------------\n",
      "Epoch 4:\n",
      "\n"
     ]
    },
    {
     "name": "stderr",
     "output_type": "stream",
     "text": [
      "100%|██████████████████████████████████████████████████████████████████████████████████████████| 1687/1687 [00:01<00:00, 1181.02it/s]\n"
     ]
    },
    {
     "name": "stdout",
     "output_type": "stream",
     "text": [
      "Train loss: 0.266577 | Train accuracy: 0.923088\n"
     ]
    },
    {
     "name": "stderr",
     "output_type": "stream",
     "text": [
      "100%|████████████████████████████████████████████████████████████████████████████████████████████| 187/187 [00:00<00:00, 2682.70it/s]\n"
     ]
    },
    {
     "name": "stdout",
     "output_type": "stream",
     "text": [
      "Val loss:   0.231824 | Val accuracy:   0.930983\n",
      "-------------\n",
      "Epoch 5:\n",
      "\n"
     ]
    },
    {
     "name": "stderr",
     "output_type": "stream",
     "text": [
      "100%|██████████████████████████████████████████████████████████████████████████████████████████| 1687/1687 [00:01<00:00, 1141.01it/s]\n"
     ]
    },
    {
     "name": "stdout",
     "output_type": "stream",
     "text": [
      "Train loss: 0.255165 | Train accuracy: 0.926460\n"
     ]
    },
    {
     "name": "stderr",
     "output_type": "stream",
     "text": [
      "100%|████████████████████████████████████████████████████████████████████████████████████████████| 187/187 [00:00<00:00, 2629.62it/s]\n"
     ]
    },
    {
     "name": "stdout",
     "output_type": "stream",
     "text": [
      "Val loss:   0.230423 | Val accuracy:   0.931317\n",
      "-------------\n",
      "Epoch 6:\n",
      "\n"
     ]
    },
    {
     "name": "stderr",
     "output_type": "stream",
     "text": [
      "100%|██████████████████████████████████████████████████████████████████████████████████████████| 1687/1687 [00:01<00:00, 1239.36it/s]\n"
     ]
    },
    {
     "name": "stdout",
     "output_type": "stream",
     "text": [
      "Train loss: 0.245930 | Train accuracy: 0.928442\n"
     ]
    },
    {
     "name": "stderr",
     "output_type": "stream",
     "text": [
      "100%|████████████████████████████████████████████████████████████████████████████████████████████| 187/187 [00:00<00:00, 2635.88it/s]\n"
     ]
    },
    {
     "name": "stdout",
     "output_type": "stream",
     "text": [
      "Val loss:   0.229930 | Val accuracy:   0.931150\n",
      "-------------\n",
      "Epoch 7:\n",
      "\n"
     ]
    },
    {
     "name": "stderr",
     "output_type": "stream",
     "text": [
      "100%|██████████████████████████████████████████████████████████████████████████████████████████| 1687/1687 [00:01<00:00, 1172.65it/s]\n"
     ]
    },
    {
     "name": "stdout",
     "output_type": "stream",
     "text": [
      "Train loss: 0.238349 | Train accuracy: 0.930702\n"
     ]
    },
    {
     "name": "stderr",
     "output_type": "stream",
     "text": [
      "100%|████████████████████████████████████████████████████████████████████████████████████████████| 187/187 [00:00<00:00, 2650.24it/s]\n"
     ]
    },
    {
     "name": "stdout",
     "output_type": "stream",
     "text": [
      "Val loss:   0.231337 | Val accuracy:   0.930648\n",
      "-------------\n",
      "Epoch 8:\n",
      "\n"
     ]
    },
    {
     "name": "stderr",
     "output_type": "stream",
     "text": [
      "100%|██████████████████████████████████████████████████████████████████████████████████████████| 1687/1687 [00:01<00:00, 1198.43it/s]\n"
     ]
    },
    {
     "name": "stdout",
     "output_type": "stream",
     "text": [
      "Train loss: 0.232549 | Train accuracy: 0.932276\n"
     ]
    },
    {
     "name": "stderr",
     "output_type": "stream",
     "text": [
      "100%|████████████████████████████████████████████████████████████████████████████████████████████| 187/187 [00:00<00:00, 2897.58it/s]\n"
     ]
    },
    {
     "name": "stdout",
     "output_type": "stream",
     "text": [
      "Val loss:   0.229597 | Val accuracy:   0.932487\n",
      "-------------\n",
      "Epoch 9:\n",
      "\n"
     ]
    },
    {
     "name": "stderr",
     "output_type": "stream",
     "text": [
      "100%|██████████████████████████████████████████████████████████████████████████████████████████| 1687/1687 [00:01<00:00, 1226.84it/s]\n"
     ]
    },
    {
     "name": "stdout",
     "output_type": "stream",
     "text": [
      "Train loss: 0.227751 | Train accuracy: 0.933888\n"
     ]
    },
    {
     "name": "stderr",
     "output_type": "stream",
     "text": [
      "100%|████████████████████████████████████████████████████████████████████████████████████████████| 187/187 [00:00<00:00, 2710.26it/s]\n"
     ]
    },
    {
     "name": "stdout",
     "output_type": "stream",
     "text": [
      "Val loss:   0.229607 | Val accuracy:   0.932487\n",
      "-------------\n",
      "Epoch 10:\n",
      "\n"
     ]
    },
    {
     "name": "stderr",
     "output_type": "stream",
     "text": [
      "100%|██████████████████████████████████████████████████████████████████████████████████████████| 1687/1687 [00:01<00:00, 1191.42it/s]\n"
     ]
    },
    {
     "name": "stdout",
     "output_type": "stream",
     "text": [
      "Train loss: 0.223966 | Train accuracy: 0.935147\n"
     ]
    },
    {
     "name": "stderr",
     "output_type": "stream",
     "text": [
      "100%|████████████████████████████████████████████████████████████████████████████████████████████| 187/187 [00:00<00:00, 2613.68it/s]\n"
     ]
    },
    {
     "name": "stdout",
     "output_type": "stream",
     "text": [
      "Val loss:   0.228388 | Val accuracy:   0.932487\n"
     ]
    },
    {
     "name": "stderr",
     "output_type": "stream",
     "text": [
      "100%|████████████████████████████████████████████████████████████████████████████████████████████| 312/312 [00:00<00:00, 3038.64it/s]"
     ]
    },
    {
     "name": "stdout",
     "output_type": "stream",
     "text": [
      "Loss on test set:0.2672269311949957 Accuracy on test set: 0.9204727564102564\n"
     ]
    },
    {
     "name": "stderr",
     "output_type": "stream",
     "text": [
      "\n"
     ]
    }
   ],
   "source": [
    "# no modification\n",
    "def main():\n",
    "    # Load the dataset\n",
    "    num_classes = 10\n",
    "    X_train, y_train, X_test, y_test = get_MNIST_data()\n",
    "\n",
    "    # Split into train and dev\n",
    "    dev_split_index = int(9 * len(X_train) / 10)\n",
    "    X_dev = X_train[dev_split_index:]\n",
    "    y_dev = y_train[dev_split_index:]\n",
    "    X_train = X_train[:dev_split_index]\n",
    "    y_train = y_train[:dev_split_index]\n",
    "\n",
    "    permutation = np.array([i for i in range(len(X_train))])\n",
    "    np.random.shuffle(permutation)\n",
    "    X_train = [X_train[i] for i in permutation]\n",
    "    y_train = [y_train[i] for i in permutation]\n",
    "\n",
    "    # Split dataset into batches\n",
    "    batch_size = 32\n",
    "    train_batches = batchify_data(X_train, y_train, batch_size)\n",
    "    dev_batches = batchify_data(X_dev, y_dev, batch_size)\n",
    "    test_batches = batchify_data(X_test, y_test, batch_size)\n",
    "\n",
    "    #################################\n",
    "    ## Model specification TODO\n",
    "    model = nn.Sequential(\n",
    "              nn.Linear(784, 10),\n",
    "              nn.ReLU(),\n",
    "              nn.Linear(10, 10),\n",
    "            )\n",
    "    lr=0.1\n",
    "    momentum=0\n",
    "    ##################################\n",
    "\n",
    "    train_model(train_batches, dev_batches, model, lr=lr, momentum=momentum)\n",
    "\n",
    "    ## Evaluate the model on test data\n",
    "    loss, accuracy = run_epoch(test_batches, model.eval(), None)\n",
    "\n",
    "    print (\"Loss on test set:\"  + str(loss) + \" Accuracy on test set: \" + str(accuracy))\n",
    "\n",
    "\n",
    "if __name__ == '__main__':\n",
    "    # Specify seed for deterministic behavior, then shuffle. Do not change seed for official submissions to edx\n",
    "    np.random.seed(12321)  # for reproducibility\n",
    "    torch.manual_seed(12321)  # for reproducibility\n",
    "    main()"
   ]
  },
  {
   "cell_type": "code",
   "execution_count": 10,
   "id": "848eb28f",
   "metadata": {},
   "outputs": [
    {
     "name": "stdout",
     "output_type": "stream",
     "text": [
      "-------------\n",
      "Epoch 1:\n",
      "\n"
     ]
    },
    {
     "name": "stderr",
     "output_type": "stream",
     "text": [
      "100%|████████████████████████████████████████████████████████████████████████████████████████████| 843/843 [00:00<00:00, 1185.59it/s]\n"
     ]
    },
    {
     "name": "stdout",
     "output_type": "stream",
     "text": [
      "Train loss: 0.528406 | Train accuracy: 0.851016\n"
     ]
    },
    {
     "name": "stderr",
     "output_type": "stream",
     "text": [
      "100%|██████████████████████████████████████████████████████████████████████████████████████████████| 93/93 [00:00<00:00, 2324.96it/s]\n"
     ]
    },
    {
     "name": "stdout",
     "output_type": "stream",
     "text": [
      "Val loss:   0.270610 | Val accuracy:   0.922715\n",
      "-------------\n",
      "Epoch 2:\n",
      "\n"
     ]
    },
    {
     "name": "stderr",
     "output_type": "stream",
     "text": [
      "100%|████████████████████████████████████████████████████████████████████████████████████████████| 843/843 [00:00<00:00, 1034.97it/s]\n"
     ]
    },
    {
     "name": "stdout",
     "output_type": "stream",
     "text": [
      "Train loss: 0.312326 | Train accuracy: 0.910569\n"
     ]
    },
    {
     "name": "stderr",
     "output_type": "stream",
     "text": [
      "100%|██████████████████████████████████████████████████████████████████████████████████████████████| 93/93 [00:00<00:00, 2189.46it/s]\n"
     ]
    },
    {
     "name": "stdout",
     "output_type": "stream",
     "text": [
      "Val loss:   0.245788 | Val accuracy:   0.927923\n",
      "-------------\n",
      "Epoch 3:\n",
      "\n"
     ]
    },
    {
     "name": "stderr",
     "output_type": "stream",
     "text": [
      "100%|████████████████████████████████████████████████████████████████████████████████████████████| 843/843 [00:00<00:00, 1075.87it/s]\n"
     ]
    },
    {
     "name": "stdout",
     "output_type": "stream",
     "text": [
      "Train loss: 0.287699 | Train accuracy: 0.917927\n"
     ]
    },
    {
     "name": "stderr",
     "output_type": "stream",
     "text": [
      "100%|██████████████████████████████████████████████████████████████████████████████████████████████| 93/93 [00:00<00:00, 2447.38it/s]\n"
     ]
    },
    {
     "name": "stdout",
     "output_type": "stream",
     "text": [
      "Val loss:   0.234042 | Val accuracy:   0.930948\n",
      "-------------\n",
      "Epoch 4:\n",
      "\n"
     ]
    },
    {
     "name": "stderr",
     "output_type": "stream",
     "text": [
      "100%|████████████████████████████████████████████████████████████████████████████████████████████| 843/843 [00:00<00:00, 1074.27it/s]\n"
     ]
    },
    {
     "name": "stdout",
     "output_type": "stream",
     "text": [
      "Train loss: 0.273053 | Train accuracy: 0.922505\n"
     ]
    },
    {
     "name": "stderr",
     "output_type": "stream",
     "text": [
      "100%|██████████████████████████████████████████████████████████████████████████████████████████████| 93/93 [00:00<00:00, 2214.33it/s]\n"
     ]
    },
    {
     "name": "stdout",
     "output_type": "stream",
     "text": [
      "Val loss:   0.225920 | Val accuracy:   0.935316\n",
      "-------------\n",
      "Epoch 5:\n",
      "\n"
     ]
    },
    {
     "name": "stderr",
     "output_type": "stream",
     "text": [
      "100%|████████████████████████████████████████████████████████████████████████████████████████████| 843/843 [00:00<00:00, 1042.18it/s]\n"
     ]
    },
    {
     "name": "stdout",
     "output_type": "stream",
     "text": [
      "Train loss: 0.262189 | Train accuracy: 0.924692\n"
     ]
    },
    {
     "name": "stderr",
     "output_type": "stream",
     "text": [
      "100%|██████████████████████████████████████████████████████████████████████████████████████████████| 93/93 [00:00<00:00, 2066.61it/s]\n"
     ]
    },
    {
     "name": "stdout",
     "output_type": "stream",
     "text": [
      "Val loss:   0.220886 | Val accuracy:   0.936996\n",
      "-------------\n",
      "Epoch 6:\n",
      "\n"
     ]
    },
    {
     "name": "stderr",
     "output_type": "stream",
     "text": [
      "100%|████████████████████████████████████████████████████████████████████████████████████████████| 843/843 [00:00<00:00, 1063.18it/s]\n"
     ]
    },
    {
     "name": "stdout",
     "output_type": "stream",
     "text": [
      "Train loss: 0.253202 | Train accuracy: 0.927213\n"
     ]
    },
    {
     "name": "stderr",
     "output_type": "stream",
     "text": [
      "100%|██████████████████████████████████████████████████████████████████████████████████████████████| 93/93 [00:00<00:00, 2447.59it/s]\n"
     ]
    },
    {
     "name": "stdout",
     "output_type": "stream",
     "text": [
      "Val loss:   0.216341 | Val accuracy:   0.936996\n",
      "-------------\n",
      "Epoch 7:\n",
      "\n"
     ]
    },
    {
     "name": "stderr",
     "output_type": "stream",
     "text": [
      "100%|████████████████████████████████████████████████████████████████████████████████████████████| 843/843 [00:00<00:00, 1066.10it/s]\n"
     ]
    },
    {
     "name": "stdout",
     "output_type": "stream",
     "text": [
      "Train loss: 0.244540 | Train accuracy: 0.929956\n"
     ]
    },
    {
     "name": "stderr",
     "output_type": "stream",
     "text": [
      "100%|██████████████████████████████████████████████████████████████████████████████████████████████| 93/93 [00:00<00:00, 2325.02it/s]\n"
     ]
    },
    {
     "name": "stdout",
     "output_type": "stream",
     "text": [
      "Val loss:   0.213003 | Val accuracy:   0.937836\n",
      "-------------\n",
      "Epoch 8:\n",
      "\n"
     ]
    },
    {
     "name": "stderr",
     "output_type": "stream",
     "text": [
      "100%|█████████████████████████████████████████████████████████████████████████████████████████████| 843/843 [00:00<00:00, 967.19it/s]\n"
     ]
    },
    {
     "name": "stdout",
     "output_type": "stream",
     "text": [
      "Train loss: 0.237237 | Train accuracy: 0.931587\n"
     ]
    },
    {
     "name": "stderr",
     "output_type": "stream",
     "text": [
      "100%|██████████████████████████████████████████████████████████████████████████████████████████████| 93/93 [00:00<00:00, 2268.25it/s]\n"
     ]
    },
    {
     "name": "stdout",
     "output_type": "stream",
     "text": [
      "Val loss:   0.210977 | Val accuracy:   0.939348\n",
      "-------------\n",
      "Epoch 9:\n",
      "\n"
     ]
    },
    {
     "name": "stderr",
     "output_type": "stream",
     "text": [
      "100%|████████████████████████████████████████████████████████████████████████████████████████████| 843/843 [00:00<00:00, 1072.37it/s]\n"
     ]
    },
    {
     "name": "stdout",
     "output_type": "stream",
     "text": [
      "Train loss: 0.231026 | Train accuracy: 0.933478\n"
     ]
    },
    {
     "name": "stderr",
     "output_type": "stream",
     "text": [
      "100%|██████████████████████████████████████████████████████████████████████████████████████████████| 93/93 [00:00<00:00, 2350.85it/s]\n"
     ]
    },
    {
     "name": "stdout",
     "output_type": "stream",
     "text": [
      "Val loss:   0.208782 | Val accuracy:   0.940860\n",
      "-------------\n",
      "Epoch 10:\n",
      "\n"
     ]
    },
    {
     "name": "stderr",
     "output_type": "stream",
     "text": [
      "100%|████████████████████████████████████████████████████████████████████████████████████████████| 843/843 [00:00<00:00, 1089.30it/s]\n"
     ]
    },
    {
     "name": "stdout",
     "output_type": "stream",
     "text": [
      "Train loss: 0.225737 | Train accuracy: 0.934405\n"
     ]
    },
    {
     "name": "stderr",
     "output_type": "stream",
     "text": [
      "100%|██████████████████████████████████████████████████████████████████████████████████████████████| 93/93 [00:00<00:00, 2384.73it/s]\n"
     ]
    },
    {
     "name": "stdout",
     "output_type": "stream",
     "text": [
      "Val loss:   0.211212 | Val accuracy:   0.939852\n"
     ]
    },
    {
     "name": "stderr",
     "output_type": "stream",
     "text": [
      "100%|████████████████████████████████████████████████████████████████████████████████████████████| 156/156 [00:00<00:00, 2294.02it/s]"
     ]
    },
    {
     "name": "stdout",
     "output_type": "stream",
     "text": [
      "Loss on test set:0.2457950041921905 Accuracy on test set: 0.9298878205128205\n"
     ]
    },
    {
     "name": "stderr",
     "output_type": "stream",
     "text": [
      "\n"
     ]
    }
   ],
   "source": [
    "# batch size 64\n",
    "def main():\n",
    "    # Load the dataset\n",
    "    num_classes = 10\n",
    "    X_train, y_train, X_test, y_test = get_MNIST_data()\n",
    "\n",
    "    # Split into train and dev\n",
    "    dev_split_index = int(9 * len(X_train) / 10)\n",
    "    X_dev = X_train[dev_split_index:]\n",
    "    y_dev = y_train[dev_split_index:]\n",
    "    X_train = X_train[:dev_split_index]\n",
    "    y_train = y_train[:dev_split_index]\n",
    "\n",
    "    permutation = np.array([i for i in range(len(X_train))])\n",
    "    np.random.shuffle(permutation)\n",
    "    X_train = [X_train[i] for i in permutation]\n",
    "    y_train = [y_train[i] for i in permutation]\n",
    "\n",
    "    # Split dataset into batches\n",
    "    batch_size = 64\n",
    "    train_batches = batchify_data(X_train, y_train, batch_size)\n",
    "    dev_batches = batchify_data(X_dev, y_dev, batch_size)\n",
    "    test_batches = batchify_data(X_test, y_test, batch_size)\n",
    "\n",
    "    #################################\n",
    "    ## Model specification TODO\n",
    "    model = nn.Sequential(\n",
    "              nn.Linear(784, 10),\n",
    "              nn.ReLU(),\n",
    "              nn.Linear(10, 10),\n",
    "            )\n",
    "    lr=0.1\n",
    "    momentum=0\n",
    "    ##################################\n",
    "\n",
    "    train_model(train_batches, dev_batches, model, lr=lr, momentum=momentum)\n",
    "\n",
    "    ## Evaluate the model on test data\n",
    "    loss, accuracy = run_epoch(test_batches, model.eval(), None)\n",
    "\n",
    "    print (\"Loss on test set:\"  + str(loss) + \" Accuracy on test set: \" + str(accuracy))\n",
    "\n",
    "\n",
    "if __name__ == '__main__':\n",
    "    # Specify seed for deterministic behavior, then shuffle. Do not change seed for official submissions to edx\n",
    "    np.random.seed(12321)  # for reproducibility\n",
    "    torch.manual_seed(12321)  # for reproducibility\n",
    "    main()"
   ]
  },
  {
   "cell_type": "code",
   "execution_count": 11,
   "id": "3ccaf5e2",
   "metadata": {},
   "outputs": [
    {
     "name": "stdout",
     "output_type": "stream",
     "text": [
      "-------------\n",
      "Epoch 1:\n",
      "\n"
     ]
    },
    {
     "name": "stderr",
     "output_type": "stream",
     "text": [
      "100%|██████████████████████████████████████████████████████████████████████████████████████████| 1687/1687 [00:01<00:00, 1214.83it/s]\n"
     ]
    },
    {
     "name": "stdout",
     "output_type": "stream",
     "text": [
      "Train loss: 1.060107 | Train accuracy: 0.720417\n"
     ]
    },
    {
     "name": "stderr",
     "output_type": "stream",
     "text": [
      "100%|████████████████████████████████████████████████████████████████████████████████████████████| 187/187 [00:00<00:00, 2561.69it/s]\n"
     ]
    },
    {
     "name": "stdout",
     "output_type": "stream",
     "text": [
      "Val loss:   0.422035 | Val accuracy:   0.895388\n",
      "-------------\n",
      "Epoch 2:\n",
      "\n"
     ]
    },
    {
     "name": "stderr",
     "output_type": "stream",
     "text": [
      "100%|██████████████████████████████████████████████████████████████████████████████████████████| 1687/1687 [00:01<00:00, 1221.08it/s]\n"
     ]
    },
    {
     "name": "stdout",
     "output_type": "stream",
     "text": [
      "Train loss: 0.430563 | Train accuracy: 0.882576\n"
     ]
    },
    {
     "name": "stderr",
     "output_type": "stream",
     "text": [
      "100%|████████████████████████████████████████████████████████████████████████████████████████████| 187/187 [00:00<00:00, 2710.19it/s]\n"
     ]
    },
    {
     "name": "stdout",
     "output_type": "stream",
     "text": [
      "Val loss:   0.317500 | Val accuracy:   0.914940\n",
      "-------------\n",
      "Epoch 3:\n",
      "\n"
     ]
    },
    {
     "name": "stderr",
     "output_type": "stream",
     "text": [
      "100%|██████████████████████████████████████████████████████████████████████████████████████████| 1687/1687 [00:01<00:00, 1187.11it/s]\n"
     ]
    },
    {
     "name": "stdout",
     "output_type": "stream",
     "text": [
      "Train loss: 0.367536 | Train accuracy: 0.897044\n"
     ]
    },
    {
     "name": "stderr",
     "output_type": "stream",
     "text": [
      "100%|████████████████████████████████████████████████████████████████████████████████████████████| 187/187 [00:00<00:00, 2237.81it/s]\n"
     ]
    },
    {
     "name": "stdout",
     "output_type": "stream",
     "text": [
      "Val loss:   0.285166 | Val accuracy:   0.922293\n",
      "-------------\n",
      "Epoch 4:\n",
      "\n"
     ]
    },
    {
     "name": "stderr",
     "output_type": "stream",
     "text": [
      "100%|██████████████████████████████████████████████████████████████████████████████████████████| 1687/1687 [00:01<00:00, 1165.92it/s]\n"
     ]
    },
    {
     "name": "stdout",
     "output_type": "stream",
     "text": [
      "Train loss: 0.340316 | Train accuracy: 0.904157\n"
     ]
    },
    {
     "name": "stderr",
     "output_type": "stream",
     "text": [
      "100%|████████████████████████████████████████████████████████████████████████████████████████████| 187/187 [00:00<00:00, 2397.48it/s]\n"
     ]
    },
    {
     "name": "stdout",
     "output_type": "stream",
     "text": [
      "Val loss:   0.268281 | Val accuracy:   0.926303\n",
      "-------------\n",
      "Epoch 5:\n",
      "\n"
     ]
    },
    {
     "name": "stderr",
     "output_type": "stream",
     "text": [
      "100%|██████████████████████████████████████████████████████████████████████████████████████████| 1687/1687 [00:01<00:00, 1208.86it/s]\n"
     ]
    },
    {
     "name": "stdout",
     "output_type": "stream",
     "text": [
      "Train loss: 0.323848 | Train accuracy: 0.907880\n"
     ]
    },
    {
     "name": "stderr",
     "output_type": "stream",
     "text": [
      "100%|████████████████████████████████████████████████████████████████████████████████████████████| 187/187 [00:00<00:00, 2491.78it/s]\n"
     ]
    },
    {
     "name": "stdout",
     "output_type": "stream",
     "text": [
      "Val loss:   0.257622 | Val accuracy:   0.927640\n",
      "-------------\n",
      "Epoch 6:\n",
      "\n"
     ]
    },
    {
     "name": "stderr",
     "output_type": "stream",
     "text": [
      "100%|██████████████████████████████████████████████████████████████████████████████████████████| 1687/1687 [00:01<00:00, 1107.77it/s]\n"
     ]
    },
    {
     "name": "stdout",
     "output_type": "stream",
     "text": [
      "Train loss: 0.312422 | Train accuracy: 0.910862\n"
     ]
    },
    {
     "name": "stderr",
     "output_type": "stream",
     "text": [
      "100%|████████████████████████████████████████████████████████████████████████████████████████████| 187/187 [00:00<00:00, 2633.83it/s]\n"
     ]
    },
    {
     "name": "stdout",
     "output_type": "stream",
     "text": [
      "Val loss:   0.250134 | Val accuracy:   0.928476\n",
      "-------------\n",
      "Epoch 7:\n",
      "\n"
     ]
    },
    {
     "name": "stderr",
     "output_type": "stream",
     "text": [
      "100%|██████████████████████████████████████████████████████████████████████████████████████████| 1687/1687 [00:01<00:00, 1226.13it/s]\n"
     ]
    },
    {
     "name": "stdout",
     "output_type": "stream",
     "text": [
      "Train loss: 0.303781 | Train accuracy: 0.913289\n"
     ]
    },
    {
     "name": "stderr",
     "output_type": "stream",
     "text": [
      "100%|████████████████████████████████████████████████████████████████████████████████████████████| 187/187 [00:00<00:00, 2688.34it/s]\n"
     ]
    },
    {
     "name": "stdout",
     "output_type": "stream",
     "text": [
      "Val loss:   0.244547 | Val accuracy:   0.930983\n",
      "-------------\n",
      "Epoch 8:\n",
      "\n"
     ]
    },
    {
     "name": "stderr",
     "output_type": "stream",
     "text": [
      "100%|██████████████████████████████████████████████████████████████████████████████████████████| 1687/1687 [00:01<00:00, 1236.04it/s]\n"
     ]
    },
    {
     "name": "stdout",
     "output_type": "stream",
     "text": [
      "Train loss: 0.296870 | Train accuracy: 0.915142\n"
     ]
    },
    {
     "name": "stderr",
     "output_type": "stream",
     "text": [
      "100%|████████████████████████████████████████████████████████████████████████████████████████████| 187/187 [00:00<00:00, 2743.39it/s]\n"
     ]
    },
    {
     "name": "stdout",
     "output_type": "stream",
     "text": [
      "Val loss:   0.240068 | Val accuracy:   0.931818\n",
      "-------------\n",
      "Epoch 9:\n",
      "\n"
     ]
    },
    {
     "name": "stderr",
     "output_type": "stream",
     "text": [
      "100%|██████████████████████████████████████████████████████████████████████████████████████████| 1687/1687 [00:01<00:00, 1256.74it/s]\n"
     ]
    },
    {
     "name": "stdout",
     "output_type": "stream",
     "text": [
      "Train loss: 0.291028 | Train accuracy: 0.916938\n"
     ]
    },
    {
     "name": "stderr",
     "output_type": "stream",
     "text": [
      "100%|████████████████████████████████████████████████████████████████████████████████████████████| 187/187 [00:00<00:00, 2710.15it/s]\n"
     ]
    },
    {
     "name": "stdout",
     "output_type": "stream",
     "text": [
      "Val loss:   0.236431 | Val accuracy:   0.933322\n",
      "-------------\n",
      "Epoch 10:\n",
      "\n"
     ]
    },
    {
     "name": "stderr",
     "output_type": "stream",
     "text": [
      "100%|██████████████████████████████████████████████████████████████████████████████████████████| 1687/1687 [00:01<00:00, 1231.35it/s]\n"
     ]
    },
    {
     "name": "stdout",
     "output_type": "stream",
     "text": [
      "Train loss: 0.285981 | Train accuracy: 0.918179\n"
     ]
    },
    {
     "name": "stderr",
     "output_type": "stream",
     "text": [
      "100%|████████████████████████████████████████████████████████████████████████████████████████████| 187/187 [00:00<00:00, 2749.97it/s]\n"
     ]
    },
    {
     "name": "stdout",
     "output_type": "stream",
     "text": [
      "Val loss:   0.233268 | Val accuracy:   0.934492\n"
     ]
    },
    {
     "name": "stderr",
     "output_type": "stream",
     "text": [
      "100%|████████████████████████████████████████████████████████████████████████████████████████████| 312/312 [00:00<00:00, 2845.79it/s]"
     ]
    },
    {
     "name": "stdout",
     "output_type": "stream",
     "text": [
      "Loss on test set:0.2788655006696876 Accuracy on test set: 0.9206730769230769\n"
     ]
    },
    {
     "name": "stderr",
     "output_type": "stream",
     "text": [
      "\n"
     ]
    }
   ],
   "source": [
    "# learning rate 0.01\n",
    "def main():\n",
    "    # Load the dataset\n",
    "    num_classes = 10\n",
    "    X_train, y_train, X_test, y_test = get_MNIST_data()\n",
    "\n",
    "    # Split into train and dev\n",
    "    dev_split_index = int(9 * len(X_train) / 10)\n",
    "    X_dev = X_train[dev_split_index:]\n",
    "    y_dev = y_train[dev_split_index:]\n",
    "    X_train = X_train[:dev_split_index]\n",
    "    y_train = y_train[:dev_split_index]\n",
    "\n",
    "    permutation = np.array([i for i in range(len(X_train))])\n",
    "    np.random.shuffle(permutation)\n",
    "    X_train = [X_train[i] for i in permutation]\n",
    "    y_train = [y_train[i] for i in permutation]\n",
    "\n",
    "    # Split dataset into batches\n",
    "    batch_size = 32\n",
    "    train_batches = batchify_data(X_train, y_train, batch_size)\n",
    "    dev_batches = batchify_data(X_dev, y_dev, batch_size)\n",
    "    test_batches = batchify_data(X_test, y_test, batch_size)\n",
    "\n",
    "    #################################\n",
    "    ## Model specification TODO\n",
    "    model = nn.Sequential(\n",
    "              nn.Linear(784, 10),\n",
    "              nn.ReLU(),\n",
    "              nn.Linear(10, 10),\n",
    "            )\n",
    "    lr=0.01\n",
    "    momentum=0\n",
    "    ##################################\n",
    "\n",
    "    train_model(train_batches, dev_batches, model, lr=lr, momentum=momentum)\n",
    "\n",
    "    ## Evaluate the model on test data\n",
    "    loss, accuracy = run_epoch(test_batches, model.eval(), None)\n",
    "\n",
    "    print (\"Loss on test set:\"  + str(loss) + \" Accuracy on test set: \" + str(accuracy))\n",
    "\n",
    "\n",
    "if __name__ == '__main__':\n",
    "    # Specify seed for deterministic behavior, then shuffle. Do not change seed for official submissions to edx\n",
    "    np.random.seed(12321)  # for reproducibility\n",
    "    torch.manual_seed(12321)  # for reproducibility\n",
    "    main()"
   ]
  },
  {
   "cell_type": "code",
   "execution_count": 12,
   "id": "5bd5e17a",
   "metadata": {},
   "outputs": [
    {
     "name": "stdout",
     "output_type": "stream",
     "text": [
      "-------------\n",
      "Epoch 1:\n",
      "\n"
     ]
    },
    {
     "name": "stderr",
     "output_type": "stream",
     "text": [
      "100%|███████████████████████████████████████████████████████████████████████████████████████████| 1687/1687 [00:01<00:00, 975.25it/s]\n"
     ]
    },
    {
     "name": "stdout",
     "output_type": "stream",
     "text": [
      "Train loss: 0.610020 | Train accuracy: 0.823614\n"
     ]
    },
    {
     "name": "stderr",
     "output_type": "stream",
     "text": [
      "100%|████████████████████████████████████████████████████████████████████████████████████████████| 187/187 [00:00<00:00, 2440.27it/s]\n"
     ]
    },
    {
     "name": "stdout",
     "output_type": "stream",
     "text": [
      "Val loss:   0.518282 | Val accuracy:   0.846925\n",
      "-------------\n",
      "Epoch 2:\n",
      "\n"
     ]
    },
    {
     "name": "stderr",
     "output_type": "stream",
     "text": [
      "100%|███████████████████████████████████████████████████████████████████████████████████████████| 1687/1687 [00:01<00:00, 973.43it/s]\n"
     ]
    },
    {
     "name": "stdout",
     "output_type": "stream",
     "text": [
      "Train loss: 0.541129 | Train accuracy: 0.855087\n"
     ]
    },
    {
     "name": "stderr",
     "output_type": "stream",
     "text": [
      "100%|████████████████████████████████████████████████████████████████████████████████████████████| 187/187 [00:00<00:00, 2561.77it/s]\n"
     ]
    },
    {
     "name": "stdout",
     "output_type": "stream",
     "text": [
      "Val loss:   0.478901 | Val accuracy:   0.874499\n",
      "-------------\n",
      "Epoch 3:\n",
      "\n"
     ]
    },
    {
     "name": "stderr",
     "output_type": "stream",
     "text": [
      "100%|███████████████████████████████████████████████████████████████████████████████████████████| 1687/1687 [00:01<00:00, 928.39it/s]\n"
     ]
    },
    {
     "name": "stdout",
     "output_type": "stream",
     "text": [
      "Train loss: 0.522807 | Train accuracy: 0.860477\n"
     ]
    },
    {
     "name": "stderr",
     "output_type": "stream",
     "text": [
      "100%|████████████████████████████████████████████████████████████████████████████████████████████| 187/187 [00:00<00:00, 2397.43it/s]\n"
     ]
    },
    {
     "name": "stdout",
     "output_type": "stream",
     "text": [
      "Val loss:   0.587096 | Val accuracy:   0.857955\n",
      "-------------\n",
      "Epoch 4:\n",
      "\n"
     ]
    },
    {
     "name": "stderr",
     "output_type": "stream",
     "text": [
      "100%|███████████████████████████████████████████████████████████████████████████████████████████| 1687/1687 [00:02<00:00, 804.81it/s]\n"
     ]
    },
    {
     "name": "stdout",
     "output_type": "stream",
     "text": [
      "Train loss: 0.486305 | Train accuracy: 0.873296\n"
     ]
    },
    {
     "name": "stderr",
     "output_type": "stream",
     "text": [
      "100%|████████████████████████████████████████████████████████████████████████████████████████████| 187/187 [00:00<00:00, 2493.32it/s]\n"
     ]
    },
    {
     "name": "stdout",
     "output_type": "stream",
     "text": [
      "Val loss:   0.419745 | Val accuracy:   0.893215\n",
      "-------------\n",
      "Epoch 5:\n",
      "\n"
     ]
    },
    {
     "name": "stderr",
     "output_type": "stream",
     "text": [
      "100%|███████████████████████████████████████████████████████████████████████████████████████████| 1687/1687 [00:02<00:00, 765.32it/s]\n"
     ]
    },
    {
     "name": "stdout",
     "output_type": "stream",
     "text": [
      "Train loss: 0.485633 | Train accuracy: 0.875259\n"
     ]
    },
    {
     "name": "stderr",
     "output_type": "stream",
     "text": [
      "100%|████████████████████████████████████████████████████████████████████████████████████████████| 187/187 [00:00<00:00, 1416.68it/s]\n"
     ]
    },
    {
     "name": "stdout",
     "output_type": "stream",
     "text": [
      "Val loss:   0.448423 | Val accuracy:   0.872995\n",
      "-------------\n",
      "Epoch 6:\n",
      "\n"
     ]
    },
    {
     "name": "stderr",
     "output_type": "stream",
     "text": [
      "100%|███████████████████████████████████████████████████████████████████████████████████████████| 1687/1687 [00:01<00:00, 870.02it/s]\n"
     ]
    },
    {
     "name": "stdout",
     "output_type": "stream",
     "text": [
      "Train loss: 0.481317 | Train accuracy: 0.875871\n"
     ]
    },
    {
     "name": "stderr",
     "output_type": "stream",
     "text": [
      "100%|████████████████████████████████████████████████████████████████████████████████████████████| 187/187 [00:00<00:00, 2614.04it/s]\n"
     ]
    },
    {
     "name": "stdout",
     "output_type": "stream",
     "text": [
      "Val loss:   0.364370 | Val accuracy:   0.906250\n",
      "-------------\n",
      "Epoch 7:\n",
      "\n"
     ]
    },
    {
     "name": "stderr",
     "output_type": "stream",
     "text": [
      "100%|███████████████████████████████████████████████████████████████████████████████████████████| 1687/1687 [00:02<00:00, 746.59it/s]\n"
     ]
    },
    {
     "name": "stdout",
     "output_type": "stream",
     "text": [
      "Train loss: 0.472238 | Train accuracy: 0.879483\n"
     ]
    },
    {
     "name": "stderr",
     "output_type": "stream",
     "text": [
      "100%|████████████████████████████████████████████████████████████████████████████████████████████| 187/187 [00:00<00:00, 1508.10it/s]\n"
     ]
    },
    {
     "name": "stdout",
     "output_type": "stream",
     "text": [
      "Val loss:   0.364761 | Val accuracy:   0.909091\n",
      "-------------\n",
      "Epoch 8:\n",
      "\n"
     ]
    },
    {
     "name": "stderr",
     "output_type": "stream",
     "text": [
      "100%|███████████████████████████████████████████████████████████████████████████████████████████| 1687/1687 [00:02<00:00, 694.17it/s]\n"
     ]
    },
    {
     "name": "stdout",
     "output_type": "stream",
     "text": [
      "Train loss: 0.460878 | Train accuracy: 0.883039\n"
     ]
    },
    {
     "name": "stderr",
     "output_type": "stream",
     "text": [
      "100%|████████████████████████████████████████████████████████████████████████████████████████████| 187/187 [00:00<00:00, 2397.50it/s]\n"
     ]
    },
    {
     "name": "stdout",
     "output_type": "stream",
     "text": [
      "Val loss:   0.393349 | Val accuracy:   0.909592\n",
      "-------------\n",
      "Epoch 9:\n",
      "\n"
     ]
    },
    {
     "name": "stderr",
     "output_type": "stream",
     "text": [
      "100%|███████████████████████████████████████████████████████████████████████████████████████████| 1687/1687 [00:02<00:00, 717.29it/s]\n"
     ]
    },
    {
     "name": "stdout",
     "output_type": "stream",
     "text": [
      "Train loss: 0.449625 | Train accuracy: 0.886763\n"
     ]
    },
    {
     "name": "stderr",
     "output_type": "stream",
     "text": [
      "100%|█████████████████████████████████████████████████████████████████████████████████████████████| 187/187 [00:00<00:00, 753.51it/s]\n"
     ]
    },
    {
     "name": "stdout",
     "output_type": "stream",
     "text": [
      "Val loss:   0.408345 | Val accuracy:   0.906918\n",
      "-------------\n",
      "Epoch 10:\n",
      "\n"
     ]
    },
    {
     "name": "stderr",
     "output_type": "stream",
     "text": [
      "100%|███████████████████████████████████████████████████████████████████████████████████████████| 1687/1687 [00:01<00:00, 915.96it/s]\n"
     ]
    },
    {
     "name": "stdout",
     "output_type": "stream",
     "text": [
      "Train loss: 0.442494 | Train accuracy: 0.889652\n"
     ]
    },
    {
     "name": "stderr",
     "output_type": "stream",
     "text": [
      "100%|████████████████████████████████████████████████████████████████████████████████████████████| 187/187 [00:00<00:00, 2171.45it/s]\n"
     ]
    },
    {
     "name": "stdout",
     "output_type": "stream",
     "text": [
      "Val loss:   0.471144 | Val accuracy:   0.894552\n"
     ]
    },
    {
     "name": "stderr",
     "output_type": "stream",
     "text": [
      "100%|████████████████████████████████████████████████████████████████████████████████████████████| 312/312 [00:00<00:00, 2381.02it/s]"
     ]
    },
    {
     "name": "stdout",
     "output_type": "stream",
     "text": [
      "Loss on test set:0.5180044343265203 Accuracy on test set: 0.8833133012820513\n"
     ]
    },
    {
     "name": "stderr",
     "output_type": "stream",
     "text": [
      "\n"
     ]
    }
   ],
   "source": [
    "# omentum 0.9\n",
    "def main():\n",
    "    # Load the dataset\n",
    "    num_classes = 10\n",
    "    X_train, y_train, X_test, y_test = get_MNIST_data()\n",
    "\n",
    "    # Split into train and dev\n",
    "    dev_split_index = int(9 * len(X_train) / 10)\n",
    "    X_dev = X_train[dev_split_index:]\n",
    "    y_dev = y_train[dev_split_index:]\n",
    "    X_train = X_train[:dev_split_index]\n",
    "    y_train = y_train[:dev_split_index]\n",
    "\n",
    "    permutation = np.array([i for i in range(len(X_train))])\n",
    "    np.random.shuffle(permutation)\n",
    "    X_train = [X_train[i] for i in permutation]\n",
    "    y_train = [y_train[i] for i in permutation]\n",
    "\n",
    "    # Split dataset into batches\n",
    "    batch_size = 32\n",
    "    train_batches = batchify_data(X_train, y_train, batch_size)\n",
    "    dev_batches = batchify_data(X_dev, y_dev, batch_size)\n",
    "    test_batches = batchify_data(X_test, y_test, batch_size)\n",
    "\n",
    "    #################################\n",
    "    ## Model specification TODO\n",
    "    model = nn.Sequential(\n",
    "              nn.Linear(784, 10),\n",
    "              nn.ReLU(),\n",
    "              nn.Linear(10, 10),\n",
    "            )\n",
    "    lr=0.1\n",
    "    momentum=0.9\n",
    "    ##################################\n",
    "\n",
    "    train_model(train_batches, dev_batches, model, lr=lr, momentum=momentum)\n",
    "\n",
    "    ## Evaluate the model on test data\n",
    "    loss, accuracy = run_epoch(test_batches, model.eval(), None)\n",
    "\n",
    "    print (\"Loss on test set:\"  + str(loss) + \" Accuracy on test set: \" + str(accuracy))\n",
    "\n",
    "\n",
    "if __name__ == '__main__':\n",
    "    # Specify seed for deterministic behavior, then shuffle. Do not change seed for official submissions to edx\n",
    "    np.random.seed(12321)  # for reproducibility\n",
    "    torch.manual_seed(12321)  # for reproducibility\n",
    "    main()"
   ]
  },
  {
   "cell_type": "code",
   "execution_count": 14,
   "id": "5ad44ab6",
   "metadata": {},
   "outputs": [
    {
     "name": "stdout",
     "output_type": "stream",
     "text": [
      "-------------\n",
      "Epoch 1:\n",
      "\n"
     ]
    },
    {
     "name": "stderr",
     "output_type": "stream",
     "text": [
      "100%|██████████████████████████████████████████████████████████████████████████████████████████| 1687/1687 [00:01<00:00, 1212.82it/s]\n"
     ]
    },
    {
     "name": "stdout",
     "output_type": "stream",
     "text": [
      "Train loss: 0.444938 | Train accuracy: 0.871128\n"
     ]
    },
    {
     "name": "stderr",
     "output_type": "stream",
     "text": [
      "100%|████████████████████████████████████████████████████████████████████████████████████████████| 187/187 [00:00<00:00, 2523.11it/s]\n"
     ]
    },
    {
     "name": "stdout",
     "output_type": "stream",
     "text": [
      "Val loss:   0.261497 | Val accuracy:   0.922627\n",
      "-------------\n",
      "Epoch 2:\n",
      "\n"
     ]
    },
    {
     "name": "stderr",
     "output_type": "stream",
     "text": [
      "100%|██████████████████████████████████████████████████████████████████████████████████████████| 1687/1687 [00:01<00:00, 1152.92it/s]\n"
     ]
    },
    {
     "name": "stdout",
     "output_type": "stream",
     "text": [
      "Train loss: 0.303264 | Train accuracy: 0.913011\n"
     ]
    },
    {
     "name": "stderr",
     "output_type": "stream",
     "text": [
      "100%|████████████████████████████████████████████████████████████████████████████████████████████| 187/187 [00:00<00:00, 2671.38it/s]\n"
     ]
    },
    {
     "name": "stdout",
     "output_type": "stream",
     "text": [
      "Val loss:   0.241508 | Val accuracy:   0.928810\n",
      "-------------\n",
      "Epoch 3:\n",
      "\n"
     ]
    },
    {
     "name": "stderr",
     "output_type": "stream",
     "text": [
      "100%|██████████████████████████████████████████████████████████████████████████████████████████| 1687/1687 [00:01<00:00, 1146.10it/s]\n"
     ]
    },
    {
     "name": "stdout",
     "output_type": "stream",
     "text": [
      "Train loss: 0.281478 | Train accuracy: 0.918754\n"
     ]
    },
    {
     "name": "stderr",
     "output_type": "stream",
     "text": [
      "100%|████████████████████████████████████████████████████████████████████████████████████████████| 187/187 [00:00<00:00, 2394.32it/s]\n"
     ]
    },
    {
     "name": "stdout",
     "output_type": "stream",
     "text": [
      "Val loss:   0.235274 | Val accuracy:   0.929479\n",
      "-------------\n",
      "Epoch 4:\n",
      "\n"
     ]
    },
    {
     "name": "stderr",
     "output_type": "stream",
     "text": [
      "100%|██████████████████████████████████████████████████████████████████████████████████████████| 1687/1687 [00:01<00:00, 1138.61it/s]\n"
     ]
    },
    {
     "name": "stdout",
     "output_type": "stream",
     "text": [
      "Train loss: 0.267170 | Train accuracy: 0.923477\n"
     ]
    },
    {
     "name": "stderr",
     "output_type": "stream",
     "text": [
      "100%|████████████████████████████████████████████████████████████████████████████████████████████| 187/187 [00:00<00:00, 2493.38it/s]\n"
     ]
    },
    {
     "name": "stdout",
     "output_type": "stream",
     "text": [
      "Val loss:   0.235897 | Val accuracy:   0.929646\n",
      "-------------\n",
      "Epoch 5:\n",
      "\n"
     ]
    },
    {
     "name": "stderr",
     "output_type": "stream",
     "text": [
      "100%|██████████████████████████████████████████████████████████████████████████████████████████| 1687/1687 [00:01<00:00, 1123.51it/s]\n"
     ]
    },
    {
     "name": "stdout",
     "output_type": "stream",
     "text": [
      "Train loss: 0.256448 | Train accuracy: 0.926145\n"
     ]
    },
    {
     "name": "stderr",
     "output_type": "stream",
     "text": [
      "100%|████████████████████████████████████████████████████████████████████████████████████████████| 187/187 [00:00<00:00, 2527.06it/s]\n"
     ]
    },
    {
     "name": "stdout",
     "output_type": "stream",
     "text": [
      "Val loss:   0.234291 | Val accuracy:   0.930314\n",
      "-------------\n",
      "Epoch 6:\n",
      "\n"
     ]
    },
    {
     "name": "stderr",
     "output_type": "stream",
     "text": [
      "100%|██████████████████████████████████████████████████████████████████████████████████████████| 1687/1687 [00:01<00:00, 1171.90it/s]\n"
     ]
    },
    {
     "name": "stdout",
     "output_type": "stream",
     "text": [
      "Train loss: 0.247800 | Train accuracy: 0.928479\n"
     ]
    },
    {
     "name": "stderr",
     "output_type": "stream",
     "text": [
      "100%|████████████████████████████████████████████████████████████████████████████████████████████| 187/187 [00:00<00:00, 2671.39it/s]\n"
     ]
    },
    {
     "name": "stdout",
     "output_type": "stream",
     "text": [
      "Val loss:   0.229561 | Val accuracy:   0.932152\n",
      "-------------\n",
      "Epoch 7:\n",
      "\n"
     ]
    },
    {
     "name": "stderr",
     "output_type": "stream",
     "text": [
      "100%|██████████████████████████████████████████████████████████████████████████████████████████| 1687/1687 [00:01<00:00, 1173.80it/s]\n"
     ]
    },
    {
     "name": "stdout",
     "output_type": "stream",
     "text": [
      "Train loss: 0.240381 | Train accuracy: 0.930665\n"
     ]
    },
    {
     "name": "stderr",
     "output_type": "stream",
     "text": [
      "100%|████████████████████████████████████████████████████████████████████████████████████████████| 187/187 [00:00<00:00, 2750.05it/s]\n"
     ]
    },
    {
     "name": "stdout",
     "output_type": "stream",
     "text": [
      "Val loss:   0.229800 | Val accuracy:   0.931651\n",
      "-------------\n",
      "Epoch 8:\n",
      "\n"
     ]
    },
    {
     "name": "stderr",
     "output_type": "stream",
     "text": [
      "100%|██████████████████████████████████████████████████████████████████████████████████████████| 1687/1687 [00:01<00:00, 1173.53it/s]\n"
     ]
    },
    {
     "name": "stdout",
     "output_type": "stream",
     "text": [
      "Train loss: 0.234237 | Train accuracy: 0.932776\n"
     ]
    },
    {
     "name": "stderr",
     "output_type": "stream",
     "text": [
      "100%|████████████████████████████████████████████████████████████████████████████████████████████| 187/187 [00:00<00:00, 2671.50it/s]\n"
     ]
    },
    {
     "name": "stdout",
     "output_type": "stream",
     "text": [
      "Val loss:   0.227339 | Val accuracy:   0.931985\n",
      "-------------\n",
      "Epoch 9:\n",
      "\n"
     ]
    },
    {
     "name": "stderr",
     "output_type": "stream",
     "text": [
      "100%|██████████████████████████████████████████████████████████████████████████████████████████| 1687/1687 [00:01<00:00, 1056.37it/s]\n"
     ]
    },
    {
     "name": "stdout",
     "output_type": "stream",
     "text": [
      "Train loss: 0.229051 | Train accuracy: 0.934481\n"
     ]
    },
    {
     "name": "stderr",
     "output_type": "stream",
     "text": [
      "100%|████████████████████████████████████████████████████████████████████████████████████████████| 187/187 [00:00<00:00, 2493.48it/s]\n"
     ]
    },
    {
     "name": "stdout",
     "output_type": "stream",
     "text": [
      "Val loss:   0.227558 | Val accuracy:   0.932821\n",
      "-------------\n",
      "Epoch 10:\n",
      "\n"
     ]
    },
    {
     "name": "stderr",
     "output_type": "stream",
     "text": [
      "100%|██████████████████████████████████████████████████████████████████████████████████████████| 1687/1687 [00:01<00:00, 1137.27it/s]\n"
     ]
    },
    {
     "name": "stdout",
     "output_type": "stream",
     "text": [
      "Train loss: 0.224806 | Train accuracy: 0.935314\n"
     ]
    },
    {
     "name": "stderr",
     "output_type": "stream",
     "text": [
      "100%|████████████████████████████████████████████████████████████████████████████████████████████| 187/187 [00:00<00:00, 2460.58it/s]\n"
     ]
    },
    {
     "name": "stdout",
     "output_type": "stream",
     "text": [
      "Val loss:   0.227286 | Val accuracy:   0.932320\n"
     ]
    },
    {
     "name": "stderr",
     "output_type": "stream",
     "text": [
      "100%|████████████████████████████████████████████████████████████████████████████████████████████| 312/312 [00:00<00:00, 3466.75it/s]"
     ]
    },
    {
     "name": "stdout",
     "output_type": "stream",
     "text": [
      "Loss on test set:0.26891053445302904 Accuracy on test set: 0.9206730769230769"
     ]
    },
    {
     "name": "stderr",
     "output_type": "stream",
     "text": [
      "\n"
     ]
    },
    {
     "name": "stdout",
     "output_type": "stream",
     "text": [
      "\n"
     ]
    }
   ],
   "source": [
    "# LeakyReLU\n",
    "def main():\n",
    "    # Load the dataset\n",
    "    num_classes = 10\n",
    "    X_train, y_train, X_test, y_test = get_MNIST_data()\n",
    "\n",
    "    # Split into train and dev\n",
    "    dev_split_index = int(9 * len(X_train) / 10)\n",
    "    X_dev = X_train[dev_split_index:]\n",
    "    y_dev = y_train[dev_split_index:]\n",
    "    X_train = X_train[:dev_split_index]\n",
    "    y_train = y_train[:dev_split_index]\n",
    "\n",
    "    permutation = np.array([i for i in range(len(X_train))])\n",
    "    np.random.shuffle(permutation)\n",
    "    X_train = [X_train[i] for i in permutation]\n",
    "    y_train = [y_train[i] for i in permutation]\n",
    "\n",
    "    # Split dataset into batches\n",
    "    batch_size = 32\n",
    "    train_batches = batchify_data(X_train, y_train, batch_size)\n",
    "    dev_batches = batchify_data(X_dev, y_dev, batch_size)\n",
    "    test_batches = batchify_data(X_test, y_test, batch_size)\n",
    "\n",
    "    #################################\n",
    "    ## Model specification TODO\n",
    "    model = nn.Sequential(\n",
    "              nn.Linear(784, 10),\n",
    "              nn.LeakyReLU(negative_slope=0.01),\n",
    "              nn.Linear(10, 10),\n",
    "            )\n",
    "    lr=0.1\n",
    "    momentum=0\n",
    "    ##################################\n",
    "\n",
    "    train_model(train_batches, dev_batches, model, lr=lr, momentum=momentum)\n",
    "\n",
    "    ## Evaluate the model on test data\n",
    "    loss, accuracy = run_epoch(test_batches, model.eval(), None)\n",
    "\n",
    "    print (\"Loss on test set:\"  + str(loss) + \" Accuracy on test set: \" + str(accuracy))\n",
    "\n",
    "\n",
    "if __name__ == '__main__':\n",
    "    # Specify seed for deterministic behavior, then shuffle. Do not change seed for official submissions to edx\n",
    "    np.random.seed(12321)  # for reproducibility\n",
    "    torch.manual_seed(12321)  # for reproducibility\n",
    "    main()"
   ]
  },
  {
   "cell_type": "code",
   "execution_count": null,
   "id": "9255b5b2",
   "metadata": {},
   "outputs": [],
   "source": []
  },
  {
   "cell_type": "code",
   "execution_count": null,
   "id": "54daa76e",
   "metadata": {},
   "outputs": [],
   "source": []
  }
 ],
 "metadata": {
  "kernelspec": {
   "display_name": "Python 3 (ipykernel)",
   "language": "python",
   "name": "python3"
  },
  "language_info": {
   "codemirror_mode": {
    "name": "ipython",
    "version": 3
   },
   "file_extension": ".py",
   "mimetype": "text/x-python",
   "name": "python",
   "nbconvert_exporter": "python",
   "pygments_lexer": "ipython3",
   "version": "3.7.13"
  }
 },
 "nbformat": 4,
 "nbformat_minor": 5
}
