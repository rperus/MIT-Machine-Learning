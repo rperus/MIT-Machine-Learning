{
 "cells": [
  {
   "cell_type": "code",
   "execution_count": 2,
   "id": "b01fd545",
   "metadata": {},
   "outputs": [],
   "source": [
    "import numpy as np\n",
    "import torch\n",
    "import torch.nn as nn\n",
    "import torch.nn.functional as F\n",
    "from train_utils import batchify_data, run_epoch, train_model, Flatten\n",
    "import utils_multiMNIST as U\n",
    "path_to_data_dir = '../Datasets/'\n",
    "use_mini_dataset = True\n",
    "\n",
    "batch_size = 64\n",
    "nb_classes = 10\n",
    "nb_epoch = 30\n",
    "num_classes = 10\n",
    "img_rows, img_cols = 42, 28 # input image dimensions\n"
   ]
  },
  {
   "cell_type": "code",
   "execution_count": 3,
   "id": "8bdc5ff5",
   "metadata": {},
   "outputs": [],
   "source": [
    "class MLP(nn.Module):\n",
    "\n",
    "    def __init__(self, input_dimension):\n",
    "        super(MLP, self).__init__()\n",
    "        self.flatten = Flatten()\n",
    "        self.linear1 = nn.Linear(input_dimension, 64)\n",
    "        self.linear2 = nn.Linear(64, 20)"
   ]
  },
  {
   "cell_type": "code",
   "execution_count": 5,
   "id": "50366231",
   "metadata": {},
   "outputs": [],
   "source": [
    "    def forward(self, x):\n",
    "        xf = self.flatten(x)\n",
    "        xl1 = self.linear1(xf)\n",
    "        xl2 = self.linear2(xl1)\n",
    "        out_first_digit = xl2[:,:10]\n",
    "        out_second_digit = xl2[:,10:]\n",
    "        \n",
    "        return out_first_digit, out_second_digit"
   ]
  },
  {
   "cell_type": "code",
   "execution_count": null,
   "id": "f26bf819",
   "metadata": {},
   "outputs": [],
   "source": [
    "def forward(self, x):\n",
    "    xf = self.flatten(x)\n",
    "# TODO use model layers to predict the two digits\n",
    "    out1 = F.relu(self.linear1(xf))\n",
    "    out2 = F.relu(self.linear2(out1))\n",
    "    out_first_digit = self.linear_first_digit(out2)\n",
    "    out_second_digit = self.linear_second_digit(out2)\n",
    "    return out_first_digit, out_second_digit"
   ]
  },
  {
   "cell_type": "code",
   "execution_count": null,
   "id": "19476d6c",
   "metadata": {},
   "outputs": [],
   "source": [
    "def forward(self, x):\n",
    "    xfinal = self.flatten(x)\n",
    "# TODO use model layers to predict the two digits\n",
    "    x1 = max(0,self.linear1(xfinal))\n",
    "    x2 = max(0,self.linear2(x1))\n",
    "    out_first_digit = self.linear_first_digit(x2)\n",
    "    out_second_digit = self.linear_second_digit(x2)\n",
    "    return out_first_digit, out_second_digit"
   ]
  },
  {
   "cell_type": "code",
   "execution_count": null,
   "id": "b1b1fa09",
   "metadata": {},
   "outputs": [],
   "source": []
  }
 ],
 "metadata": {
  "kernelspec": {
   "display_name": "Python 3 (ipykernel)",
   "language": "python",
   "name": "python3"
  },
  "language_info": {
   "codemirror_mode": {
    "name": "ipython",
    "version": 3
   },
   "file_extension": ".py",
   "mimetype": "text/x-python",
   "name": "python",
   "nbconvert_exporter": "python",
   "pygments_lexer": "ipython3",
   "version": "3.7.13"
  }
 },
 "nbformat": 4,
 "nbformat_minor": 5
}
