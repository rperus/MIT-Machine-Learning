{
 "cells": [
  {
   "cell_type": "code",
   "execution_count": null,
   "id": "4bdf116f",
   "metadata": {},
   "outputs": [],
   "source": [
    "#Perceptron Single Step Update\n"
   ]
  },
  {
   "cell_type": "code",
   "execution_count": 129,
   "id": "9bafc0f9",
   "metadata": {},
   "outputs": [],
   "source": [
    "import numpy as np\n",
    "import random"
   ]
  },
  {
   "cell_type": "code",
   "execution_count": 130,
   "id": "2a13a650",
   "metadata": {},
   "outputs": [],
   "source": [
    "def perceptron_single_step_update( \n",
    "        feature_vector,\n",
    "        label,\n",
    "        current_theta,\n",
    "        current_theta_0):\n",
    "    \n",
    "    X=feature_vector\n",
    "    Y=label\n",
    "    w=current_theta\n",
    "    w0=current_theta_0\n",
    "\n",
    "\n",
    "    if (np.dot(X, w)+w0)*Y <= 0:\n",
    "                w = w + X*Y\n",
    "                w0 = w0 + Y\n",
    "              \n",
    "\n",
    "    return (w,w0)"
   ]
  },
  {
   "cell_type": "code",
   "execution_count": 131,
   "id": "ba9cb35d",
   "metadata": {},
   "outputs": [
    {
     "data": {
      "text/plain": [
       "([-0.05262619,\n",
       "  -0.10782209,\n",
       "  -0.39353927,\n",
       "  0.45576348,\n",
       "  0.38382044,\n",
       "  -0.13437809,\n",
       "  -0.47684956,\n",
       "  0.21206966,\n",
       "  -0.3226326,\n",
       "  0.21971462],\n",
       " -0.5092644144074587)"
      ]
     },
     "execution_count": 131,
     "metadata": {},
     "output_type": "execute_result"
    }
   ],
   "source": [
    "a= perceptron_single_step_update( \n",
    "        [0.3794356,0.24692177,-0.45563576,-0.13701538,0.06302368,-0.25333105,0.35059787,0.3933498,0.19904044,-0.37787339],\n",
    "        -1,\n",
    "        [-0.05262619,-0.10782209,-0.39353927,0.45576348,0.38382044,-0.13437809,-0.47684956,0.21206966,-0.3226326,0.21971462],\n",
    "        0.4907355855925413)\n",
    "a"
   ]
  },
  {
   "cell_type": "markdown",
   "id": "89dc3a65",
   "metadata": {},
   "source": [
    "# Full Perceptron Algorithm"
   ]
  },
  {
   "cell_type": "code",
   "execution_count": 132,
   "id": "883f6a3c",
   "metadata": {},
   "outputs": [],
   "source": [
    "def get_order(n_samples):\n",
    "    try:\n",
    "        with open(str(n_samples) + '.txt') as fp:\n",
    "            line = fp.readline()\n",
    "            return list(map(int, line.split(',')))\n",
    "    except FileNotFoundError:\n",
    "        random.seed(1)\n",
    "        indices = list(range(n_samples))\n",
    "        random.shuffle(indices)\n",
    "        return indices"
   ]
  },
  {
   "cell_type": "code",
   "execution_count": null,
   "id": "037f2c09",
   "metadata": {},
   "outputs": [],
   "source": [
    "    \"\"\"\n",
    "    Runs the full perceptron algorithm on a given set of data. Runs T\n",
    "    iterations through the data set, there is no need to worry about\n",
    "    stopping early.\n",
    "\n",
    "    NOTE: Please use the previously implemented functions when applicable.\n",
    "    Do not copy paste code from previous parts.\n",
    "\n",
    "    NOTE: Iterate the data matrix by the orders returned by get_order(feature_matrix.shape[0])\n",
    "\n",
    "    Args:\n",
    "        feature_matrix -  A numpy matrix describing the given data. Each row\n",
    "            represents a single data point.\n",
    "        labels - A numpy array where the kth element of the array is the\n",
    "            correct classification of the kth row of the feature matrix.\n",
    "        T - An integer indicating how many times the perceptron algorithm\n",
    "            should iterate through the feature matrix.\n",
    "\n",
    "    Returns: A tuple where the first element is a numpy array with the value of\n",
    "    theta, the linear classification parameter, after T iterations through the\n",
    "    feature matrix and the second element is a real number with the value of\n",
    "    theta_0, the offset classification parameter, after T iterations through\n",
    "    the feature matrix.\n",
    "        \"\"\""
   ]
  },
  {
   "cell_type": "code",
   "execution_count": 151,
   "id": "976fcf29",
   "metadata": {},
   "outputs": [],
   "source": [
    "def perceptron(feature_matrix, labels, T):\n",
    " \n",
    "    X=feature_matrix\n",
    "    Y=labels\n",
    "    w = np.zeros(len(X[0]))\n",
    "    #w=np.zeros((X.shape[1],))\n",
    "    #w = np.transpose([0., 0., 0., 0., 0., 0., 0., 0., 0., 0.])\n",
    "    w0 = 0\n",
    "    for t in range(T):\n",
    "        for i in get_order(feature_matrix.shape[0]):\n",
    "             w,w0=perceptron_single_step_update(X[i,:], Y[i], w, w0)\n",
    "              \n",
    "        #for i, x in enumerate(X):\n",
    "               # if (np.dot(X[i],w)*Y[i]) <= 0:\n",
    "               #w = w + X[i]*Y[i]\n",
    "               #w0 = w0 + Y[i]\n",
    "        \n",
    "            \n",
    "    return (w,w0)\n",
    "            "
   ]
  },
  {
   "cell_type": "code",
   "execution_count": 152,
   "id": "3d4a4151",
   "metadata": {},
   "outputs": [],
   "source": [
    "a=[[-4.54294626,-3.43623741,3.86750695e-02,-2.69992993,-3.27713422,-4.53417105,-1.26172684,-1.45400377,2.38059418,1.58243569],\n",
    "[-1.63879014,-5.95266322e-02,3.69450919,-3.91351676,1.64891963,-2.11900710,1.16382012,-6.88156452e-02,-2.59069275,3.34941791],\n",
    "[-3.31680910,-2.10461626e-04,-3.08257641,3.55700379,2.92123673e-02,-2.34910852,2.15009097,-3.69293657,1.35626729,-2.75220883],\n",
    "[-2.64360579,4.52019662,-4.19781039,-2.95678269,-1.71421763,-1.12243668,1.01623037,-1.43049957,-4.49069093,3.09211285],\n",
    "[3.75965888,1.80260423,-2.50043104,-6.92072143e-03,1.98039398,6.34720588e-02,1.12635558,-4.46727531,1.97910421,1.68177886]]\n",
    "b=[-1,1,1,1,1]\n",
    "a=np.array(a)\n",
    "b=np.array(b)"
   ]
  },
  {
   "cell_type": "code",
   "execution_count": 154,
   "id": "cdfcc670",
   "metadata": {},
   "outputs": [],
   "source": [
    "a=np.array(a)\n",
    "b=np.array(b)"
   ]
  },
  {
   "cell_type": "code",
   "execution_count": 155,
   "id": "8d7adee6",
   "metadata": {},
   "outputs": [
    {
     "data": {
      "text/plain": [
       "(array([-0.41265298,  3.37650032,  0.57325771,  2.34341696,  4.95526622,\n",
       "         0.06605543,  4.57563793, -2.30774845, -3.61501964, -0.98522661]),\n",
       " 1)"
      ]
     },
     "execution_count": 155,
     "metadata": {},
     "output_type": "execute_result"
    }
   ],
   "source": [
    "result=perceptron(a,b,5)\n",
    "result"
   ]
  },
  {
   "cell_type": "markdown",
   "id": "06df382a",
   "metadata": {},
   "source": [
    "# Average Perceptron Algorithm"
   ]
  },
  {
   "cell_type": "code",
   "execution_count": null,
   "id": "f687b257",
   "metadata": {},
   "outputs": [],
   "source": [
    "\"\"\"\n",
    "    Runs the average perceptron algorithm on a given set of data. Runs T\n",
    "    iterations through the data set, there is no need to worry about\n",
    "    stopping early.\n",
    "\n",
    "    NOTE: Please use the previously implemented functions when applicable.\n",
    "    Do not copy paste code from previous parts.\n",
    "\n",
    "    NOTE: Iterate the data matrix by the orders returned by get_order(feature_matrix.shape[0])\n",
    "\n",
    "\n",
    "    Args:\n",
    "        feature_matrix -  A numpy matrix describing the given data. Each row\n",
    "            represents a single data point.\n",
    "        labels - A numpy array where the kth element of the array is the\n",
    "            correct classification of the kth row of the feature matrix.\n",
    "        T - An integer indicating how many times the perceptron algorithm\n",
    "            should iterate through the feature matrix.\n",
    "\n",
    "    Returns: A tuple where the first element is a numpy array with the value of\n",
    "    the average theta, the linear classification parameter, found after T\n",
    "    iterations through the feature matrix and the second element is a real\n",
    "    number with the value of the average theta_0, the offset classification\n",
    "    parameter, found after T iterations through the feature matrix.\n",
    "\n",
    "    Hint: It is difficult to keep a running average; however, it is simple to\n",
    "    find a sum and divide.\n",
    "    \"\"\"\n",
    "    # Your code here\n",
    "    #raise NotImplementedError\n"
   ]
  },
  {
   "cell_type": "code",
   "execution_count": 158,
   "id": "07cd7406",
   "metadata": {},
   "outputs": [],
   "source": [
    "def average_perceptron(feature_matrix, labels, T):\n",
    "    X=feature_matrix\n",
    "    Y=labels\n",
    "    w = np.zeros(len(X[0]))\n",
    "    #w=np.zeros((X.shape[1],))\n",
    "    #w = np.transpose([0., 0., 0., 0., 0., 0., 0., 0., 0., 0.])\n",
    "    w0 = 0\n",
    "    wnew= np.zeros(len(X[0]))\n",
    "    w0new=0\n",
    "    counter=0\n",
    "    for t in range(T):\n",
    "        for i in get_order(feature_matrix.shape[0]):\n",
    "            w,w0=perceptron_single_step_update(X[i,:], Y[i], w, w0)\n",
    "            wnew= wnew + w\n",
    "            w0new= w0new + w0\n",
    "            counter= counter + 1           \n",
    "    return (wnew/counter,w0new/counter)\n",
    "            "
   ]
  },
  {
   "cell_type": "code",
   "execution_count": 159,
   "id": "6ae7f69e",
   "metadata": {},
   "outputs": [],
   "source": [
    "a=[[-4.54294626,-3.43623741,3.86750695e-02,-2.69992993,-3.27713422,-4.53417105,-1.26172684,-1.45400377,2.38059418,1.58243569],\n",
    "[-1.63879014,-5.95266322e-02,3.69450919,-3.91351676,1.64891963,-2.11900710,1.16382012,-6.88156452e-02,-2.59069275,3.34941791],\n",
    "[-3.31680910,-2.10461626e-04,-3.08257641,3.55700379,2.92123673e-02,-2.34910852,2.15009097,-3.69293657,1.35626729,-2.75220883],\n",
    "[-2.64360579,4.52019662,-4.19781039,-2.95678269,-1.71421763,-1.12243668,1.01623037,-1.43049957,-4.49069093,3.09211285],\n",
    "[3.75965888,1.80260423,-2.50043104,-6.92072143e-03,1.98039398,6.34720588e-02,1.12635558,-4.46727531,1.97910421,1.68177886]]\n",
    "b=[-1,1,1,1,1]\n",
    "a=np.array(a)\n",
    "b=np.array(b)"
   ]
  },
  {
   "cell_type": "code",
   "execution_count": 160,
   "id": "8224777e",
   "metadata": {},
   "outputs": [
    {
     "data": {
      "text/plain": [
       "(array([-0.41265298,  3.37650032,  0.57325771,  2.34341696,  4.95526622,\n",
       "         0.06605543,  4.57563793, -2.30774845, -3.61501964, -0.98522661]),\n",
       " 1)"
      ]
     },
     "execution_count": 160,
     "metadata": {},
     "output_type": "execute_result"
    }
   ],
   "source": [
    "result=perceptron(a,b,5)\n",
    "result"
   ]
  },
  {
   "cell_type": "code",
   "execution_count": null,
   "id": "52deb52a",
   "metadata": {},
   "outputs": [],
   "source": []
  },
  {
   "cell_type": "code",
   "execution_count": null,
   "id": "db8ad5ad",
   "metadata": {},
   "outputs": [],
   "source": []
  }
 ],
 "metadata": {
  "kernelspec": {
   "display_name": "Python 3 (ipykernel)",
   "language": "python",
   "name": "python3"
  },
  "language_info": {
   "codemirror_mode": {
    "name": "ipython",
    "version": 3
   },
   "file_extension": ".py",
   "mimetype": "text/x-python",
   "name": "python",
   "nbconvert_exporter": "python",
   "pygments_lexer": "ipython3",
   "version": "3.8.12"
  }
 },
 "nbformat": 4,
 "nbformat_minor": 5
}
