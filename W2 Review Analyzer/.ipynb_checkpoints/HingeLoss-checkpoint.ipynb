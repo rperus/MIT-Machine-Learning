{
 "cells": [
  {
   "cell_type": "code",
   "execution_count": 1,
   "id": "195eae91",
   "metadata": {},
   "outputs": [],
   "source": [
    "import numpy as np"
   ]
  },
  {
   "cell_type": "markdown",
   "id": "32860b9c",
   "metadata": {},
   "source": [
    "# Hinge Loss on One Data Sample"
   ]
  },
  {
   "cell_type": "code",
   "execution_count": 16,
   "id": "d8f2b4b8",
   "metadata": {},
   "outputs": [],
   "source": [
    "def hinge_loss_single(feature_vector, label, theta, theta_0):\n",
    "    \"\"\"\n",
    "    Finds the hinge loss on a single data point given specific classification\n",
    "    parameters.\n",
    "\n",
    "    Args:\n",
    "        feature_vector - A numpy array describing the given data point.\n",
    "        label - A real valued number, the correct classification of the data\n",
    "            point.\n",
    "        theta - A numpy array describing the linear classifier.\n",
    "        theta_0 - A real valued number representing the offset parameter.\n",
    "\n",
    "\n",
    "    Returns: A real number representing the hinge loss associated with the\n",
    "    given data point and parameters.\n",
    "    \"\"\"\n",
    "    #feature_vector=\n",
    "    \n",
    "    z = label*(np.sum(np.multiply(feature_vector,theta))+theta_0)\n",
    "    ret = max(0,1-z) \n",
    "    return ret\n",
    "\n",
    "    # Your code here\n",
    "    #raise NotImplementedError"
   ]
  },
  {
   "cell_type": "code",
   "execution_count": 17,
   "id": "b4731cb7",
   "metadata": {},
   "outputs": [
    {
     "data": {
      "text/plain": [
       "3"
      ]
     },
     "execution_count": 17,
     "metadata": {},
     "output_type": "execute_result"
    }
   ],
   "source": [
    "a=hinge_loss_single([-3,1], 1, [1,0], 1)\n",
    "a"
   ]
  },
  {
   "cell_type": "code",
   "execution_count": 18,
   "id": "c5b99ea5",
   "metadata": {},
   "outputs": [
    {
     "data": {
      "text/plain": [
       "2.0000000044563184"
      ]
     },
     "execution_count": 18,
     "metadata": {},
     "output_type": "execute_result"
    }
   ],
   "source": [
    "a=hinge_loss_single([0.8678393,0.50880298,0.85750219,0.71020046,0.10931946,0.26498382,0.02564938,0.46753968,0.61174325,0.13400874], -1, [0.05761435,0.09826986,0.05830889,0.07040266,0.45737511,0.18869076,1.94936515,0.10694279,0.08173364,0.37311], .5)\n",
    "a"
   ]
  },
  {
   "cell_type": "markdown",
   "id": "e6d54689",
   "metadata": {},
   "source": [
    "# The Complete Hinge Loss"
   ]
  },
  {
   "cell_type": "code",
   "execution_count": null,
   "id": "f470350e",
   "metadata": {},
   "outputs": [],
   "source": [
    "def hinge_loss_full(feature_matrix, labels, theta, theta_0):\n",
    "    return np.maximum(0, 1 - labels*(np.sum(feature_matrix * theta, axis = 1) + theta_0)).mean()\n",
    "\n",
    "    #z= (labels*(np.sum(np.multiply(feature_matrix,theta))+ theta_0)).mean()\n",
    "    #ret = np.maximum(0,1-z) \n",
    "    #return ret \n",
    "    #z= np.sum(np.multiply(feature_matrix,np.transpose(theta))+ theta_0)\n",
    "    #z= labels*(feature_matrix*np.transpose(theta)+ theta_0)\n",
    "    #z= labels*(np.sum(feature_matrix*np.transpose(theta))+ theta_0)\n",
    "    #z= np.sum(feature_matrix*np.transpose(theta), axis=0)\n",
    "    \n",
    "    #z = labels*np.sum(feature_matrix*theta, axis = 1)+theta_0\n",
    "    #ret = max(0,1-z)\n",
    "    #return ret\n",
    "    \"\"\"\n",
    "    Finds the total hinge loss on a set of data given specific classification\n",
    "    parameters.\n",
    "\n",
    "    Args:\n",
    "        feature_matrix - A numpy matrix describing the given data. Each row\n",
    "            represents a single data point.\n",
    "        labels - A numpy array where the kth element of the array is the\n",
    "            correct classification of the kth row of the feature matrix.\n",
    "        theta - A numpy array describing the linear classifier.\n",
    "        theta_0 - A real valued number representing the offset parameter.\n",
    "\n",
    "\n",
    "    Returns: A real number representing the hinge loss associated with the\n",
    "    given dataset and parameters. This number should be the average hinge\n",
    "    loss across all of the points in the feature matrix.\n",
    "    \"\"\"\n",
    "    # Your code here\n",
    "    #raise NotImplementedError"
   ]
  },
  {
   "cell_type": "code",
   "execution_count": null,
   "id": "d5c786c6",
   "metadata": {},
   "outputs": [],
   "source": []
  },
  {
   "cell_type": "code",
   "execution_count": 115,
   "id": "3dd6fd1d",
   "metadata": {},
   "outputs": [],
   "source": [
    "def hinge_loss_full(feature_matrix, labels, theta, theta_0):\n",
    "    z= (labels*(np.sum(np.multiply(feature_matrix,np.transpose(theta)),axis=1)+ theta_0)).mean()\n",
    "    ret = np.maximum(0,1-z) \n",
    "    return ret \n",
    "    #z= np.sum(np.multiply(feature_matrix,np.transpose(theta))+ theta_0)\n",
    "    #z= labels*(feature_matrix*np.transpose(theta)+ theta_0)\n",
    "    #z= labels*(np.sum(feature_matrix*np.transpose(theta))+ theta_0)\n",
    "    #z= np.sum(feature_matrix*np.transpose(theta), axis=0)\n",
    "    \n",
    "    #z = labels*np.sum(feature_matrix*theta, axis = 1)+theta_0\n",
    "    #ret = max(0,1-z)\n",
    "    #return ret\n",
    "  "
   ]
  },
  {
   "cell_type": "code",
   "execution_count": null,
   "id": "c4f4e13f",
   "metadata": {},
   "outputs": [],
   "source": []
  },
  {
   "cell_type": "code",
   "execution_count": 116,
   "id": "d0fa3fef",
   "metadata": {},
   "outputs": [
    {
     "data": {
      "text/plain": [
       "0.0"
      ]
     },
     "execution_count": 116,
     "metadata": {},
     "output_type": "execute_result"
    }
   ],
   "source": [
    "a=hinge_loss_full([[3,1],[2,1]], [1,-1], [[1,0],[0,1]], 1)\n",
    "a"
   ]
  },
  {
   "cell_type": "code",
   "execution_count": 110,
   "id": "a0b68f4f",
   "metadata": {},
   "outputs": [
    {
     "data": {
      "text/plain": [
       "array([ 4, -2])"
      ]
     },
     "execution_count": 110,
     "metadata": {},
     "output_type": "execute_result"
    }
   ],
   "source": [
    "a=hinge_loss_full([[3,1],[2,1]], [1,-1], [[1,0],[0,1]], 1)\n",
    "a"
   ]
  },
  {
   "cell_type": "code",
   "execution_count": 53,
   "id": "bdc5aa0c",
   "metadata": {},
   "outputs": [
    {
     "data": {
      "text/plain": [
       "[[-3, 1], [-3, 1]]"
      ]
     },
     "execution_count": 53,
     "metadata": {},
     "output_type": "execute_result"
    }
   ],
   "source": [
    "b"
   ]
  },
  {
   "cell_type": "code",
   "execution_count": null,
   "id": "3b3fc319",
   "metadata": {},
   "outputs": [],
   "source": []
  }
 ],
 "metadata": {
  "kernelspec": {
   "display_name": "Python 3 (ipykernel)",
   "language": "python",
   "name": "python3"
  },
  "language_info": {
   "codemirror_mode": {
    "name": "ipython",
    "version": 3
   },
   "file_extension": ".py",
   "mimetype": "text/x-python",
   "name": "python",
   "nbconvert_exporter": "python",
   "pygments_lexer": "ipython3",
   "version": "3.8.12"
  }
 },
 "nbformat": 4,
 "nbformat_minor": 5
}
