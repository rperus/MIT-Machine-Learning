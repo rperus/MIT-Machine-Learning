{
 "cells": [
  {
   "cell_type": "code",
   "execution_count": 1,
   "id": "1e7f446f",
   "metadata": {},
   "outputs": [],
   "source": [
    "import numpy as np"
   ]
  },
  {
   "cell_type": "code",
   "execution_count": 2,
   "id": "536d7c11",
   "metadata": {},
   "outputs": [],
   "source": [
    "def perceptron_single_step_update(\n",
    "        feature_vector,\n",
    "        label,\n",
    "        current_theta,\n",
    "        current_theta_0):\n",
    "    X=feature_vector\n",
    "    Y=label\n",
    "    w=current_theta\n",
    "    w0=current_theta_0\n",
    "\n",
    "    if (np.dot(X, w)+w0)*Y <= 0:\n",
    "        w = w + X*Y\n",
    "        w0 = w0 + Y              \n",
    "    return (w,w0)\n",
    "\n",
    "\n",
    "\n",
    "def perceptron(feature_matrix, labels, T):\n",
    "\n",
    "    \n",
    "    # Your code here\n",
    "    X=feature_matrix\n",
    "    Y=labels\n",
    "    w = np.zeros(len(X[0]))\n",
    "    w0 = 0\n",
    "    for t in range(T):\n",
    "        for i in get_order(feature_matrix.shape[0]):\n",
    "             w,w0=perceptron_single_step_update(X[i,:], Y[i], w, w0)\n",
    "    return (w,w0)"
   ]
  },
  {
   "cell_type": "code",
   "execution_count": 3,
   "id": "37088b6b",
   "metadata": {},
   "outputs": [],
   "source": [
    "dataset=np.array([[0,0],[2,0],[1,1],[0,2],[3,3],[4,1],[5,2],[1,4],[4,4],[5,5]])"
   ]
  },
  {
   "cell_type": "code",
   "execution_count": 4,
   "id": "1411d99f",
   "metadata": {},
   "outputs": [
    {
     "name": "stdout",
     "output_type": "stream",
     "text": [
      "The dataset:\n",
      " [[0 0]\n",
      " [2 0]\n",
      " [1 1]\n",
      " [0 2]\n",
      " [3 3]\n",
      " [4 1]\n",
      " [5 2]\n",
      " [1 4]\n",
      " [4 4]\n",
      " [5 5]]\n",
      " \n"
     ]
    }
   ],
   "source": [
    "print(\"The dataset:\\n\",dataset)\n",
    "print(\" \")\n",
    "# now transform the dataset using quadratic kernel\n"
   ]
  },
  {
   "cell_type": "code",
   "execution_count": 22,
   "id": "a885ccca",
   "metadata": {},
   "outputs": [],
   "source": [
    "\n",
    "# define the kernel using lambda function\n",
    "k=lambda x:np.array([x[0]**2,np.sqrt(2)*x[0]*x[1],x[1]**2])"
   ]
  },
  {
   "cell_type": "code",
   "execution_count": 23,
   "id": "a858be0c",
   "metadata": {},
   "outputs": [
    {
     "data": {
      "text/plain": [
       "<function __main__.<lambda>(x)>"
      ]
     },
     "execution_count": 23,
     "metadata": {},
     "output_type": "execute_result"
    }
   ],
   "source": [
    "k"
   ]
  },
  {
   "cell_type": "code",
   "execution_count": 24,
   "id": "13629ed5",
   "metadata": {},
   "outputs": [],
   "source": [
    "# transformed data\n",
    "data_trans=[]\n",
    "for x in map(k,dataset):\n",
    "    data_trans.append(x)"
   ]
  },
  {
   "cell_type": "code",
   "execution_count": 25,
   "id": "105d34b2",
   "metadata": {},
   "outputs": [],
   "source": [
    "# convert data_trans to numpy\n",
    "\n",
    "\n",
    "data_trans=np.array(data_trans)"
   ]
  },
  {
   "cell_type": "code",
   "execution_count": 26,
   "id": "61c18aef",
   "metadata": {},
   "outputs": [
    {
     "data": {
      "text/plain": [
       "array([[ 0.        ,  0.        ,  0.        ],\n",
       "       [ 4.        ,  0.        ,  0.        ],\n",
       "       [ 1.        ,  1.41421356,  1.        ],\n",
       "       [ 0.        ,  0.        ,  4.        ],\n",
       "       [ 9.        , 12.72792206,  9.        ],\n",
       "       [16.        ,  5.65685425,  1.        ],\n",
       "       [25.        , 14.14213562,  4.        ],\n",
       "       [ 1.        ,  5.65685425, 16.        ],\n",
       "       [16.        , 22.627417  , 16.        ],\n",
       "       [25.        , 35.35533906, 25.        ]])"
      ]
     },
     "execution_count": 26,
     "metadata": {},
     "output_type": "execute_result"
    }
   ],
   "source": [
    "data_trans"
   ]
  },
  {
   "cell_type": "code",
   "execution_count": 31,
   "id": "67911466",
   "metadata": {},
   "outputs": [
    {
     "name": "stdout",
     "output_type": "stream",
     "text": [
      "Transformed dataset:\n",
      " [[ 1.          0.          0.          0.        ]\n",
      " [ 1.          4.          0.          0.        ]\n",
      " [ 1.          1.          1.41421356  1.        ]\n",
      " [ 1.          0.          0.          4.        ]\n",
      " [ 1.          9.         12.72792206  9.        ]\n",
      " [ 1.         16.          5.65685425  1.        ]\n",
      " [ 1.         25.         14.14213562  4.        ]\n",
      " [ 1.          1.          5.65685425 16.        ]\n",
      " [ 1.         16.         22.627417   16.        ]\n",
      " [ 1.         25.         35.35533906 25.        ]]\n"
     ]
    }
   ],
   "source": [
    "# combined ones and data_trans to get the new data\n",
    "# ones vector got placed as the first column in the transformed dataset\n",
    "\n",
    "data_trans=np.hstack([np.ones(dataset.shape[0]).reshape(dataset.shape[0],1),data_trans]) # this is done for to calculate the bias term\n",
    "print(\"Transformed dataset:\\n\",data_trans)\n"
   ]
  },
  {
   "cell_type": "code",
   "execution_count": 33,
   "id": "0c63774d",
   "metadata": {},
   "outputs": [
    {
     "data": {
      "text/plain": [
       "array([0., 0., 0., 0.])"
      ]
     },
     "execution_count": 33,
     "metadata": {},
     "output_type": "execute_result"
    }
   ],
   "source": [
    "w=np.zeros(4) # intialize the parameter vector to be zeros\n",
    "w"
   ]
  },
  {
   "cell_type": "code",
   "execution_count": 29,
   "id": "86110941",
   "metadata": {},
   "outputs": [],
   "source": [
    "# store the mistakes in a list\n",
    "mistakes=[1,65,11,31,72,30,0,21,4,15]\n",
    "label=[-1,-1,-1,-1,-1,1,1,1,1,1]"
   ]
  },
  {
   "cell_type": "code",
   "execution_count": 35,
   "id": "6f078ab1",
   "metadata": {},
   "outputs": [
    {
     "data": {
      "text/plain": [
       "array([-220.      ,   42.      ,  -45.254834,   44.      ])"
      ]
     },
     "execution_count": 35,
     "metadata": {},
     "output_type": "execute_result"
    }
   ],
   "source": [
    "for i in range(dataset.shape[0]):\n",
    "    \n",
    "#     # mistakes got multiplied as according to the perceptron algorithm\n",
    "#     # the weight vector gets updated only if for each example the algorithm makes\n",
    "#     # mistake\n",
    "    w=w+mistakes[i]*label[i]*data_trans[i] \n",
    "w"
   ]
  },
  {
   "cell_type": "code",
   "execution_count": null,
   "id": "cda3d7f6",
   "metadata": {},
   "outputs": [],
   "source": []
  },
  {
   "cell_type": "code",
   "execution_count": 36,
   "id": "2bf7cd7e",
   "metadata": {},
   "outputs": [
    {
     "name": "stdout",
     "output_type": "stream",
     "text": [
      " \n",
      "Theta0 is given by  -220.0\n",
      " \n",
      "Theta vector is given by :\n",
      " [ 42.       -45.254834  44.      ]\n"
     ]
    }
   ],
   "source": [
    "print(\" \")\n",
    "theta0=w[0]\n",
    "print(\"Theta0 is given by \",theta0)\n",
    "print(\" \")\n",
    "theta=w[1:]\n",
    "print(\"Theta vector is given by :\\n\",theta)"
   ]
  },
  {
   "cell_type": "code",
   "execution_count": null,
   "id": "34c992b9",
   "metadata": {},
   "outputs": [],
   "source": [
    "def perceptron_single_step_update(\n",
    "        feature_vector,\n",
    "        label,\n",
    "        current_theta,\n",
    "        current_theta_0):\n",
    "    X=feature_vector\n",
    "    Y=label\n",
    "    w=current_theta\n",
    "    w0=current_theta_0\n",
    "\n",
    "    if (np.dot(X, w)+w0)*Y <= 0:\n",
    "        w = w + X*Y\n",
    "        w0 = w0 + Y              \n",
    "    return (w,w0)\n",
    "\n",
    "def perceptron(feature_matrix, labels, T):\n",
    "\n",
    "    \n",
    "    # Your code here\n",
    "    X=feature_matrix\n",
    "    Y=labels\n",
    "    w = np.zeros(len(X[0]))\n",
    "    w0 = 0\n",
    "    for t in range(T):\n",
    "        for i in get_order(feature_matrix.shape[0]):\n",
    "             w,w0=perceptron_single_step_update(X[i,:], Y[i], w, w0)\n",
    "    return (w,w0)"
   ]
  }
 ],
 "metadata": {
  "kernelspec": {
   "display_name": "Python 3 (ipykernel)",
   "language": "python",
   "name": "python3"
  },
  "language_info": {
   "codemirror_mode": {
    "name": "ipython",
    "version": 3
   },
   "file_extension": ".py",
   "mimetype": "text/x-python",
   "name": "python",
   "nbconvert_exporter": "python",
   "pygments_lexer": "ipython3",
   "version": "3.8.12"
  }
 },
 "nbformat": 4,
 "nbformat_minor": 5
}
