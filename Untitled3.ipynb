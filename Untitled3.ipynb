{
 "cells": [
  {
   "cell_type": "code",
   "execution_count": 18,
   "id": "e8708fe0",
   "metadata": {},
   "outputs": [
    {
     "name": "stdout",
     "output_type": "stream",
     "text": [
      "[1. 1.]\n"
     ]
    }
   ],
   "source": [
    "import numpy as np\n",
    "\n",
    "X = np.array([\n",
    "    [1,1],\n",
    "    [2,3],\n",
    "    [3,4],\n",
    "    [-0.5,-0.5],\n",
    "    [-1,-2],\n",
    "    [-2,-3],\n",
    "    [-3,-4],\n",
    "    [-4,-3],\n",
    "\n",
    "])\n",
    "\n",
    "y = np.array([1,1,1,-1,-1,-1,-1,-1])\n",
    "\n",
    "def perceptron_sgd(X, Y):\n",
    "    w = np.zeros(len(X[0]))\n",
    "    eta = 1\n",
    "    epochs = 2222\n",
    "\n",
    "    for t in range(epochs):\n",
    "        for i, x in enumerate(X):\n",
    "            if (np.dot(X[i], w)*Y[i]) <= 0:\n",
    "                w = w + eta*X[i]*Y[i]\n",
    "\n",
    "    return w\n",
    "\n",
    "w = perceptron_sgd(X,y)\n",
    "print(w)"
   ]
  },
  {
   "cell_type": "code",
   "execution_count": 14,
   "id": "adf2983b",
   "metadata": {},
   "outputs": [
    {
     "name": "stdout",
     "output_type": "stream",
     "text": [
      "(array([1.5, 1.5]), 0)\n"
     ]
    }
   ],
   "source": [
    "X = np.array([\n",
    "    [1,1],\n",
    "    [2,3],\n",
    "    [3,4],\n",
    "    [-0.5,-0.5],\n",
    "    [-1,-2],\n",
    "    [-2,-3],\n",
    "    [-3,-4],\n",
    "    [-4,-3],\n",
    "\n",
    "])\n",
    "\n",
    "y = np.array([1,1,1,-1,-1,-1,-1,-1])\n",
    "\n",
    "def perceptron_sgd(X, Y):\n",
    "    w = np.zeros(len(X[0]))\n",
    "    w0=0\n",
    "    eta = 1\n",
    "    epochs = 50\n",
    "\n",
    "    for t in range(epochs):\n",
    "        for i, x in enumerate(X):\n",
    "            if ((np.dot(X[i], w)+w0)*Y[i]) <= 0:\n",
    "                w = w + eta*X[i]*Y[i]\n",
    "                w0= w0+Y[i]\n",
    "\n",
    "    return w,w0\n",
    "\n",
    "w = perceptron_sgd(X,y)\n",
    "print(w)"
   ]
  },
  {
   "cell_type": "code",
   "execution_count": 20,
   "id": "45e21264",
   "metadata": {},
   "outputs": [
    {
     "name": "stdout",
     "output_type": "stream",
     "text": [
      "(array([1.5, 1.5]), 0, 2)\n"
     ]
    }
   ],
   "source": [
    "X = np.array([\n",
    "    [1,1],\n",
    "    [2,3],\n",
    "    [3,4],\n",
    "    [-0.5,-0.5],\n",
    "    [-1,-2],\n",
    "    [-2,-3],\n",
    "    [-3,-4],\n",
    "    [-4,-3],\n",
    "\n",
    "])\n",
    "\n",
    "y = np.array([1,1,1,-1,-1,-1,-1,-1])\n",
    "\n",
    "def perceptron_sgd(X, Y):\n",
    "    w = np.zeros(len(X[0]))\n",
    "    w0=0\n",
    "    eta = 1\n",
    "    epochs = 50\n",
    "    count=0\n",
    "\n",
    "    for t in range(epochs):\n",
    "        for i, x in enumerate(X):\n",
    "            if ((np.dot(X[i], w)+w0)*Y[i]) <= 0:\n",
    "                w = w + eta*X[i]*Y[i]\n",
    "                w0= w0+Y[i]\n",
    "                count=count +1\n",
    "\n",
    "    return w,w0,count\n",
    "\n",
    "w = perceptron_sgd(X,y)\n",
    "print(w)"
   ]
  },
  {
   "cell_type": "code",
   "execution_count": 34,
   "id": "0ce4a297",
   "metadata": {},
   "outputs": [
    {
     "name": "stdout",
     "output_type": "stream",
     "text": [
      "(array([1., 1.]), 0, 1)\n"
     ]
    }
   ],
   "source": [
    "X = np.array([\n",
    "    [1,1],\n",
    "    [2,3],\n",
    "    [3,4],\n",
    "    [-0.5,-0.5],\n",
    "    [-1,-2],\n",
    "    [-2,-3],\n",
    "    [-3,-4],\n",
    "    [-4,-3],\n",
    "\n",
    "])\n",
    "\n",
    "y = np.array([1,1,1,-1,-1,-1,-1,-1])\n",
    "\n",
    "def perceptron_sgd(X, Y):\n",
    "    w = np.zeros(len(X[0]))\n",
    "    w0=0\n",
    "    eta = 1\n",
    "    epochs = 1\n",
    "    count=0\n",
    "\n",
    "    for t in range(epochs):\n",
    "        for i, x in enumerate(X):\n",
    "            if ((np.dot(X[i], w)+w0)*Y[i]) <= 0:\n",
    "                w = w + eta*X[i]*Y[i]\n",
    "#                 w0= w0+Y[i]\n",
    "                count=count +1\n",
    "\n",
    "    return w,w0,count\n",
    "\n",
    "w = perceptron_sgd(X,y)\n",
    "print(w)"
   ]
  },
  {
   "cell_type": "code",
   "execution_count": null,
   "id": "b98d4d24",
   "metadata": {},
   "outputs": [],
   "source": []
  }
 ],
 "metadata": {
  "kernelspec": {
   "display_name": "Python 3 (ipykernel)",
   "language": "python",
   "name": "python3"
  },
  "language_info": {
   "codemirror_mode": {
    "name": "ipython",
    "version": 3
   },
   "file_extension": ".py",
   "mimetype": "text/x-python",
   "name": "python",
   "nbconvert_exporter": "python",
   "pygments_lexer": "ipython3",
   "version": "3.8.12"
  }
 },
 "nbformat": 4,
 "nbformat_minor": 5
}
