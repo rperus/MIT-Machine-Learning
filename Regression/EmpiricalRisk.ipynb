{
 "cells": [
  {
   "cell_type": "code",
   "execution_count": 1,
   "id": "d52c02d0",
   "metadata": {},
   "outputs": [],
   "source": [
    "import numpy as np"
   ]
  },
  {
   "cell_type": "markdown",
   "id": "ed4478dc",
   "metadata": {},
   "source": [
    "# Compute Hinge Loss\n"
   ]
  },
  {
   "cell_type": "code",
   "execution_count": 126,
   "id": "ced01404",
   "metadata": {},
   "outputs": [],
   "source": [
    "\n",
    "# y1 = 2\n",
    "# y2 = 2.7\n",
    "# y3 = -.7\n",
    "# y4 = 2\n",
    "# x1 = np.array([1, 0, 1])\n",
    "# x2 = np.array([1, 1, 1])\n",
    "# x3 = np.array([1, 1, -1])\n",
    "# x4 = np.array([-1, 1, 1])\n",
    "# w = np.array([0, 1, 2])\n",
    "# wt = np.transpose(w)"
   ]
  },
  {
   "cell_type": "code",
   "execution_count": null,
   "id": "69613c30",
   "metadata": {},
   "outputs": [],
   "source": []
  },
  {
   "cell_type": "code",
   "execution_count": 55,
   "id": "80c5d9b2",
   "metadata": {},
   "outputs": [],
   "source": [
    "x= np.matrix([[1, 0, 1],\n",
    "               [1, 1, 1],\n",
    "               [1, 1, -1],\n",
    "               [-1, 1, 1]\n",
    "              ])\n",
    "y = np.array([2, 2.7, -.7,2]) \n",
    "w = np.array([0, 1, 2])"
   ]
  },
  {
   "cell_type": "code",
   "execution_count": 31,
   "id": "350f4000",
   "metadata": {},
   "outputs": [],
   "source": [
    "def empirical_risk_hinge_loss_single_step(feature_vector,label,current_theta):\n",
    "    X=feature_vector\n",
    "    Y=label\n",
    "    w=current_theta\n",
    "    \n",
    "    if (Y-np.dot(w,X)) >= 1:\n",
    "        L = 0\n",
    "    else:\n",
    "        L = 1- (Y-np.dot(w,X))\n",
    "    return (L)\n"
   ]
  },
  {
   "cell_type": "code",
   "execution_count": 124,
   "id": "d54a7451",
   "metadata": {},
   "outputs": [],
   "source": [
    "def empirical_risk_hinge_loss(feature_matrix, labels, current_theta):\n",
    "\n",
    "    X=feature_matrix\n",
    "    Y=labels\n",
    "    w=current_theta\n",
    "    sum=0\n",
    "    T=X.shape[0]\n",
    "#     wL=[]\n",
    "    for i in range(T):\n",
    "        L=empirical_risk_hinge_loss_single_step(np.transpose(X[i]), Y[i], w)\n",
    "        sum=L+sum\n",
    "#         wL=np.wL.append(L)\n",
    "    return (sum/T)"
   ]
  },
  {
   "cell_type": "code",
   "execution_count": 125,
   "id": "827992f1",
   "metadata": {},
   "outputs": [
    {
     "data": {
      "text/plain": [
       "matrix([[1.25]])"
      ]
     },
     "execution_count": 125,
     "metadata": {},
     "output_type": "execute_result"
    }
   ],
   "source": [
    "empirical_risk_hinge_loss(x, y, w)"
   ]
  },
  {
   "cell_type": "markdown",
   "id": "38740ab7",
   "metadata": {},
   "source": [
    "# Compute Squared Error Loss\n"
   ]
  },
  {
   "cell_type": "code",
   "execution_count": null,
   "id": "9e19fd91",
   "metadata": {},
   "outputs": [],
   "source": [
    "def empirical_risk_hinge_loss_single_step_squared(feature_vector,label,current_theta):\n",
    "    X=feature_vector\n",
    "    Y=label\n",
    "    w=current_theta\n",
    "    \n",
    "    if (Y-np.dot(w,X)) >= 1:\n",
    "        L = 0\n",
    "    else:\n",
    "        L = 1- (Y-np.dot(w,X))\n",
    "    return (L)"
   ]
  },
  {
   "cell_type": "code",
   "execution_count": 202,
   "id": "4fa0653b",
   "metadata": {},
   "outputs": [],
   "source": [
    "x= np.matrix([[1, 0, 1],\n",
    "               [1, 1, 1],\n",
    "               [1, 1, -1],\n",
    "               [-1, 1, 1]\n",
    "              ])\n",
    "y = np.array([2, 2.7, -.7,2]) \n",
    "w = np.array([0, 1, 2])"
   ]
  },
  {
   "cell_type": "code",
   "execution_count": 226,
   "id": "716c41c5",
   "metadata": {},
   "outputs": [],
   "source": [
    "def empirical_risk_hinge_loss_squared(feature_matrix, labels, current_theta):\n",
    "\n",
    "    X=feature_matrix\n",
    "    Y=labels\n",
    "    w=current_theta\n",
    "    sum=0\n",
    "    T=X.shape[0]\n",
    "\n",
    "    for i in range(T):\n",
    "#         L=(Y[i]-np.dot(w,np.transpose(X[i])))\n",
    "        L=(Y[i]-np.dot(w,np.transpose(X[i])))*(Y[i]-np.dot(w,np.transpose(X[i])))/2\n",
    "\n",
    "        sum = L + sum\n",
    "#         wL=np.wL.append(L)\n",
    "    return (sum/T)\n"
   ]
  },
  {
   "cell_type": "code",
   "execution_count": 227,
   "id": "0ed7afbb",
   "metadata": {},
   "outputs": [
    {
     "data": {
      "text/plain": [
       "matrix([[0.1475]])"
      ]
     },
     "execution_count": 227,
     "metadata": {},
     "output_type": "execute_result"
    }
   ],
   "source": [
    "empirical_risk_hinge_loss_squared(x,y,w)"
   ]
  },
  {
   "cell_type": "code",
   "execution_count": null,
   "id": "f5319ace",
   "metadata": {},
   "outputs": [],
   "source": []
  },
  {
   "cell_type": "code",
   "execution_count": null,
   "id": "ee22bb12",
   "metadata": {},
   "outputs": [],
   "source": []
  },
  {
   "cell_type": "code",
   "execution_count": null,
   "id": "5552d8c0",
   "metadata": {},
   "outputs": [],
   "source": []
  },
  {
   "cell_type": "code",
   "execution_count": null,
   "id": "5bb6c5fa",
   "metadata": {},
   "outputs": [],
   "source": []
  },
  {
   "cell_type": "code",
   "execution_count": null,
   "id": "ec36f486",
   "metadata": {},
   "outputs": [],
   "source": []
  },
  {
   "cell_type": "code",
   "execution_count": null,
   "id": "2cb53d59",
   "metadata": {},
   "outputs": [],
   "source": []
  },
  {
   "cell_type": "code",
   "execution_count": null,
   "id": "bb920682",
   "metadata": {},
   "outputs": [],
   "source": []
  },
  {
   "cell_type": "code",
   "execution_count": null,
   "id": "e5b739e8",
   "metadata": {},
   "outputs": [],
   "source": [
    "def perceptron(feature_matrix, labels, T):\n",
    "\n",
    "    \n",
    "    # Your code here\n",
    "    X=feature_matrix\n",
    "    Y=labels\n",
    "    w = np.zeros(len(X[0]))\n",
    "    w0 = 0\n",
    "    for t in range(T):\n",
    "        for i in get_order(feature_matrix.shape[0]):\n",
    "             w,w0=perceptron_single_step_update(X[i,:], Y[i], w, w0)\n",
    "    return (w,w0)"
   ]
  },
  {
   "cell_type": "code",
   "execution_count": null,
   "id": "4085ddef",
   "metadata": {},
   "outputs": [],
   "source": [
    "def average_perceptron(feature_matrix, labels, T):\n",
    "\n",
    "    \n",
    "    update=(np.zeros(feature_matrix.shape[1]),0) \n",
    "    theta_sum=np.array(update[0])\n",
    "    theta_0_sum=update[1]\n",
    "    count=0\n",
    "    for t in range(T):\n",
    "        for i in get_order(feature_matrix.shape[0]):\n",
    "            update=perceptron_single_step_update(feature_matrix[i],labels[i],update[0],update[1])\n",
    "            theta_sum=theta_sum+np.array(update[0])\n",
    "            theta_0_sum=theta_0_sum+update[1]\n",
    "            count=count+1\n",
    "            \n",
    "    avg_theta=theta_sum/count\n",
    "    avg_theta_0=theta_0_sum/count\n",
    "    \n",
    "    return (avg_theta,avg_theta_0)"
   ]
  },
  {
   "cell_type": "code",
   "execution_count": null,
   "id": "e07a124e",
   "metadata": {},
   "outputs": [],
   "source": []
  },
  {
   "cell_type": "code",
   "execution_count": 33,
   "id": "e0a44c9e",
   "metadata": {},
   "outputs": [
    {
     "data": {
      "text/plain": [
       "1.2999999999999998"
      ]
     },
     "execution_count": 33,
     "metadata": {},
     "output_type": "execute_result"
    }
   ],
   "source": [
    "empirical_risk_hinge_loss_single_step(x2,y2,w)"
   ]
  },
  {
   "cell_type": "code",
   "execution_count": 34,
   "id": "e5600c6c",
   "metadata": {},
   "outputs": [
    {
     "data": {
      "text/plain": [
       "1"
      ]
     },
     "execution_count": 34,
     "metadata": {},
     "output_type": "execute_result"
    }
   ],
   "source": [
    "empirical_risk_hinge_loss_single_step(x1,y1,w)"
   ]
  },
  {
   "cell_type": "code",
   "execution_count": 35,
   "id": "8bf163aa",
   "metadata": {},
   "outputs": [
    {
     "data": {
      "text/plain": [
       "0.7"
      ]
     },
     "execution_count": 35,
     "metadata": {},
     "output_type": "execute_result"
    }
   ],
   "source": [
    "empirical_risk_hinge_loss_single_step(x3,y3,w)"
   ]
  },
  {
   "cell_type": "code",
   "execution_count": 36,
   "id": "327d4abc",
   "metadata": {},
   "outputs": [
    {
     "data": {
      "text/plain": [
       "2"
      ]
     },
     "execution_count": 36,
     "metadata": {},
     "output_type": "execute_result"
    }
   ],
   "source": [
    "empirical_risk_hinge_loss_single_step(x4,y4,w)"
   ]
  },
  {
   "cell_type": "code",
   "execution_count": null,
   "id": "171d2d0b",
   "metadata": {},
   "outputs": [],
   "source": []
  },
  {
   "cell_type": "code",
   "execution_count": null,
   "id": "d3f9804e",
   "metadata": {},
   "outputs": [],
   "source": []
  },
  {
   "cell_type": "code",
   "execution_count": 27,
   "id": "12d4bc45",
   "metadata": {},
   "outputs": [
    {
     "data": {
      "text/plain": [
       "array([ 2. ,  2.7, -0.7,  2. ])"
      ]
     },
     "execution_count": 27,
     "metadata": {},
     "output_type": "execute_result"
    }
   ],
   "source": [
    "\n"
   ]
  },
  {
   "cell_type": "code",
   "execution_count": null,
   "id": "095eb606",
   "metadata": {},
   "outputs": [],
   "source": []
  },
  {
   "cell_type": "code",
   "execution_count": null,
   "id": "26082a34",
   "metadata": {},
   "outputs": [],
   "source": []
  },
  {
   "cell_type": "code",
   "execution_count": null,
   "id": "002428fc",
   "metadata": {},
   "outputs": [],
   "source": []
  },
  {
   "cell_type": "code",
   "execution_count": null,
   "id": "6a88ddfd",
   "metadata": {},
   "outputs": [],
   "source": []
  },
  {
   "cell_type": "code",
   "execution_count": null,
   "id": "45f37d5b",
   "metadata": {},
   "outputs": [],
   "source": []
  },
  {
   "cell_type": "code",
   "execution_count": null,
   "id": "e20a5d07",
   "metadata": {},
   "outputs": [],
   "source": []
  },
  {
   "cell_type": "code",
   "execution_count": null,
   "id": "cc6b6274",
   "metadata": {},
   "outputs": [],
   "source": []
  }
 ],
 "metadata": {
  "kernelspec": {
   "display_name": "Python 3 (ipykernel)",
   "language": "python",
   "name": "python3"
  },
  "language_info": {
   "codemirror_mode": {
    "name": "ipython",
    "version": 3
   },
   "file_extension": ".py",
   "mimetype": "text/x-python",
   "name": "python",
   "nbconvert_exporter": "python",
   "pygments_lexer": "ipython3",
   "version": "3.8.12"
  }
 },
 "nbformat": 4,
 "nbformat_minor": 5
}
