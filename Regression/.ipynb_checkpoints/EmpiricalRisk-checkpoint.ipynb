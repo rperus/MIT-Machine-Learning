{
 "cells": [
  {
   "cell_type": "code",
   "execution_count": 1,
   "id": "4cace0ea",
   "metadata": {},
   "outputs": [],
   "source": [
    "import numpy as np"
   ]
  },
  {
   "cell_type": "markdown",
   "id": "1a5021e5",
   "metadata": {},
   "source": [
    "# Compute Hinge Loss\n"
   ]
  },
  {
   "cell_type": "code",
   "execution_count": 126,
   "id": "61f3b4e4",
   "metadata": {},
   "outputs": [],
   "source": [
    "\n",
    "# y1 = 2\n",
    "# y2 = 2.7\n",
    "# y3 = -.7\n",
    "# y4 = 2\n",
    "# x1 = np.array([1, 0, 1])\n",
    "# x2 = np.array([1, 1, 1])\n",
    "# x3 = np.array([1, 1, -1])\n",
    "# x4 = np.array([-1, 1, 1])\n",
    "# w = np.array([0, 1, 2])\n",
    "# wt = np.transpose(w)"
   ]
  },
  {
   "cell_type": "code",
   "execution_count": null,
   "id": "0b417138",
   "metadata": {},
   "outputs": [],
   "source": []
  },
  {
   "cell_type": "code",
   "execution_count": 55,
   "id": "11313cf1",
   "metadata": {},
   "outputs": [],
   "source": [
    "x= np.matrix([[1, 0, 1],\n",
    "               [1, 1, 1],\n",
    "               [1, 1, -1],\n",
    "               [-1, 1, 1]\n",
    "              ])\n",
    "y = np.array([2, 2.7, -.7,2]) \n",
    "w = np.array([0, 1, 2])"
   ]
  },
  {
   "cell_type": "code",
   "execution_count": 31,
   "id": "66a8c76c",
   "metadata": {},
   "outputs": [],
   "source": [
    "def empirical_risk_hinge_loss_single_step(feature_vector,label,current_theta):\n",
    "    X=feature_vector\n",
    "    Y=label\n",
    "    w=current_theta\n",
    "    \n",
    "    if (Y-np.dot(w,X)) >= 1:\n",
    "        L = 0\n",
    "    else:\n",
    "        L = 1- (Y-np.dot(w,X))\n",
    "    return (L)\n"
   ]
  },
  {
   "cell_type": "code",
   "execution_count": 124,
   "id": "6d481979",
   "metadata": {},
   "outputs": [],
   "source": [
    "def empirical_risk_hinge_loss(feature_matrix, labels, current_theta):\n",
    "\n",
    "    X=feature_matrix\n",
    "    Y=labels\n",
    "    w=current_theta\n",
    "    sum=0\n",
    "    T=X.shape[0]\n",
    "#     wL=[]\n",
    "    for i in range(T):\n",
    "        L=empirical_risk_hinge_loss_single_step(np.transpose(X[i]), Y[i], w)\n",
    "        sum=L+sum\n",
    "#         wL=np.wL.append(L)\n",
    "    return (sum/T)"
   ]
  },
  {
   "cell_type": "code",
   "execution_count": 125,
   "id": "0955253b",
   "metadata": {},
   "outputs": [
    {
     "data": {
      "text/plain": [
       "matrix([[1.25]])"
      ]
     },
     "execution_count": 125,
     "metadata": {},
     "output_type": "execute_result"
    }
   ],
   "source": [
    "empirical_risk_hinge_loss(x, y, w)"
   ]
  },
  {
   "cell_type": "markdown",
   "id": "77eaf406",
   "metadata": {},
   "source": [
    "# Compute Squared Error Loss\n"
   ]
  },
  {
   "cell_type": "code",
   "execution_count": null,
   "id": "287db380",
   "metadata": {},
   "outputs": [],
   "source": [
    "def empirical_risk_hinge_loss_single_step_squared(feature_vector,label,current_theta):\n",
    "    X=feature_vector\n",
    "    Y=label\n",
    "    w=current_theta\n",
    "    \n",
    "    if (Y-np.dot(w,X)) >= 1:\n",
    "        L = 0\n",
    "    else:\n",
    "        L = 1- (Y-np.dot(w,X))\n",
    "    return (L)"
   ]
  },
  {
   "cell_type": "code",
   "execution_count": null,
   "id": "97fcb366",
   "metadata": {},
   "outputs": [],
   "source": []
  },
  {
   "cell_type": "code",
   "execution_count": 202,
   "id": "bc4296e0",
   "metadata": {},
   "outputs": [],
   "source": [
    "x= np.matrix([[1, 0, 1],\n",
    "               [1, 1, 1],\n",
    "               [1, 1, -1],\n",
    "               [-1, 1, 1]\n",
    "              ])\n",
    "y = np.array([2, 2.7, -.7,2]) \n",
    "w = np.array([0, 1, 2])"
   ]
  },
  {
   "cell_type": "code",
   "execution_count": 177,
   "id": "c4fc8b88",
   "metadata": {},
   "outputs": [
    {
     "ename": "SyntaxError",
     "evalue": "unexpected EOF while parsing (Temp/ipykernel_12796/3829273478.py, line 1)",
     "output_type": "error",
     "traceback": [
      "\u001b[1;36m  File \u001b[1;32m\"C:\\Users\\rperu\\AppData\\Local\\Temp/ipykernel_12796/3829273478.py\"\u001b[1;36m, line \u001b[1;32m1\u001b[0m\n\u001b[1;33m    L=(y[1]-int(np.dot(x[1],w))\u001b[0m\n\u001b[1;37m                               ^\u001b[0m\n\u001b[1;31mSyntaxError\u001b[0m\u001b[1;31m:\u001b[0m unexpected EOF while parsing\n"
     ]
    }
   ],
   "source": [
    " L=(y[1]-int(np.dot(x[1],w))"
   ]
  },
  {
   "cell_type": "code",
   "execution_count": 186,
   "id": "db631907",
   "metadata": {},
   "outputs": [
    {
     "data": {
      "text/plain": [
       "2.7"
      ]
     },
     "execution_count": 186,
     "metadata": {},
     "output_type": "execute_result"
    }
   ],
   "source": [
    "z=y[1]\n",
    "z"
   ]
  },
  {
   "cell_type": "code",
   "execution_count": 194,
   "id": "52e6fb34",
   "metadata": {},
   "outputs": [
    {
     "data": {
      "text/plain": [
       "matrix([[3]])"
      ]
     },
     "execution_count": 194,
     "metadata": {},
     "output_type": "execute_result"
    }
   ],
   "source": [
    "x=np.dot(x[1],w)\n",
    "x"
   ]
  },
  {
   "cell_type": "code",
   "execution_count": 182,
   "id": "8b1556a8",
   "metadata": {},
   "outputs": [
    {
     "data": {
      "text/plain": [
       "-0.2999999999999998"
      ]
     },
     "execution_count": 182,
     "metadata": {},
     "output_type": "execute_result"
    }
   ],
   "source": [
    "z-x"
   ]
  },
  {
   "cell_type": "code",
   "execution_count": 199,
   "id": "7e498738",
   "metadata": {},
   "outputs": [
    {
     "data": {
      "text/plain": [
       "-1"
      ]
     },
     "execution_count": 199,
     "metadata": {},
     "output_type": "execute_result"
    }
   ],
   "source": [
    "int(y[1])-int(np.dot(x[1],w))"
   ]
  },
  {
   "cell_type": "code",
   "execution_count": null,
   "id": "a2be42ee",
   "metadata": {},
   "outputs": [],
   "source": [
    "y[1]-int(np.dot(x[1],w))"
   ]
  },
  {
   "cell_type": "code",
   "execution_count": 215,
   "id": "63e72462",
   "metadata": {},
   "outputs": [],
   "source": [
    "def empirical_risk_hinge_loss_squared(feature_matrix, labels, current_theta):\n",
    "\n",
    "    X=feature_matrix\n",
    "    Y=labels\n",
    "    w=current_theta\n",
    "    sum=0\n",
    "    T=X.shape[0]\n",
    "\n",
    "    for i in range(T):\n",
    "          \n",
    "        L=(Y[i]-np.dot(w,np.transpose(X[i])))\n",
    "        sum = L + sum\n",
    "#         wL=np.wL.append(L)\n",
    "    return (sum/T)"
   ]
  },
  {
   "cell_type": "code",
   "execution_count": 216,
   "id": "90ee400d",
   "metadata": {},
   "outputs": [
    {
     "data": {
      "text/plain": [
       "matrix([[-0.25]])"
      ]
     },
     "execution_count": 216,
     "metadata": {},
     "output_type": "execute_result"
    }
   ],
   "source": [
    "empirical_risk_hinge_loss_squared(x,y,w)"
   ]
  },
  {
   "cell_type": "code",
   "execution_count": null,
   "id": "a682a4e5",
   "metadata": {},
   "outputs": [],
   "source": []
  },
  {
   "cell_type": "code",
   "execution_count": 165,
   "id": "27d75827",
   "metadata": {},
   "outputs": [],
   "source": [
    "L=(y[1]-np.dot(w,np.transpose(x[1])))\n"
   ]
  },
  {
   "cell_type": "code",
   "execution_count": 166,
   "id": "7a22d3ec",
   "metadata": {},
   "outputs": [],
   "source": [
    "L=(y-np.dot(w,np.transpose(x)))"
   ]
  },
  {
   "cell_type": "code",
   "execution_count": 163,
   "id": "84510cff",
   "metadata": {},
   "outputs": [
    {
     "data": {
      "text/plain": [
       "3"
      ]
     },
     "execution_count": 163,
     "metadata": {},
     "output_type": "execute_result"
    }
   ],
   "source": [
    "sum=2\n",
    "L=1\n",
    "sum = L + sum\n",
    "sum"
   ]
  },
  {
   "cell_type": "code",
   "execution_count": 141,
   "id": "e46ebf60",
   "metadata": {},
   "outputs": [
    {
     "ename": "ValueError",
     "evalue": "shapes (3,) and (1,3) not aligned: 3 (dim 0) != 1 (dim 0)",
     "output_type": "error",
     "traceback": [
      "\u001b[1;31m---------------------------------------------------------------------------\u001b[0m",
      "\u001b[1;31mValueError\u001b[0m                                Traceback (most recent call last)",
      "\u001b[1;32m~\\AppData\\Local\\Temp/ipykernel_12796/1427317690.py\u001b[0m in \u001b[0;36m<module>\u001b[1;34m\u001b[0m\n\u001b[1;32m----> 1\u001b[1;33m \u001b[0mnp\u001b[0m\u001b[1;33m.\u001b[0m\u001b[0mdot\u001b[0m\u001b[1;33m(\u001b[0m\u001b[0mw\u001b[0m\u001b[1;33m,\u001b[0m\u001b[0mx\u001b[0m\u001b[1;33m[\u001b[0m\u001b[1;36m1\u001b[0m\u001b[1;33m]\u001b[0m\u001b[1;33m)\u001b[0m\u001b[1;33m\u001b[0m\u001b[1;33m\u001b[0m\u001b[0m\n\u001b[0m",
      "\u001b[1;32m<__array_function__ internals>\u001b[0m in \u001b[0;36mdot\u001b[1;34m(*args, **kwargs)\u001b[0m\n",
      "\u001b[1;31mValueError\u001b[0m: shapes (3,) and (1,3) not aligned: 3 (dim 0) != 1 (dim 0)"
     ]
    }
   ],
   "source": [
    "np.dot(w,x[1])"
   ]
  },
  {
   "cell_type": "code",
   "execution_count": 137,
   "id": "a29b35fa",
   "metadata": {},
   "outputs": [
    {
     "data": {
      "text/plain": [
       "matrix([[1, 1, 1]])"
      ]
     },
     "execution_count": 137,
     "metadata": {},
     "output_type": "execute_result"
    }
   ],
   "source": [
    "x[1]"
   ]
  },
  {
   "cell_type": "code",
   "execution_count": null,
   "id": "8bffd307",
   "metadata": {},
   "outputs": [],
   "source": []
  },
  {
   "cell_type": "code",
   "execution_count": null,
   "id": "e7ab362f",
   "metadata": {},
   "outputs": [],
   "source": []
  },
  {
   "cell_type": "code",
   "execution_count": null,
   "id": "22edd73c",
   "metadata": {},
   "outputs": [],
   "source": []
  },
  {
   "cell_type": "code",
   "execution_count": null,
   "id": "2f2a4890",
   "metadata": {},
   "outputs": [],
   "source": []
  },
  {
   "cell_type": "code",
   "execution_count": null,
   "id": "d1535b1e",
   "metadata": {},
   "outputs": [],
   "source": []
  },
  {
   "cell_type": "code",
   "execution_count": null,
   "id": "6692a6b1",
   "metadata": {},
   "outputs": [],
   "source": []
  },
  {
   "cell_type": "code",
   "execution_count": null,
   "id": "eaf93f77",
   "metadata": {},
   "outputs": [],
   "source": [
    "def perceptron(feature_matrix, labels, T):\n",
    "\n",
    "    \n",
    "    # Your code here\n",
    "    X=feature_matrix\n",
    "    Y=labels\n",
    "    w = np.zeros(len(X[0]))\n",
    "    w0 = 0\n",
    "    for t in range(T):\n",
    "        for i in get_order(feature_matrix.shape[0]):\n",
    "             w,w0=perceptron_single_step_update(X[i,:], Y[i], w, w0)\n",
    "    return (w,w0)"
   ]
  },
  {
   "cell_type": "code",
   "execution_count": null,
   "id": "3e90409b",
   "metadata": {},
   "outputs": [],
   "source": [
    "def average_perceptron(feature_matrix, labels, T):\n",
    "\n",
    "    \n",
    "    update=(np.zeros(feature_matrix.shape[1]),0) \n",
    "    theta_sum=np.array(update[0])\n",
    "    theta_0_sum=update[1]\n",
    "    count=0\n",
    "    for t in range(T):\n",
    "        for i in get_order(feature_matrix.shape[0]):\n",
    "            update=perceptron_single_step_update(feature_matrix[i],labels[i],update[0],update[1])\n",
    "            theta_sum=theta_sum+np.array(update[0])\n",
    "            theta_0_sum=theta_0_sum+update[1]\n",
    "            count=count+1\n",
    "            \n",
    "    avg_theta=theta_sum/count\n",
    "    avg_theta_0=theta_0_sum/count\n",
    "    \n",
    "    return (avg_theta,avg_theta_0)"
   ]
  },
  {
   "cell_type": "code",
   "execution_count": null,
   "id": "a6512944",
   "metadata": {},
   "outputs": [],
   "source": []
  },
  {
   "cell_type": "code",
   "execution_count": 33,
   "id": "a9e95a3a",
   "metadata": {},
   "outputs": [
    {
     "data": {
      "text/plain": [
       "1.2999999999999998"
      ]
     },
     "execution_count": 33,
     "metadata": {},
     "output_type": "execute_result"
    }
   ],
   "source": [
    "empirical_risk_hinge_loss_single_step(x2,y2,w)"
   ]
  },
  {
   "cell_type": "code",
   "execution_count": 34,
   "id": "035b545f",
   "metadata": {},
   "outputs": [
    {
     "data": {
      "text/plain": [
       "1"
      ]
     },
     "execution_count": 34,
     "metadata": {},
     "output_type": "execute_result"
    }
   ],
   "source": [
    "empirical_risk_hinge_loss_single_step(x1,y1,w)"
   ]
  },
  {
   "cell_type": "code",
   "execution_count": 35,
   "id": "d7242046",
   "metadata": {},
   "outputs": [
    {
     "data": {
      "text/plain": [
       "0.7"
      ]
     },
     "execution_count": 35,
     "metadata": {},
     "output_type": "execute_result"
    }
   ],
   "source": [
    "empirical_risk_hinge_loss_single_step(x3,y3,w)"
   ]
  },
  {
   "cell_type": "code",
   "execution_count": 36,
   "id": "dad08874",
   "metadata": {},
   "outputs": [
    {
     "data": {
      "text/plain": [
       "2"
      ]
     },
     "execution_count": 36,
     "metadata": {},
     "output_type": "execute_result"
    }
   ],
   "source": [
    "empirical_risk_hinge_loss_single_step(x4,y4,w)"
   ]
  },
  {
   "cell_type": "code",
   "execution_count": null,
   "id": "8a884717",
   "metadata": {},
   "outputs": [],
   "source": []
  },
  {
   "cell_type": "code",
   "execution_count": null,
   "id": "56c32fb2",
   "metadata": {},
   "outputs": [],
   "source": []
  },
  {
   "cell_type": "code",
   "execution_count": 27,
   "id": "588e496b",
   "metadata": {},
   "outputs": [
    {
     "data": {
      "text/plain": [
       "array([ 2. ,  2.7, -0.7,  2. ])"
      ]
     },
     "execution_count": 27,
     "metadata": {},
     "output_type": "execute_result"
    }
   ],
   "source": [
    "\n"
   ]
  },
  {
   "cell_type": "code",
   "execution_count": null,
   "id": "12ba56d3",
   "metadata": {},
   "outputs": [],
   "source": []
  },
  {
   "cell_type": "code",
   "execution_count": null,
   "id": "cedea9a2",
   "metadata": {},
   "outputs": [],
   "source": []
  },
  {
   "cell_type": "code",
   "execution_count": null,
   "id": "726d1460",
   "metadata": {},
   "outputs": [],
   "source": []
  },
  {
   "cell_type": "code",
   "execution_count": null,
   "id": "5490210e",
   "metadata": {},
   "outputs": [],
   "source": []
  },
  {
   "cell_type": "code",
   "execution_count": null,
   "id": "dbe97db5",
   "metadata": {},
   "outputs": [],
   "source": []
  },
  {
   "cell_type": "code",
   "execution_count": null,
   "id": "fd41e88b",
   "metadata": {},
   "outputs": [],
   "source": []
  },
  {
   "cell_type": "code",
   "execution_count": null,
   "id": "2b6ceeca",
   "metadata": {},
   "outputs": [],
   "source": []
  }
 ],
 "metadata": {
  "kernelspec": {
   "display_name": "Python 3 (ipykernel)",
   "language": "python",
   "name": "python3"
  },
  "language_info": {
   "codemirror_mode": {
    "name": "ipython",
    "version": 3
   },
   "file_extension": ".py",
   "mimetype": "text/x-python",
   "name": "python",
   "nbconvert_exporter": "python",
   "pygments_lexer": "ipython3",
   "version": "3.8.12"
  }
 },
 "nbformat": 4,
 "nbformat_minor": 5
}
